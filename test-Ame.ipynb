{
 "cells": [
  {
   "cell_type": "code",
   "execution_count": 10,
   "metadata": {},
   "outputs": [],
   "source": [
    "import pandas as pd\n",
    "import numpy as np\n",
    "from datetime import *\n",
    "import networkx as nx\n",
    "from collections import *\n",
    "from tqdm.notebook import tqdm\n",
    "\n",
    "import dask\n",
    "from multiprocessing.dummy import Pool\n",
    "import multiprocessing\n",
    "import matplotlib.pyplot as plt\n",
    "import networkx.drawing\n",
    "import pickle"
   ]
  },
  {
   "cell_type": "code",
   "execution_count": 2,
   "metadata": {},
   "outputs": [],
   "source": [
    "def dateparse(time_as_a_unix_timestamp):\n",
    "    return pd.to_datetime(time_as_a_unix_timestamp, unit=\"s\").strftime(\"%Y-%m-%d %H:%M\")"
   ]
  },
  {
   "cell_type": "code",
   "execution_count": 3,
   "metadata": {},
   "outputs": [],
   "source": [
    "class display(object):\n",
    "    \"\"\"Display HTML representation of multiple objects\"\"\"\n",
    "    template = \"\"\"<div style=\"float: left; padding: 10px;\">\n",
    "    <p style='font-family:\"Courier New\", Courier, monospace'>{0}</p>{1}\n",
    "    </div>\"\"\"\n",
    "    def __init__(self, *args):\n",
    "        self.args = args\n",
    "        \n",
    "    def _repr_html_(self):\n",
    "        return '\\n'.join(self.template.format(a, eval(a)._repr_html_())\n",
    "                         for a in self.args)\n",
    "    \n",
    "    def __repr__(self):\n",
    "        return '\\n\\n'.join(a + '\\n' + repr(eval(a))\n",
    "                           for a in self.args)"
   ]
  },
  {
   "cell_type": "markdown",
   "metadata": {},
   "source": [
    "## 1. Data"
   ]
  },
  {
   "cell_type": "code",
   "execution_count": 4,
   "metadata": {},
   "outputs": [],
   "source": [
    "#Answers to questions\n",
    "a2q = pd.read_csv(\"sx-stackoverflow-a2q.txt\", sep=\" \" ,header=None, names=[\"user_a\", \"user_b\", \"time\"], parse_dates=[\"time\"], date_parser=dateparse)\n",
    "\n",
    "#Comments to answers\n",
    "c2a = pd.read_csv(\"sx-stackoverflow-c2a.txt\", sep=\" \" ,header=None, names=[\"user_a\", \"user_b\", \"time\"], parse_dates=[\"time\"], date_parser=dateparse)\n",
    "\n",
    "#Comments to questions\n",
    "c2q = pd.read_csv(\"sx-stackoverflow-c2q.txt\", sep=\" \" ,header=None, names=[\"user_a\", \"user_b\", \"time\"], parse_dates=[\"time\"], date_parser=dateparse)"
   ]
  },
  {
   "cell_type": "markdown",
   "metadata": {},
   "source": [
    "In the merged graph we have weighted link and we have decided to build these weights in the following way:\n",
    "-  we have assigned a score of 1.0 to \"Answers to questions\"\n",
    "-  we have assigned a score of 0.7 to \"Comments to questions\"\n",
    "-  we have assigned a score of 0.4 to \"Comments to answers\"\n",
    "\n",
    "The reasons are that we have thought that the answers to questions are the more relevant in the merged graph because they are possible solutions of user's question. Then a bit less important are comments to questions, but they could be relevant to clarify the question or specify something. Comments to answer are the least relevant, but we have not wanted to penalize them too much because in some situations they could be useful."
   ]
  },
  {
   "cell_type": "code",
   "execution_count": 5,
   "metadata": {},
   "outputs": [],
   "source": [
    "#Answers to questions\n",
    "a2q[\"weights\"] = 1\n",
    "\n",
    "#Comments to answers\n",
    "c2a[\"weights\"] = 0.4\n",
    "\n",
    "#Comments to questions\n",
    "c2q[\"weights\"] = 0.7"
   ]
  },
  {
   "cell_type": "markdown",
   "metadata": {},
   "source": [
    "Nice and simultaneous visualization of the three file!"
   ]
  },
  {
   "cell_type": "code",
   "execution_count": 6,
   "metadata": {},
   "outputs": [
    {
     "data": {
      "text/html": [
       "<div style=\"float: left; padding: 10px;\">\n",
       "    <p style='font-family:\"Courier New\", Courier, monospace'>a2q</p><div>\n",
       "<style scoped>\n",
       "    .dataframe tbody tr th:only-of-type {\n",
       "        vertical-align: middle;\n",
       "    }\n",
       "\n",
       "    .dataframe tbody tr th {\n",
       "        vertical-align: top;\n",
       "    }\n",
       "\n",
       "    .dataframe thead th {\n",
       "        text-align: right;\n",
       "    }\n",
       "</style>\n",
       "<table border=\"1\" class=\"dataframe\">\n",
       "  <thead>\n",
       "    <tr style=\"text-align: right;\">\n",
       "      <th></th>\n",
       "      <th>user_a</th>\n",
       "      <th>user_b</th>\n",
       "      <th>time</th>\n",
       "      <th>weights</th>\n",
       "    </tr>\n",
       "  </thead>\n",
       "  <tbody>\n",
       "    <tr>\n",
       "      <th>0</th>\n",
       "      <td>9</td>\n",
       "      <td>8</td>\n",
       "      <td>2008-08-01 05:17:00</td>\n",
       "      <td>1</td>\n",
       "    </tr>\n",
       "    <tr>\n",
       "      <th>1</th>\n",
       "      <td>1</td>\n",
       "      <td>1</td>\n",
       "      <td>2008-08-01 06:56:00</td>\n",
       "      <td>1</td>\n",
       "    </tr>\n",
       "    <tr>\n",
       "      <th>2</th>\n",
       "      <td>13</td>\n",
       "      <td>1</td>\n",
       "      <td>2008-08-01 15:57:00</td>\n",
       "      <td>1</td>\n",
       "    </tr>\n",
       "    <tr>\n",
       "      <th>3</th>\n",
       "      <td>17</td>\n",
       "      <td>1</td>\n",
       "      <td>2008-08-01 19:07:00</td>\n",
       "      <td>1</td>\n",
       "    </tr>\n",
       "    <tr>\n",
       "      <th>4</th>\n",
       "      <td>48</td>\n",
       "      <td>2</td>\n",
       "      <td>2008-08-01 19:16:00</td>\n",
       "      <td>1</td>\n",
       "    </tr>\n",
       "    <tr>\n",
       "      <th>...</th>\n",
       "      <td>...</td>\n",
       "      <td>...</td>\n",
       "      <td>...</td>\n",
       "      <td>...</td>\n",
       "    </tr>\n",
       "    <tr>\n",
       "      <th>17823520</th>\n",
       "      <td>2773607</td>\n",
       "      <td>1048138</td>\n",
       "      <td>2016-03-06 12:16:00</td>\n",
       "      <td>1</td>\n",
       "    </tr>\n",
       "    <tr>\n",
       "      <th>17823521</th>\n",
       "      <td>6018278</td>\n",
       "      <td>1982354</td>\n",
       "      <td>2016-03-06 12:16:00</td>\n",
       "      <td>1</td>\n",
       "    </tr>\n",
       "    <tr>\n",
       "      <th>17823522</th>\n",
       "      <td>3187183</td>\n",
       "      <td>1404306</td>\n",
       "      <td>2016-03-06 12:17:00</td>\n",
       "      <td>1</td>\n",
       "    </tr>\n",
       "    <tr>\n",
       "      <th>17823523</th>\n",
       "      <td>6022341</td>\n",
       "      <td>1667278</td>\n",
       "      <td>2016-03-06 12:17:00</td>\n",
       "      <td>1</td>\n",
       "    </tr>\n",
       "    <tr>\n",
       "      <th>17823524</th>\n",
       "      <td>6018304</td>\n",
       "      <td>6024256</td>\n",
       "      <td>2016-03-06 12:18:00</td>\n",
       "      <td>1</td>\n",
       "    </tr>\n",
       "  </tbody>\n",
       "</table>\n",
       "<p>17823525 rows × 4 columns</p>\n",
       "</div>\n",
       "    </div>\n",
       "<div style=\"float: left; padding: 10px;\">\n",
       "    <p style='font-family:\"Courier New\", Courier, monospace'>c2a</p><div>\n",
       "<style scoped>\n",
       "    .dataframe tbody tr th:only-of-type {\n",
       "        vertical-align: middle;\n",
       "    }\n",
       "\n",
       "    .dataframe tbody tr th {\n",
       "        vertical-align: top;\n",
       "    }\n",
       "\n",
       "    .dataframe thead th {\n",
       "        text-align: right;\n",
       "    }\n",
       "</style>\n",
       "<table border=\"1\" class=\"dataframe\">\n",
       "  <thead>\n",
       "    <tr style=\"text-align: right;\">\n",
       "      <th></th>\n",
       "      <th>user_a</th>\n",
       "      <th>user_b</th>\n",
       "      <th>time</th>\n",
       "      <th>weights</th>\n",
       "    </tr>\n",
       "  </thead>\n",
       "  <tbody>\n",
       "    <tr>\n",
       "      <th>0</th>\n",
       "      <td>1</td>\n",
       "      <td>91</td>\n",
       "      <td>2008-09-06 15:07:00</td>\n",
       "      <td>0.4</td>\n",
       "    </tr>\n",
       "    <tr>\n",
       "      <th>1</th>\n",
       "      <td>3</td>\n",
       "      <td>91</td>\n",
       "      <td>2008-09-06 15:09:00</td>\n",
       "      <td>0.4</td>\n",
       "    </tr>\n",
       "    <tr>\n",
       "      <th>2</th>\n",
       "      <td>380</td>\n",
       "      <td>350</td>\n",
       "      <td>2008-09-06 15:42:00</td>\n",
       "      <td>0.4</td>\n",
       "    </tr>\n",
       "    <tr>\n",
       "      <th>3</th>\n",
       "      <td>4642</td>\n",
       "      <td>2257</td>\n",
       "      <td>2008-09-06 20:51:00</td>\n",
       "      <td>0.4</td>\n",
       "    </tr>\n",
       "    <tr>\n",
       "      <th>4</th>\n",
       "      <td>4642</td>\n",
       "      <td>1324220</td>\n",
       "      <td>2008-09-06 21:15:00</td>\n",
       "      <td>0.4</td>\n",
       "    </tr>\n",
       "    <tr>\n",
       "      <th>...</th>\n",
       "      <td>...</td>\n",
       "      <td>...</td>\n",
       "      <td>...</td>\n",
       "      <td>...</td>\n",
       "    </tr>\n",
       "    <tr>\n",
       "      <th>25405369</th>\n",
       "      <td>144088</td>\n",
       "      <td>347727</td>\n",
       "      <td>2016-03-06 14:08:00</td>\n",
       "      <td>0.4</td>\n",
       "    </tr>\n",
       "    <tr>\n",
       "      <th>25405370</th>\n",
       "      <td>5878860</td>\n",
       "      <td>1330341</td>\n",
       "      <td>2016-03-06 14:09:00</td>\n",
       "      <td>0.4</td>\n",
       "    </tr>\n",
       "    <tr>\n",
       "      <th>25405371</th>\n",
       "      <td>144088</td>\n",
       "      <td>98207</td>\n",
       "      <td>2016-03-06 14:09:00</td>\n",
       "      <td>0.4</td>\n",
       "    </tr>\n",
       "    <tr>\n",
       "      <th>25405372</th>\n",
       "      <td>4049257</td>\n",
       "      <td>3816212</td>\n",
       "      <td>2016-03-06 14:09:00</td>\n",
       "      <td>0.4</td>\n",
       "    </tr>\n",
       "    <tr>\n",
       "      <th>25405373</th>\n",
       "      <td>144088</td>\n",
       "      <td>275047</td>\n",
       "      <td>2016-03-06 14:10:00</td>\n",
       "      <td>0.4</td>\n",
       "    </tr>\n",
       "  </tbody>\n",
       "</table>\n",
       "<p>25405374 rows × 4 columns</p>\n",
       "</div>\n",
       "    </div>\n",
       "<div style=\"float: left; padding: 10px;\">\n",
       "    <p style='font-family:\"Courier New\", Courier, monospace'>c2q</p><div>\n",
       "<style scoped>\n",
       "    .dataframe tbody tr th:only-of-type {\n",
       "        vertical-align: middle;\n",
       "    }\n",
       "\n",
       "    .dataframe tbody tr th {\n",
       "        vertical-align: top;\n",
       "    }\n",
       "\n",
       "    .dataframe thead th {\n",
       "        text-align: right;\n",
       "    }\n",
       "</style>\n",
       "<table border=\"1\" class=\"dataframe\">\n",
       "  <thead>\n",
       "    <tr style=\"text-align: right;\">\n",
       "      <th></th>\n",
       "      <th>user_a</th>\n",
       "      <th>user_b</th>\n",
       "      <th>time</th>\n",
       "      <th>weights</th>\n",
       "    </tr>\n",
       "  </thead>\n",
       "  <tbody>\n",
       "    <tr>\n",
       "      <th>0</th>\n",
       "      <td>4550</td>\n",
       "      <td>4550</td>\n",
       "      <td>2008-09-06 19:26:00</td>\n",
       "      <td>0.7</td>\n",
       "    </tr>\n",
       "    <tr>\n",
       "      <th>1</th>\n",
       "      <td>242</td>\n",
       "      <td>184</td>\n",
       "      <td>2008-09-06 20:38:00</td>\n",
       "      <td>0.7</td>\n",
       "    </tr>\n",
       "    <tr>\n",
       "      <th>2</th>\n",
       "      <td>4213</td>\n",
       "      <td>4946</td>\n",
       "      <td>2008-09-07 06:15:00</td>\n",
       "      <td>0.7</td>\n",
       "    </tr>\n",
       "    <tr>\n",
       "      <th>3</th>\n",
       "      <td>91</td>\n",
       "      <td>91</td>\n",
       "      <td>2008-09-07 06:18:00</td>\n",
       "      <td>0.7</td>\n",
       "    </tr>\n",
       "    <tr>\n",
       "      <th>4</th>\n",
       "      <td>2658</td>\n",
       "      <td>1874</td>\n",
       "      <td>2008-09-07 07:18:00</td>\n",
       "      <td>0.7</td>\n",
       "    </tr>\n",
       "    <tr>\n",
       "      <th>...</th>\n",
       "      <td>...</td>\n",
       "      <td>...</td>\n",
       "      <td>...</td>\n",
       "      <td>...</td>\n",
       "    </tr>\n",
       "    <tr>\n",
       "      <th>20268146</th>\n",
       "      <td>1177890</td>\n",
       "      <td>4917254</td>\n",
       "      <td>2016-03-06 14:06:00</td>\n",
       "      <td>0.7</td>\n",
       "    </tr>\n",
       "    <tr>\n",
       "      <th>20268147</th>\n",
       "      <td>3345375</td>\n",
       "      <td>4022289</td>\n",
       "      <td>2016-03-06 14:08:00</td>\n",
       "      <td>0.7</td>\n",
       "    </tr>\n",
       "    <tr>\n",
       "      <th>20268148</th>\n",
       "      <td>3507137</td>\n",
       "      <td>1801524</td>\n",
       "      <td>2016-03-06 14:09:00</td>\n",
       "      <td>0.7</td>\n",
       "    </tr>\n",
       "    <tr>\n",
       "      <th>20268149</th>\n",
       "      <td>5617035</td>\n",
       "      <td>4368648</td>\n",
       "      <td>2016-03-06 14:10:00</td>\n",
       "      <td>0.7</td>\n",
       "    </tr>\n",
       "    <tr>\n",
       "      <th>20268150</th>\n",
       "      <td>5579164</td>\n",
       "      <td>5579164</td>\n",
       "      <td>2016-03-06 14:10:00</td>\n",
       "      <td>0.7</td>\n",
       "    </tr>\n",
       "  </tbody>\n",
       "</table>\n",
       "<p>20268151 rows × 4 columns</p>\n",
       "</div>\n",
       "    </div>"
      ],
      "text/plain": [
       "a2q\n",
       "           user_a   user_b                time  weights\n",
       "0               9        8 2008-08-01 05:17:00        1\n",
       "1               1        1 2008-08-01 06:56:00        1\n",
       "2              13        1 2008-08-01 15:57:00        1\n",
       "3              17        1 2008-08-01 19:07:00        1\n",
       "4              48        2 2008-08-01 19:16:00        1\n",
       "...           ...      ...                 ...      ...\n",
       "17823520  2773607  1048138 2016-03-06 12:16:00        1\n",
       "17823521  6018278  1982354 2016-03-06 12:16:00        1\n",
       "17823522  3187183  1404306 2016-03-06 12:17:00        1\n",
       "17823523  6022341  1667278 2016-03-06 12:17:00        1\n",
       "17823524  6018304  6024256 2016-03-06 12:18:00        1\n",
       "\n",
       "[17823525 rows x 4 columns]\n",
       "\n",
       "c2a\n",
       "           user_a   user_b                time  weights\n",
       "0               1       91 2008-09-06 15:07:00      0.4\n",
       "1               3       91 2008-09-06 15:09:00      0.4\n",
       "2             380      350 2008-09-06 15:42:00      0.4\n",
       "3            4642     2257 2008-09-06 20:51:00      0.4\n",
       "4            4642  1324220 2008-09-06 21:15:00      0.4\n",
       "...           ...      ...                 ...      ...\n",
       "25405369   144088   347727 2016-03-06 14:08:00      0.4\n",
       "25405370  5878860  1330341 2016-03-06 14:09:00      0.4\n",
       "25405371   144088    98207 2016-03-06 14:09:00      0.4\n",
       "25405372  4049257  3816212 2016-03-06 14:09:00      0.4\n",
       "25405373   144088   275047 2016-03-06 14:10:00      0.4\n",
       "\n",
       "[25405374 rows x 4 columns]\n",
       "\n",
       "c2q\n",
       "           user_a   user_b                time  weights\n",
       "0            4550     4550 2008-09-06 19:26:00      0.7\n",
       "1             242      184 2008-09-06 20:38:00      0.7\n",
       "2            4213     4946 2008-09-07 06:15:00      0.7\n",
       "3              91       91 2008-09-07 06:18:00      0.7\n",
       "4            2658     1874 2008-09-07 07:18:00      0.7\n",
       "...           ...      ...                 ...      ...\n",
       "20268146  1177890  4917254 2016-03-06 14:06:00      0.7\n",
       "20268147  3345375  4022289 2016-03-06 14:08:00      0.7\n",
       "20268148  3507137  1801524 2016-03-06 14:09:00      0.7\n",
       "20268149  5617035  4368648 2016-03-06 14:10:00      0.7\n",
       "20268150  5579164  5579164 2016-03-06 14:10:00      0.7\n",
       "\n",
       "[20268151 rows x 4 columns]"
      ]
     },
     "execution_count": 6,
     "metadata": {},
     "output_type": "execute_result"
    }
   ],
   "source": [
    "display(\"a2q\", \"c2a\", \"c2q\")"
   ]
  },
  {
   "cell_type": "code",
   "execution_count": 186,
   "metadata": {},
   "outputs": [
    {
     "data": {
      "text/html": [
       "<div>\n",
       "<style scoped>\n",
       "    .dataframe tbody tr th:only-of-type {\n",
       "        vertical-align: middle;\n",
       "    }\n",
       "\n",
       "    .dataframe tbody tr th {\n",
       "        vertical-align: top;\n",
       "    }\n",
       "\n",
       "    .dataframe thead th {\n",
       "        text-align: right;\n",
       "    }\n",
       "</style>\n",
       "<table border=\"1\" class=\"dataframe\">\n",
       "  <thead>\n",
       "    <tr style=\"text-align: right;\">\n",
       "      <th></th>\n",
       "      <th>user_a</th>\n",
       "      <th>user_b</th>\n",
       "      <th>time</th>\n",
       "      <th>weights</th>\n",
       "    </tr>\n",
       "  </thead>\n",
       "  <tbody>\n",
       "    <tr>\n",
       "      <th>0</th>\n",
       "      <td>9</td>\n",
       "      <td>8</td>\n",
       "      <td>2008-08-01 05:17:00</td>\n",
       "      <td>1.0</td>\n",
       "    </tr>\n",
       "    <tr>\n",
       "      <th>1</th>\n",
       "      <td>1</td>\n",
       "      <td>1</td>\n",
       "      <td>2008-08-01 06:56:00</td>\n",
       "      <td>1.0</td>\n",
       "    </tr>\n",
       "    <tr>\n",
       "      <th>2</th>\n",
       "      <td>13</td>\n",
       "      <td>1</td>\n",
       "      <td>2008-08-01 15:57:00</td>\n",
       "      <td>1.0</td>\n",
       "    </tr>\n",
       "    <tr>\n",
       "      <th>3</th>\n",
       "      <td>17</td>\n",
       "      <td>1</td>\n",
       "      <td>2008-08-01 19:07:00</td>\n",
       "      <td>1.0</td>\n",
       "    </tr>\n",
       "    <tr>\n",
       "      <th>4</th>\n",
       "      <td>48</td>\n",
       "      <td>2</td>\n",
       "      <td>2008-08-01 19:16:00</td>\n",
       "      <td>1.0</td>\n",
       "    </tr>\n",
       "    <tr>\n",
       "      <th>...</th>\n",
       "      <td>...</td>\n",
       "      <td>...</td>\n",
       "      <td>...</td>\n",
       "      <td>...</td>\n",
       "    </tr>\n",
       "    <tr>\n",
       "      <th>20268146</th>\n",
       "      <td>1177890</td>\n",
       "      <td>4917254</td>\n",
       "      <td>2016-03-06 14:06:00</td>\n",
       "      <td>0.7</td>\n",
       "    </tr>\n",
       "    <tr>\n",
       "      <th>20268147</th>\n",
       "      <td>3345375</td>\n",
       "      <td>4022289</td>\n",
       "      <td>2016-03-06 14:08:00</td>\n",
       "      <td>0.7</td>\n",
       "    </tr>\n",
       "    <tr>\n",
       "      <th>20268148</th>\n",
       "      <td>3507137</td>\n",
       "      <td>1801524</td>\n",
       "      <td>2016-03-06 14:09:00</td>\n",
       "      <td>0.7</td>\n",
       "    </tr>\n",
       "    <tr>\n",
       "      <th>20268149</th>\n",
       "      <td>5617035</td>\n",
       "      <td>4368648</td>\n",
       "      <td>2016-03-06 14:10:00</td>\n",
       "      <td>0.7</td>\n",
       "    </tr>\n",
       "    <tr>\n",
       "      <th>20268150</th>\n",
       "      <td>5579164</td>\n",
       "      <td>5579164</td>\n",
       "      <td>2016-03-06 14:10:00</td>\n",
       "      <td>0.7</td>\n",
       "    </tr>\n",
       "  </tbody>\n",
       "</table>\n",
       "<p>63497050 rows × 4 columns</p>\n",
       "</div>"
      ],
      "text/plain": [
       "           user_a   user_b                time  weights\n",
       "0               9        8 2008-08-01 05:17:00      1.0\n",
       "1               1        1 2008-08-01 06:56:00      1.0\n",
       "2              13        1 2008-08-01 15:57:00      1.0\n",
       "3              17        1 2008-08-01 19:07:00      1.0\n",
       "4              48        2 2008-08-01 19:16:00      1.0\n",
       "...           ...      ...                 ...      ...\n",
       "20268146  1177890  4917254 2016-03-06 14:06:00      0.7\n",
       "20268147  3345375  4022289 2016-03-06 14:08:00      0.7\n",
       "20268148  3507137  1801524 2016-03-06 14:09:00      0.7\n",
       "20268149  5617035  4368648 2016-03-06 14:10:00      0.7\n",
       "20268150  5579164  5579164 2016-03-06 14:10:00      0.7\n",
       "\n",
       "[63497050 rows x 4 columns]"
      ]
     },
     "execution_count": 186,
     "metadata": {},
     "output_type": "execute_result"
    }
   ],
   "source": [
    "totDataframe = pd.concat([a2q, c2a, c2q])\n",
    "totDataframe"
   ]
  },
  {
   "cell_type": "code",
   "execution_count": 11,
   "metadata": {},
   "outputs": [
    {
     "data": {
      "text/html": [
       "<div style=\"float: left; padding: 10px;\">\n",
       "    <p style='font-family:\"Courier New\", Courier, monospace'>a2q_2y</p><div>\n",
       "<style scoped>\n",
       "    .dataframe tbody tr th:only-of-type {\n",
       "        vertical-align: middle;\n",
       "    }\n",
       "\n",
       "    .dataframe tbody tr th {\n",
       "        vertical-align: top;\n",
       "    }\n",
       "\n",
       "    .dataframe thead th {\n",
       "        text-align: right;\n",
       "    }\n",
       "</style>\n",
       "<table border=\"1\" class=\"dataframe\">\n",
       "  <thead>\n",
       "    <tr style=\"text-align: right;\">\n",
       "      <th></th>\n",
       "      <th>user_a</th>\n",
       "      <th>user_b</th>\n",
       "      <th>time</th>\n",
       "      <th>weights</th>\n",
       "    </tr>\n",
       "  </thead>\n",
       "  <tbody>\n",
       "    <tr>\n",
       "      <th>14055617</th>\n",
       "      <td>335858</td>\n",
       "      <td>1045881</td>\n",
       "      <td>2015-01-01 00:00:00</td>\n",
       "      <td>1</td>\n",
       "    </tr>\n",
       "    <tr>\n",
       "      <th>14055618</th>\n",
       "      <td>3829874</td>\n",
       "      <td>3829874</td>\n",
       "      <td>2015-01-01 00:00:00</td>\n",
       "      <td>1</td>\n",
       "    </tr>\n",
       "    <tr>\n",
       "      <th>14055619</th>\n",
       "      <td>315228</td>\n",
       "      <td>3849055</td>\n",
       "      <td>2015-01-01 00:01:00</td>\n",
       "      <td>1</td>\n",
       "    </tr>\n",
       "    <tr>\n",
       "      <th>14055620</th>\n",
       "      <td>2182521</td>\n",
       "      <td>2182521</td>\n",
       "      <td>2015-01-01 00:01:00</td>\n",
       "      <td>1</td>\n",
       "    </tr>\n",
       "    <tr>\n",
       "      <th>14055621</th>\n",
       "      <td>3047078</td>\n",
       "      <td>4059893</td>\n",
       "      <td>2015-01-01 00:01:00</td>\n",
       "      <td>1</td>\n",
       "    </tr>\n",
       "    <tr>\n",
       "      <th>...</th>\n",
       "      <td>...</td>\n",
       "      <td>...</td>\n",
       "      <td>...</td>\n",
       "      <td>...</td>\n",
       "    </tr>\n",
       "    <tr>\n",
       "      <th>17823520</th>\n",
       "      <td>2773607</td>\n",
       "      <td>1048138</td>\n",
       "      <td>2016-03-06 12:16:00</td>\n",
       "      <td>1</td>\n",
       "    </tr>\n",
       "    <tr>\n",
       "      <th>17823521</th>\n",
       "      <td>6018278</td>\n",
       "      <td>1982354</td>\n",
       "      <td>2016-03-06 12:16:00</td>\n",
       "      <td>1</td>\n",
       "    </tr>\n",
       "    <tr>\n",
       "      <th>17823522</th>\n",
       "      <td>3187183</td>\n",
       "      <td>1404306</td>\n",
       "      <td>2016-03-06 12:17:00</td>\n",
       "      <td>1</td>\n",
       "    </tr>\n",
       "    <tr>\n",
       "      <th>17823523</th>\n",
       "      <td>6022341</td>\n",
       "      <td>1667278</td>\n",
       "      <td>2016-03-06 12:17:00</td>\n",
       "      <td>1</td>\n",
       "    </tr>\n",
       "    <tr>\n",
       "      <th>17823524</th>\n",
       "      <td>6018304</td>\n",
       "      <td>6024256</td>\n",
       "      <td>2016-03-06 12:18:00</td>\n",
       "      <td>1</td>\n",
       "    </tr>\n",
       "  </tbody>\n",
       "</table>\n",
       "<p>3767905 rows × 4 columns</p>\n",
       "</div>\n",
       "    </div>\n",
       "<div style=\"float: left; padding: 10px;\">\n",
       "    <p style='font-family:\"Courier New\", Courier, monospace'>c2a_2y</p><div>\n",
       "<style scoped>\n",
       "    .dataframe tbody tr th:only-of-type {\n",
       "        vertical-align: middle;\n",
       "    }\n",
       "\n",
       "    .dataframe tbody tr th {\n",
       "        vertical-align: top;\n",
       "    }\n",
       "\n",
       "    .dataframe thead th {\n",
       "        text-align: right;\n",
       "    }\n",
       "</style>\n",
       "<table border=\"1\" class=\"dataframe\">\n",
       "  <thead>\n",
       "    <tr style=\"text-align: right;\">\n",
       "      <th></th>\n",
       "      <th>user_a</th>\n",
       "      <th>user_b</th>\n",
       "      <th>time</th>\n",
       "      <th>weights</th>\n",
       "    </tr>\n",
       "  </thead>\n",
       "  <tbody>\n",
       "    <tr>\n",
       "      <th>19731113</th>\n",
       "      <td>3516348</td>\n",
       "      <td>3516348</td>\n",
       "      <td>2015-01-01 00:00:00</td>\n",
       "      <td>0.4</td>\n",
       "    </tr>\n",
       "    <tr>\n",
       "      <th>19731114</th>\n",
       "      <td>2138993</td>\n",
       "      <td>2138993</td>\n",
       "      <td>2015-01-01 00:00:00</td>\n",
       "      <td>0.4</td>\n",
       "    </tr>\n",
       "    <tr>\n",
       "      <th>19731115</th>\n",
       "      <td>3040948</td>\n",
       "      <td>3040948</td>\n",
       "      <td>2015-01-01 00:00:00</td>\n",
       "      <td>0.4</td>\n",
       "    </tr>\n",
       "    <tr>\n",
       "      <th>19731116</th>\n",
       "      <td>307339</td>\n",
       "      <td>1115059</td>\n",
       "      <td>2015-01-01 00:00:00</td>\n",
       "      <td>0.4</td>\n",
       "    </tr>\n",
       "    <tr>\n",
       "      <th>19731117</th>\n",
       "      <td>67579</td>\n",
       "      <td>67579</td>\n",
       "      <td>2015-01-01 00:01:00</td>\n",
       "      <td>0.4</td>\n",
       "    </tr>\n",
       "    <tr>\n",
       "      <th>...</th>\n",
       "      <td>...</td>\n",
       "      <td>...</td>\n",
       "      <td>...</td>\n",
       "      <td>...</td>\n",
       "    </tr>\n",
       "    <tr>\n",
       "      <th>25405369</th>\n",
       "      <td>144088</td>\n",
       "      <td>347727</td>\n",
       "      <td>2016-03-06 14:08:00</td>\n",
       "      <td>0.4</td>\n",
       "    </tr>\n",
       "    <tr>\n",
       "      <th>25405370</th>\n",
       "      <td>5878860</td>\n",
       "      <td>1330341</td>\n",
       "      <td>2016-03-06 14:09:00</td>\n",
       "      <td>0.4</td>\n",
       "    </tr>\n",
       "    <tr>\n",
       "      <th>25405371</th>\n",
       "      <td>144088</td>\n",
       "      <td>98207</td>\n",
       "      <td>2016-03-06 14:09:00</td>\n",
       "      <td>0.4</td>\n",
       "    </tr>\n",
       "    <tr>\n",
       "      <th>25405372</th>\n",
       "      <td>4049257</td>\n",
       "      <td>3816212</td>\n",
       "      <td>2016-03-06 14:09:00</td>\n",
       "      <td>0.4</td>\n",
       "    </tr>\n",
       "    <tr>\n",
       "      <th>25405373</th>\n",
       "      <td>144088</td>\n",
       "      <td>275047</td>\n",
       "      <td>2016-03-06 14:10:00</td>\n",
       "      <td>0.4</td>\n",
       "    </tr>\n",
       "  </tbody>\n",
       "</table>\n",
       "<p>5674106 rows × 4 columns</p>\n",
       "</div>\n",
       "    </div>\n",
       "<div style=\"float: left; padding: 10px;\">\n",
       "    <p style='font-family:\"Courier New\", Courier, monospace'>c2q_2y</p><div>\n",
       "<style scoped>\n",
       "    .dataframe tbody tr th:only-of-type {\n",
       "        vertical-align: middle;\n",
       "    }\n",
       "\n",
       "    .dataframe tbody tr th {\n",
       "        vertical-align: top;\n",
       "    }\n",
       "\n",
       "    .dataframe thead th {\n",
       "        text-align: right;\n",
       "    }\n",
       "</style>\n",
       "<table border=\"1\" class=\"dataframe\">\n",
       "  <thead>\n",
       "    <tr style=\"text-align: right;\">\n",
       "      <th></th>\n",
       "      <th>user_a</th>\n",
       "      <th>user_b</th>\n",
       "      <th>time</th>\n",
       "      <th>weights</th>\n",
       "    </tr>\n",
       "  </thead>\n",
       "  <tbody>\n",
       "    <tr>\n",
       "      <th>14184111</th>\n",
       "      <td>34397</td>\n",
       "      <td>4322629</td>\n",
       "      <td>2015-01-01 00:00:00</td>\n",
       "      <td>0.7</td>\n",
       "    </tr>\n",
       "    <tr>\n",
       "      <th>14184112</th>\n",
       "      <td>176075</td>\n",
       "      <td>3931833</td>\n",
       "      <td>2015-01-01 00:00:00</td>\n",
       "      <td>0.7</td>\n",
       "    </tr>\n",
       "    <tr>\n",
       "      <th>14184113</th>\n",
       "      <td>180329</td>\n",
       "      <td>180329</td>\n",
       "      <td>2015-01-01 00:00:00</td>\n",
       "      <td>0.7</td>\n",
       "    </tr>\n",
       "    <tr>\n",
       "      <th>14184114</th>\n",
       "      <td>1577580</td>\n",
       "      <td>8741</td>\n",
       "      <td>2015-01-01 00:00:00</td>\n",
       "      <td>0.7</td>\n",
       "    </tr>\n",
       "    <tr>\n",
       "      <th>14184115</th>\n",
       "      <td>2145018</td>\n",
       "      <td>2145018</td>\n",
       "      <td>2015-01-01 00:00:00</td>\n",
       "      <td>0.7</td>\n",
       "    </tr>\n",
       "    <tr>\n",
       "      <th>...</th>\n",
       "      <td>...</td>\n",
       "      <td>...</td>\n",
       "      <td>...</td>\n",
       "      <td>...</td>\n",
       "    </tr>\n",
       "    <tr>\n",
       "      <th>20268146</th>\n",
       "      <td>1177890</td>\n",
       "      <td>4917254</td>\n",
       "      <td>2016-03-06 14:06:00</td>\n",
       "      <td>0.7</td>\n",
       "    </tr>\n",
       "    <tr>\n",
       "      <th>20268147</th>\n",
       "      <td>3345375</td>\n",
       "      <td>4022289</td>\n",
       "      <td>2016-03-06 14:08:00</td>\n",
       "      <td>0.7</td>\n",
       "    </tr>\n",
       "    <tr>\n",
       "      <th>20268148</th>\n",
       "      <td>3507137</td>\n",
       "      <td>1801524</td>\n",
       "      <td>2016-03-06 14:09:00</td>\n",
       "      <td>0.7</td>\n",
       "    </tr>\n",
       "    <tr>\n",
       "      <th>20268149</th>\n",
       "      <td>5617035</td>\n",
       "      <td>4368648</td>\n",
       "      <td>2016-03-06 14:10:00</td>\n",
       "      <td>0.7</td>\n",
       "    </tr>\n",
       "    <tr>\n",
       "      <th>20268150</th>\n",
       "      <td>5579164</td>\n",
       "      <td>5579164</td>\n",
       "      <td>2016-03-06 14:10:00</td>\n",
       "      <td>0.7</td>\n",
       "    </tr>\n",
       "  </tbody>\n",
       "</table>\n",
       "<p>6082393 rows × 4 columns</p>\n",
       "</div>\n",
       "    </div>\n",
       "<div style=\"float: left; padding: 10px;\">\n",
       "    <p style='font-family:\"Courier New\", Courier, monospace'>totDataframe_2y</p><div>\n",
       "<style scoped>\n",
       "    .dataframe tbody tr th:only-of-type {\n",
       "        vertical-align: middle;\n",
       "    }\n",
       "\n",
       "    .dataframe tbody tr th {\n",
       "        vertical-align: top;\n",
       "    }\n",
       "\n",
       "    .dataframe thead th {\n",
       "        text-align: right;\n",
       "    }\n",
       "</style>\n",
       "<table border=\"1\" class=\"dataframe\">\n",
       "  <thead>\n",
       "    <tr style=\"text-align: right;\">\n",
       "      <th></th>\n",
       "      <th>user_a</th>\n",
       "      <th>user_b</th>\n",
       "      <th>time</th>\n",
       "      <th>weights</th>\n",
       "    </tr>\n",
       "  </thead>\n",
       "  <tbody>\n",
       "    <tr>\n",
       "      <th>14055617</th>\n",
       "      <td>335858</td>\n",
       "      <td>1045881</td>\n",
       "      <td>2015-01-01 00:00:00</td>\n",
       "      <td>1.0</td>\n",
       "    </tr>\n",
       "    <tr>\n",
       "      <th>14055618</th>\n",
       "      <td>3829874</td>\n",
       "      <td>3829874</td>\n",
       "      <td>2015-01-01 00:00:00</td>\n",
       "      <td>1.0</td>\n",
       "    </tr>\n",
       "    <tr>\n",
       "      <th>14055619</th>\n",
       "      <td>315228</td>\n",
       "      <td>3849055</td>\n",
       "      <td>2015-01-01 00:01:00</td>\n",
       "      <td>1.0</td>\n",
       "    </tr>\n",
       "    <tr>\n",
       "      <th>14055620</th>\n",
       "      <td>2182521</td>\n",
       "      <td>2182521</td>\n",
       "      <td>2015-01-01 00:01:00</td>\n",
       "      <td>1.0</td>\n",
       "    </tr>\n",
       "    <tr>\n",
       "      <th>14055621</th>\n",
       "      <td>3047078</td>\n",
       "      <td>4059893</td>\n",
       "      <td>2015-01-01 00:01:00</td>\n",
       "      <td>1.0</td>\n",
       "    </tr>\n",
       "    <tr>\n",
       "      <th>...</th>\n",
       "      <td>...</td>\n",
       "      <td>...</td>\n",
       "      <td>...</td>\n",
       "      <td>...</td>\n",
       "    </tr>\n",
       "    <tr>\n",
       "      <th>20268146</th>\n",
       "      <td>1177890</td>\n",
       "      <td>4917254</td>\n",
       "      <td>2016-03-06 14:06:00</td>\n",
       "      <td>0.7</td>\n",
       "    </tr>\n",
       "    <tr>\n",
       "      <th>20268147</th>\n",
       "      <td>3345375</td>\n",
       "      <td>4022289</td>\n",
       "      <td>2016-03-06 14:08:00</td>\n",
       "      <td>0.7</td>\n",
       "    </tr>\n",
       "    <tr>\n",
       "      <th>20268148</th>\n",
       "      <td>3507137</td>\n",
       "      <td>1801524</td>\n",
       "      <td>2016-03-06 14:09:00</td>\n",
       "      <td>0.7</td>\n",
       "    </tr>\n",
       "    <tr>\n",
       "      <th>20268149</th>\n",
       "      <td>5617035</td>\n",
       "      <td>4368648</td>\n",
       "      <td>2016-03-06 14:10:00</td>\n",
       "      <td>0.7</td>\n",
       "    </tr>\n",
       "    <tr>\n",
       "      <th>20268150</th>\n",
       "      <td>5579164</td>\n",
       "      <td>5579164</td>\n",
       "      <td>2016-03-06 14:10:00</td>\n",
       "      <td>0.7</td>\n",
       "    </tr>\n",
       "  </tbody>\n",
       "</table>\n",
       "<p>15524404 rows × 4 columns</p>\n",
       "</div>\n",
       "    </div>"
      ],
      "text/plain": [
       "a2q_2y\n",
       "           user_a   user_b                time  weights\n",
       "14055617   335858  1045881 2015-01-01 00:00:00        1\n",
       "14055618  3829874  3829874 2015-01-01 00:00:00        1\n",
       "14055619   315228  3849055 2015-01-01 00:01:00        1\n",
       "14055620  2182521  2182521 2015-01-01 00:01:00        1\n",
       "14055621  3047078  4059893 2015-01-01 00:01:00        1\n",
       "...           ...      ...                 ...      ...\n",
       "17823520  2773607  1048138 2016-03-06 12:16:00        1\n",
       "17823521  6018278  1982354 2016-03-06 12:16:00        1\n",
       "17823522  3187183  1404306 2016-03-06 12:17:00        1\n",
       "17823523  6022341  1667278 2016-03-06 12:17:00        1\n",
       "17823524  6018304  6024256 2016-03-06 12:18:00        1\n",
       "\n",
       "[3767905 rows x 4 columns]\n",
       "\n",
       "c2a_2y\n",
       "           user_a   user_b                time  weights\n",
       "19731113  3516348  3516348 2015-01-01 00:00:00      0.4\n",
       "19731114  2138993  2138993 2015-01-01 00:00:00      0.4\n",
       "19731115  3040948  3040948 2015-01-01 00:00:00      0.4\n",
       "19731116   307339  1115059 2015-01-01 00:00:00      0.4\n",
       "19731117    67579    67579 2015-01-01 00:01:00      0.4\n",
       "...           ...      ...                 ...      ...\n",
       "25405369   144088   347727 2016-03-06 14:08:00      0.4\n",
       "25405370  5878860  1330341 2016-03-06 14:09:00      0.4\n",
       "25405371   144088    98207 2016-03-06 14:09:00      0.4\n",
       "25405372  4049257  3816212 2016-03-06 14:09:00      0.4\n",
       "25405373   144088   275047 2016-03-06 14:10:00      0.4\n",
       "\n",
       "[5674106 rows x 4 columns]\n",
       "\n",
       "c2q_2y\n",
       "           user_a   user_b                time  weights\n",
       "14184111    34397  4322629 2015-01-01 00:00:00      0.7\n",
       "14184112   176075  3931833 2015-01-01 00:00:00      0.7\n",
       "14184113   180329   180329 2015-01-01 00:00:00      0.7\n",
       "14184114  1577580     8741 2015-01-01 00:00:00      0.7\n",
       "14184115  2145018  2145018 2015-01-01 00:00:00      0.7\n",
       "...           ...      ...                 ...      ...\n",
       "20268146  1177890  4917254 2016-03-06 14:06:00      0.7\n",
       "20268147  3345375  4022289 2016-03-06 14:08:00      0.7\n",
       "20268148  3507137  1801524 2016-03-06 14:09:00      0.7\n",
       "20268149  5617035  4368648 2016-03-06 14:10:00      0.7\n",
       "20268150  5579164  5579164 2016-03-06 14:10:00      0.7\n",
       "\n",
       "[6082393 rows x 4 columns]\n",
       "\n",
       "totDataframe_2y\n",
       "           user_a   user_b                time  weights\n",
       "14055617   335858  1045881 2015-01-01 00:00:00      1.0\n",
       "14055618  3829874  3829874 2015-01-01 00:00:00      1.0\n",
       "14055619   315228  3849055 2015-01-01 00:01:00      1.0\n",
       "14055620  2182521  2182521 2015-01-01 00:01:00      1.0\n",
       "14055621  3047078  4059893 2015-01-01 00:01:00      1.0\n",
       "...           ...      ...                 ...      ...\n",
       "20268146  1177890  4917254 2016-03-06 14:06:00      0.7\n",
       "20268147  3345375  4022289 2016-03-06 14:08:00      0.7\n",
       "20268148  3507137  1801524 2016-03-06 14:09:00      0.7\n",
       "20268149  5617035  4368648 2016-03-06 14:10:00      0.7\n",
       "20268150  5579164  5579164 2016-03-06 14:10:00      0.7\n",
       "\n",
       "[15524404 rows x 4 columns]"
      ]
     },
     "execution_count": 11,
     "metadata": {},
     "output_type": "execute_result"
    }
   ],
   "source": [
    "totDataframe_2y = totDataframe[totDataframe.time.between(\"2015\",\"2017\")]\n",
    "a2q_2y = a2q[a2q.time.between(\"2015\",\"2017\")]\n",
    "c2q_2y = c2q[c2q.time.between(\"2015\",\"2017\")]\n",
    "c2a_2y = c2a[c2a.time.between(\"2015\",\"2017\")]\n",
    "display(\"a2q_2y\", \"c2a_2y\", \"c2q_2y\", \"totDataframe_2y\")"
   ]
  },
  {
   "cell_type": "code",
   "execution_count": 12,
   "metadata": {},
   "outputs": [
    {
     "data": {
      "text/html": [
       "<div>\n",
       "<style scoped>\n",
       "    .dataframe tbody tr th:only-of-type {\n",
       "        vertical-align: middle;\n",
       "    }\n",
       "\n",
       "    .dataframe tbody tr th {\n",
       "        vertical-align: top;\n",
       "    }\n",
       "\n",
       "    .dataframe thead th {\n",
       "        text-align: right;\n",
       "    }\n",
       "</style>\n",
       "<table border=\"1\" class=\"dataframe\">\n",
       "  <thead>\n",
       "    <tr style=\"text-align: right;\">\n",
       "      <th></th>\n",
       "      <th>user_a</th>\n",
       "      <th>user_b</th>\n",
       "      <th>time</th>\n",
       "      <th>weights</th>\n",
       "    </tr>\n",
       "  </thead>\n",
       "  <tbody>\n",
       "    <tr>\n",
       "      <th>14055617</th>\n",
       "      <td>335858</td>\n",
       "      <td>1045881</td>\n",
       "      <td>2015-01-01</td>\n",
       "      <td>1.0</td>\n",
       "    </tr>\n",
       "    <tr>\n",
       "      <th>14055618</th>\n",
       "      <td>3829874</td>\n",
       "      <td>3829874</td>\n",
       "      <td>2015-01-01</td>\n",
       "      <td>1.0</td>\n",
       "    </tr>\n",
       "    <tr>\n",
       "      <th>19731113</th>\n",
       "      <td>3516348</td>\n",
       "      <td>3516348</td>\n",
       "      <td>2015-01-01</td>\n",
       "      <td>0.4</td>\n",
       "    </tr>\n",
       "    <tr>\n",
       "      <th>19731114</th>\n",
       "      <td>2138993</td>\n",
       "      <td>2138993</td>\n",
       "      <td>2015-01-01</td>\n",
       "      <td>0.4</td>\n",
       "    </tr>\n",
       "    <tr>\n",
       "      <th>19731115</th>\n",
       "      <td>3040948</td>\n",
       "      <td>3040948</td>\n",
       "      <td>2015-01-01</td>\n",
       "      <td>0.4</td>\n",
       "    </tr>\n",
       "    <tr>\n",
       "      <th>19731116</th>\n",
       "      <td>307339</td>\n",
       "      <td>1115059</td>\n",
       "      <td>2015-01-01</td>\n",
       "      <td>0.4</td>\n",
       "    </tr>\n",
       "    <tr>\n",
       "      <th>14184111</th>\n",
       "      <td>34397</td>\n",
       "      <td>4322629</td>\n",
       "      <td>2015-01-01</td>\n",
       "      <td>0.7</td>\n",
       "    </tr>\n",
       "    <tr>\n",
       "      <th>14184112</th>\n",
       "      <td>176075</td>\n",
       "      <td>3931833</td>\n",
       "      <td>2015-01-01</td>\n",
       "      <td>0.7</td>\n",
       "    </tr>\n",
       "    <tr>\n",
       "      <th>14184113</th>\n",
       "      <td>180329</td>\n",
       "      <td>180329</td>\n",
       "      <td>2015-01-01</td>\n",
       "      <td>0.7</td>\n",
       "    </tr>\n",
       "    <tr>\n",
       "      <th>14184114</th>\n",
       "      <td>1577580</td>\n",
       "      <td>8741</td>\n",
       "      <td>2015-01-01</td>\n",
       "      <td>0.7</td>\n",
       "    </tr>\n",
       "    <tr>\n",
       "      <th>14184115</th>\n",
       "      <td>2145018</td>\n",
       "      <td>2145018</td>\n",
       "      <td>2015-01-01</td>\n",
       "      <td>0.7</td>\n",
       "    </tr>\n",
       "  </tbody>\n",
       "</table>\n",
       "</div>"
      ],
      "text/plain": [
       "           user_a   user_b       time  weights\n",
       "14055617   335858  1045881 2015-01-01      1.0\n",
       "14055618  3829874  3829874 2015-01-01      1.0\n",
       "19731113  3516348  3516348 2015-01-01      0.4\n",
       "19731114  2138993  2138993 2015-01-01      0.4\n",
       "19731115  3040948  3040948 2015-01-01      0.4\n",
       "19731116   307339  1115059 2015-01-01      0.4\n",
       "14184111    34397  4322629 2015-01-01      0.7\n",
       "14184112   176075  3931833 2015-01-01      0.7\n",
       "14184113   180329   180329 2015-01-01      0.7\n",
       "14184114  1577580     8741 2015-01-01      0.7\n",
       "14184115  2145018  2145018 2015-01-01      0.7"
      ]
     },
     "execution_count": 12,
     "metadata": {},
     "output_type": "execute_result"
    }
   ],
   "source": [
    "totDataframe_2y[totDataframe_2y.time.between(\"2015-01-01\",\"2015-01-01\")].iloc[:1000]"
   ]
  },
  {
   "cell_type": "code",
   "execution_count": 8,
   "metadata": {},
   "outputs": [],
   "source": [
    "class EDGE:\n",
    "    \n",
    "    def __init__(self, from_n, to_n, time, w):\n",
    "        self.from_n = from_n\n",
    "        self.to_n = to_n\n",
    "        self.w = w\n",
    "        self.time = time\n",
    "        \n",
    "    def __repr__(self):\n",
    "        return f\"{self.from_n} -> {self.to_n} ::::: weight = {self.w} ::::: time: {self.time}\""
   ]
  },
  {
   "cell_type": "code",
   "execution_count": 62,
   "metadata": {},
   "outputs": [],
   "source": [
    "class GRAPH:\n",
    "    \n",
    "    def __init__(self, nodes = [], edges = []):\n",
    "        self.nodes = defaultdict(list, {k:[] for k in nodes})\n",
    "        \n",
    "        if(len(edges)>0):\n",
    "            for edge in tqdm(edges):\n",
    "                self.nodes[edge.from_n].append(edge)\n",
    "                self.nodes[edge.to_n].append(edge)\n",
    "        \n",
    "        self.num_nodes = len(nodes)\n",
    "        self.num_edges = len(edges)\n",
    "        self.visited = []\n",
    "        \n",
    "    def add_node(self, node):\n",
    "        self.nodes[node] = self.nodes.get(node, [])\n",
    "        \n",
    "    def add_edge(self, from_n, to_n, time, w):\n",
    "        e = EDGE(from_n, to_n, time, w)\n",
    "        \n",
    "        self.nodes[from_n].append(e)\n",
    "        self.nodes[to_n].append(e)\n",
    "        \n",
    "    def add_edge_object(self, edge):\n",
    "        \n",
    "        self.nodes[edge.from_n].append(edge)\n",
    "        self.nodes[edge.to_n].append(edge)\n",
    "        \n",
    "    def add_edge_object_list(self, edges):\n",
    "        \n",
    "        for edge in edges:\n",
    "            self.nodes[edge.from_n].append(edge)\n",
    "            self.nodes[edge.to_n].append(edge)\n",
    "            \n",
    "    def get_edge(self, from_n, to_n):\n",
    "        out_edge = None\n",
    "        for edge in self.nodes[from_n]:\n",
    "            if(edge.from_n == from_n and edge.to_n == to_n):\n",
    "                out_edge = edge\n",
    "        return out_edge\n",
    "    \n",
    "    def delete_edge(self, from_n, to_n):\n",
    "        for edge in self.nodes[from_n]:\n",
    "            if(edge.from_n == from_n and edge.to_n == to_n):\n",
    "                self.nodes[from_n].remove(edge)\n",
    "                \n",
    "        for edge in self.nodes[to_n]:\n",
    "            if(edge.from_n == from_n and edge.to_n == to_n):\n",
    "                self.nodes[to_n].remove(edge)\n",
    "                \n",
    "    def delete_all_edge_of_node(self, node):\n",
    "        for edge in self.nodes[node]:\n",
    "    \n",
    "            if(edge.to_n != node):\n",
    "                self.nodes[edge.to_n].remove(edge)\n",
    "                \n",
    "             \n",
    "            else:\n",
    "                self.nodes[edge.from_n].remove(edge)\n",
    "        \n",
    "        self.nodes[node] = []\n",
    "             \n",
    "\n",
    "            \n",
    "            \n",
    "    def is_linked_from(self, node_a, node_b):\n",
    "        return node_a in [n.from_n for n in self.nodes[node_b]]\n",
    "    \n",
    "    def is_linked_to(self, node_a, node_b):\n",
    "        return node_a in [n.to_n for n in self.nodes[node_b]]\n",
    "    \n",
    "    def is_visited(self, node):\n",
    "        return node in self.visited\n",
    "            \n",
    "    def clear_graph_path(self):\n",
    "        self.visited = []\n",
    "        \n",
    "    def print_graph(self, size = (7,7)):\n",
    "        G = nx.DiGraph()\n",
    "        for k in tqdm(self.nodes):\n",
    "            G.add_weighted_edges_from([(el.from_n, el.to_n, el.w) for el in self.nodes[k]])\n",
    "            \n",
    "        plt.figure(figsize=size)\n",
    "        pos = nx.random_layout(G)\n",
    "        nx.draw(G, pos, with_labels=True, font_weight='bold')\n",
    "\n",
    "        labels = nx.get_edge_attributes(G, name=\"weight\")\n",
    "        nx.draw_networkx_edge_labels(G,pos,edge_labels=labels);\n",
    "        plt.savefig(\"test.pdf\")\n",
    "        plt.show()\n",
    "        \n",
    "    \n",
    "    def __repr__(self):\n",
    "        return f\"{self.nodes}\"\n",
    "    \n",
    "    def __len__(self):\n",
    "        return len(self.nodes)"
   ]
  },
  {
   "cell_type": "markdown",
   "metadata": {},
   "source": [
    "## Functionality 1 - Get the overall features of the graph"
   ]
  },
  {
   "cell_type": "code",
   "execution_count": 12,
   "metadata": {},
   "outputs": [],
   "source": [
    "#array of nodes of graph a2q\n",
    "nodi_grafo = pd.concat([a2q[\"user_a\"], a2q[\"user_b\"]], axis = 0).drop_duplicates().array\n"
   ]
  },
  {
   "cell_type": "code",
   "execution_count": 13,
   "metadata": {},
   "outputs": [],
   "source": [
    "edge_grafo = []\n",
    "for i in range(len(a2q)): \n",
    "    edge_grafo.append(EDGE(a2q.iloc[i,0],a2q.iloc[i,1], a2q.iloc[i,2], a2q.iloc[i,3]))"
   ]
  },
  {
   "cell_type": "code",
   "execution_count": 14,
   "metadata": {},
   "outputs": [],
   "source": [
    "#creation of the graph a2q\n",
    "a2q_graph = GRAPH(nodi_grafo, edge_grafo)"
   ]
  },
  {
   "cell_type": "code",
   "execution_count": 15,
   "metadata": {},
   "outputs": [
    {
     "data": {
      "text/plain": [
       "2464606"
      ]
     },
     "execution_count": 15,
     "metadata": {},
     "output_type": "execute_result"
    }
   ],
   "source": [
    "#Number of users\n",
    "num_node = a2q_graph.num_nodes\n",
    "num_node"
   ]
  },
  {
   "cell_type": "code",
   "execution_count": null,
   "metadata": {},
   "outputs": [],
   "source": [
    "num_edge = a2q_graph.num_edge"
   ]
  },
  {
   "cell_type": "code",
   "execution_count": null,
   "metadata": {},
   "outputs": [],
   "source": [
    "number_nodes, number_edges, directed, mean, density = fun_1.functionality(a2q)"
   ]
  },
  {
   "cell_type": "code",
   "execution_count": 75,
   "metadata": {},
   "outputs": [
    {
     "name": "stdout",
     "output_type": "stream",
     "text": [
      "Welcome user, what functionality do you want: 2\n",
      "result of func_2\n",
      "Functionality 2 - Find the best users!\n"
     ]
    }
   ],
   "source": [
    "end = 0\n",
    "while (end == 0):\n",
    "    \n",
    "    user = int(input(\"Welcome user, what functionality do you want: \"))\n",
    "    \n",
    "    if (user == 1):\n",
    "        \n",
    "        print(\"Functionality 1 - Get the overall features of the graph\")\n",
    "        print(\"The a2q is: \" + directed)\n",
    "        print(\"Number of users: \" +str(number_node))\n",
    "        print(\"Number of answers: \" +str(number_edge))\n",
    "        print(\"Average number of links per user is: \" + str(mean))\n",
    "        print(f\"The graph density is: {density}, so the graph is sparse\")\n",
    "        \n",
    "        end = 1\n",
    "        \n",
    "    if (user == 2):\n",
    "        \n",
    "        print(\"result of func_2\")\n",
    "        print(\"Functionality 2 - Find the best users!\")\n",
    "        end = 1\n",
    "        \n",
    "    if (user == 3):\n",
    "        print(\"Functionality 3 - Shortest Ordered Route\")\n",
    "        print(\"result of func_3\")\n",
    "        end = 1\n"
   ]
  },
  {
   "cell_type": "code",
   "execution_count": 26,
   "metadata": {},
   "outputs": [
    {
     "data": {
      "text/plain": [
       "2322630"
      ]
     },
     "execution_count": 26,
     "metadata": {},
     "output_type": "execute_result"
    }
   ],
   "source": [
    "p_start"
   ]
  },
  {
   "cell_type": "code",
   "execution_count": 27,
   "metadata": {},
   "outputs": [
    {
     "data": {
      "text/plain": [
       "4557888"
      ]
     },
     "execution_count": 27,
     "metadata": {},
     "output_type": "execute_result"
    }
   ],
   "source": [
    "p_end"
   ]
  },
  {
   "cell_type": "code",
   "execution_count": null,
   "metadata": {},
   "outputs": [],
   "source": [
    "def functionality_3(start_time, end_time, p, p_1, p_n):"
   ]
  },
  {
   "cell_type": "code",
   "execution_count": null,
   "metadata": {},
   "outputs": [],
   "source": [
    "def grafo(df): \n",
    "    #list of nodes\n",
    "    nodi_grafo = pd.concat([df[\"user_a\"], df[\"user_b\"]], axis = 0).drop_duplicates().array\n",
    "    \n",
    "    #list of edges \n",
    "    edge_grafo = []\n",
    "    \n",
    "    #read each row of the dataframe\n",
    "    for i in range(len(df)): \n",
    "        \n",
    "        #exploit the class edge to create them\n",
    "        edge_grafo.append(EDGE(df.iloc[i,0], df.iloc[i,1], df.iloc[i,2], df.iloc[i,3]))\n",
    "        \n",
    "    #creation of the graph a2q\n",
    "    df_graph = GRAPH(nodi_grafo, edge_grafo)\n",
    "    \n",
    "    return df_graph"
   ]
  },
  {
   "cell_type": "code",
   "execution_count": 19,
   "metadata": {},
   "outputs": [],
   "source": [
    "def make_graph(data):\n",
    "    #nodes_graph_a2q_2y = pd.concat([a2q_2y[\"user_a\"], a2q_2y[\"user_b\"]], axis = 0).drop_duplicates().array\n",
    "    g = GRAPH()\n",
    "    with Pool(multiprocessing.cpu_count()) as pool:\n",
    "\n",
    "        with tqdm(total = len(data)) as pbar:\n",
    "            for el in pool.imap_unordered(lambda row: EDGE(row[1][\"user_a\"],row[1][\"user_b\"],row[1][\"time\"],row[1][\"weights\"]), data.iterrows()):\n",
    "                g.add_edge_object(el)\n",
    "                pbar.update()\n",
    "                \n",
    "    #save_object(g_a2q, \"data/g_a2q.pkl\")\n",
    "    return g\n",
    "    "
   ]
  },
  {
   "cell_type": "markdown",
   "metadata": {},
   "source": [
    "## Functionality 3"
   ]
  },
  {
   "cell_type": "code",
   "execution_count": 108,
   "metadata": {},
   "outputs": [],
   "source": [
    "'''def Shortest_Ordered_Route(start, end, p, G):\n",
    "    p = list(map(str, p))\n",
    "    p.append(str(end))\n",
    "    \n",
    "    #saving the total distance\n",
    "    tot_dist = 0 \n",
    "    #complete_walk = []\n",
    "    new_g, result = dijkstra(start, G)\n",
    "    tot_dist += result[p[0]]\n",
    "    \n",
    "    \n",
    "    #With this loop we will have the shortest ordered\n",
    "    #route and its total distance using Dijkstra\n",
    "    for i in range(0, len(p)-1):\n",
    "        new_g, result = dijkstra(p[i], G) \n",
    "        \n",
    "        #In the case it's not possible finding a \n",
    "        #Walk which passes through all the nodes\n",
    "        if result[p[i+1]] == float(\"inf\"):\n",
    "            return \"Not possible\"\n",
    "        else:\n",
    "            tot_dist += result[p[i+1]]\n",
    "    return tot_dist\n",
    "'''"
   ]
  },
  {
   "cell_type": "code",
   "execution_count": 113,
   "metadata": {},
   "outputs": [],
   "source": [
    "def dijkstra(n, g, print_g = False, size=(7,7)):\n",
    "    g.clear_graph_path()\n",
    "    new_G = GRAPH()\n",
    "    \n",
    "    dist = defaultdict(float, {k:float('inf') for k in g.nodes})\n",
    " \n",
    "    dist[n] = 0 \n",
    "    new_G.add_node(n)\n",
    "    \n",
    "\n",
    "    \n",
    "    for _ in tqdm(range(len(g))):  \n",
    "\n",
    "        current_node = min([(dist[el], el) for el in g.nodes if not g.is_visited(el)], key=lambda e: e[0])[1]\n",
    "        g.visited.append(current_node)\n",
    "        \n",
    "        if(dist[current_node] == float(\"inf\")):\n",
    "            break\n",
    "        \n",
    "        for neighbour in [el.to_n for el in g.nodes[current_node] if el.from_n == current_node]:\n",
    "\n",
    "            alt = dist[current_node] + g.get_edge(current_node, neighbour).w\n",
    "            \n",
    "            if(alt < dist[neighbour]):\n",
    "                dist[neighbour] = alt\n",
    "\n",
    "                \n",
    "\n",
    "                try:\n",
    "                    new_G.delete_all_edge_of_node(neighbour)\n",
    "                except:\n",
    "                    pass\n",
    "                \n",
    "                new_G.add_edge(current_node, neighbour, g.get_edge(current_node,neighbour).time, alt)\n",
    "                \n",
    "    g.clear_graph_path()\n",
    "    \n",
    "    if(print_g):\n",
    "        new_G.print_graph(size=size)\n",
    "        \n",
    "    return new_G, dist"
   ]
  },
  {
   "cell_type": "code",
   "execution_count": 243,
   "metadata": {},
   "outputs": [],
   "source": [
    "\n",
    "def starting_nodes(df):\n",
    "    #array of nodes of graph a2q\n",
    "    nodi_grafo = pd.concat([df[\"user_a\"], df[\"user_b\"]], axis = 0).drop_duplicates().array\n",
    "    start_p = rd.choice(nodi_grafo)\n",
    "    end_p = rd.choice(nodi_grafo)\n",
    "    return start_p, end_p\n",
    "\n",
    "time_start = \"2008\"\n",
    "time_end = \"2010\"\n",
    "\n",
    "totDataframe_filter = totDataframe[totDataframe.time.between(time_start,time_end)].iloc[:1000]\n",
    "\n",
    "p_start, p_end = starting_nodes(totDataframe_filter)\n",
    "\n",
    "def functionality_3(p, p_start, p_end, time_start, time_end):\n",
    "    \n",
    "    \n",
    "    g = make_graph(totDataframe_filter)\n",
    "    \n",
    "    p.append(p_end)\n",
    "    p.insert(0, p_start)\n",
    "    \n",
    "    final_path = []\n",
    "    for i in range(0, len(p)-1):\n",
    "        new_g, dist = dijkstra(p[i], g)\n",
    "\n",
    "        if(new_g.is_linked_from(p[i], p[i+1])):\n",
    "            final_path.append(new_g.get_edge(p[i], p[i+1]))\n",
    "        else:\n",
    "            temp = []\n",
    "            try:\n",
    "                prec = [el for el in new_g.nodes[p[i+1]] if el.from_n != p[i+1]][0]\n",
    "            except IndexError:\n",
    "                return (\"Not possible\")\n",
    "                break\n",
    "\n",
    "            temp.append(prec)\n",
    "\n",
    "            while(not prec.from_n == p[i]):\n",
    "\n",
    "\n",
    "\n",
    "                punt = [el for el in new_g.nodes[prec.from_n] if el.from_n != prec.from_n][0]\n",
    "\n",
    "                temp.append(punt)\n",
    "\n",
    "                prec = punt\n",
    "\n",
    "            temp.reverse()\n",
    "            final_path.extend(temp)\n",
    "    \n",
    "    lunghezza = sum([edge.w for edge in final_path])\n",
    "    return final_path, lunghezza\n",
    "\n",
    "\n"
   ]
  },
  {
   "cell_type": "code",
   "execution_count": 288,
   "metadata": {},
   "outputs": [
    {
     "data": {
      "application/vnd.jupyter.widget-view+json": {
       "model_id": "7abd9064b09c4dd2844c02f2fb1fbe00",
       "version_major": 2,
       "version_minor": 0
      },
      "text/plain": [
       "HBox(children=(FloatProgress(value=0.0, max=1000.0), HTML(value='')))"
      ]
     },
     "metadata": {},
     "output_type": "display_data"
    },
    {
     "name": "stdout",
     "output_type": "stream",
     "text": [
      "\n"
     ]
    },
    {
     "data": {
      "text/plain": [
       "[243 -> 245 ::::: weight = 1.0 ::::: time: 2008-08-04 08:07:00,\n",
       " 49 -> 245 ::::: weight = 1.0 ::::: time: 2008-08-04 08:31:00,\n",
       " 93 -> 245 ::::: weight = 1.0 ::::: time: 2008-08-04 11:45:00,\n",
       " 95 -> 245 ::::: weight = 1.0 ::::: time: 2008-08-05 21:17:00]"
      ]
     },
     "execution_count": 288,
     "metadata": {},
     "output_type": "execute_result"
    }
   ],
   "source": [
    "g = make_graph(totDataframe_filter)\n",
    "g.nodes[245]"
   ]
  },
  {
   "cell_type": "code",
   "execution_count": 281,
   "metadata": {},
   "outputs": [
    {
     "data": {
      "application/vnd.jupyter.widget-view+json": {
       "model_id": "27fd054b9d8844769fa88423b7ebc71c",
       "version_major": 2,
       "version_minor": 0
      },
      "text/plain": [
       "HBox(children=(FloatProgress(value=0.0, max=1000.0), HTML(value='')))"
      ]
     },
     "metadata": {},
     "output_type": "display_data"
    },
    {
     "name": "stdout",
     "output_type": "stream",
     "text": [
      "\n"
     ]
    },
    {
     "data": {
      "application/vnd.jupyter.widget-view+json": {
       "model_id": "3df3ffdf38d5457daf016d56b102c0ce",
       "version_major": 2,
       "version_minor": 0
      },
      "text/plain": [
       "HBox(children=(FloatProgress(value=0.0, max=273.0), HTML(value='')))"
      ]
     },
     "metadata": {},
     "output_type": "display_data"
    },
    {
     "name": "stdout",
     "output_type": "stream",
     "text": [
      "\n"
     ]
    },
    {
     "data": {
      "application/vnd.jupyter.widget-view+json": {
       "model_id": "9f9cb7756a9c4162b5ae33ce0753b388",
       "version_major": 2,
       "version_minor": 0
      },
      "text/plain": [
       "HBox(children=(FloatProgress(value=0.0, max=273.0), HTML(value='')))"
      ]
     },
     "metadata": {},
     "output_type": "display_data"
    },
    {
     "name": "stdout",
     "output_type": "stream",
     "text": [
      "\n"
     ]
    },
    {
     "data": {
      "application/vnd.jupyter.widget-view+json": {
       "model_id": "5cee8f1448144008852ef9ceb4fee50e",
       "version_major": 2,
       "version_minor": 0
      },
      "text/plain": [
       "HBox(children=(FloatProgress(value=0.0, max=273.0), HTML(value='')))"
      ]
     },
     "metadata": {},
     "output_type": "display_data"
    },
    {
     "name": "stdout",
     "output_type": "stream",
     "text": [
      "\n"
     ]
    },
    {
     "data": {
      "text/plain": [
       "([13 -> 1 ::::: weight = 1.0 ::::: time: 2008-08-01 15:57:00,\n",
       "  1 -> 67 ::::: weight = 1.0 ::::: time: 2008-08-04 15:04:00,\n",
       "  67 -> 83 ::::: weight = 1.0 ::::: time: 2008-08-05 04:22:00],\n",
       " 3.0)"
      ]
     },
     "execution_count": 281,
     "metadata": {},
     "output_type": "execute_result"
    }
   ],
   "source": [
    "functionality_3([1, 67], 13, 83, time_start, time_end)"
   ]
  },
  {
   "cell_type": "code",
   "execution_count": 244,
   "metadata": {},
   "outputs": [
    {
     "data": {
      "application/vnd.jupyter.widget-view+json": {
       "model_id": "5e54ca0836d64a5f8df6e8841f5880aa",
       "version_major": 2,
       "version_minor": 0
      },
      "text/plain": [
       "HBox(children=(FloatProgress(value=0.0, max=1000.0), HTML(value='')))"
      ]
     },
     "metadata": {},
     "output_type": "display_data"
    },
    {
     "name": "stdout",
     "output_type": "stream",
     "text": [
      "\n"
     ]
    },
    {
     "data": {
      "application/vnd.jupyter.widget-view+json": {
       "model_id": "759630064f324e0294cebdb39981d353",
       "version_major": 2,
       "version_minor": 0
      },
      "text/plain": [
       "HBox(children=(FloatProgress(value=0.0, max=273.0), HTML(value='')))"
      ]
     },
     "metadata": {},
     "output_type": "display_data"
    },
    {
     "name": "stdout",
     "output_type": "stream",
     "text": [
      "\n"
     ]
    },
    {
     "data": {
      "text/plain": [
       "([48 -> 2 ::::: weight = 1.0 ::::: time: 2008-08-01 19:16:00], 1.0)"
      ]
     },
     "execution_count": 244,
     "metadata": {},
     "output_type": "execute_result"
    }
   ],
   "source": [
    "functionality_3([], 48, 2, time_start, time_end)\n"
   ]
  },
  {
   "cell_type": "code",
   "execution_count": 289,
   "metadata": {},
   "outputs": [
    {
     "data": {
      "application/vnd.jupyter.widget-view+json": {
       "model_id": "bbed09e6dfe946ed802f4c67494b2246",
       "version_major": 2,
       "version_minor": 0
      },
      "text/plain": [
       "HBox(children=(FloatProgress(value=0.0, max=1000.0), HTML(value='')))"
      ]
     },
     "metadata": {},
     "output_type": "display_data"
    },
    {
     "name": "stdout",
     "output_type": "stream",
     "text": [
      "\n"
     ]
    },
    {
     "data": {
      "application/vnd.jupyter.widget-view+json": {
       "model_id": "7268526f1d6d4ac8b6dac6503ddf76f5",
       "version_major": 2,
       "version_minor": 0
      },
      "text/plain": [
       "HBox(children=(FloatProgress(value=0.0, max=273.0), HTML(value='')))"
      ]
     },
     "metadata": {},
     "output_type": "display_data"
    },
    {
     "name": "stdout",
     "output_type": "stream",
     "text": [
      "\n"
     ]
    },
    {
     "data": {
      "application/vnd.jupyter.widget-view+json": {
       "model_id": "d60d97f64c474647921bdbe05d74ed35",
       "version_major": 2,
       "version_minor": 0
      },
      "text/plain": [
       "HBox(children=(FloatProgress(value=0.0, max=273.0), HTML(value='')))"
      ]
     },
     "metadata": {},
     "output_type": "display_data"
    },
    {
     "name": "stdout",
     "output_type": "stream",
     "text": [
      "\n"
     ]
    },
    {
     "data": {
      "application/vnd.jupyter.widget-view+json": {
       "model_id": "38a84feef4d8488abf55db9c971d0814",
       "version_major": 2,
       "version_minor": 0
      },
      "text/plain": [
       "HBox(children=(FloatProgress(value=0.0, max=273.0), HTML(value='')))"
      ]
     },
     "metadata": {},
     "output_type": "display_data"
    },
    {
     "name": "stdout",
     "output_type": "stream",
     "text": [
      "\n"
     ]
    },
    {
     "data": {
      "application/vnd.jupyter.widget-view+json": {
       "model_id": "2b123bd4526b436d8cf3420cf644f000",
       "version_major": 2,
       "version_minor": 0
      },
      "text/plain": [
       "HBox(children=(FloatProgress(value=0.0, max=273.0), HTML(value='')))"
      ]
     },
     "metadata": {},
     "output_type": "display_data"
    },
    {
     "name": "stdout",
     "output_type": "stream",
     "text": [
      "\n"
     ]
    },
    {
     "data": {
      "text/plain": [
       "([22 -> 9 ::::: weight = 1.0 ::::: time: 2008-08-05 12:54:00,\n",
       "  9 -> 72 ::::: weight = 1.0 ::::: time: 2008-08-02 00:47:00,\n",
       "  72 -> 95 ::::: weight = 1.0 ::::: time: 2008-08-05 22:19:00,\n",
       "  95 -> 245 ::::: weight = 1.0 ::::: time: 2008-08-05 21:17:00],\n",
       " 4.0)"
      ]
     },
     "execution_count": 289,
     "metadata": {},
     "output_type": "execute_result"
    }
   ],
   "source": [
    "functionality_3([9,72,95], 22, 245, time_start, time_end)"
   ]
  },
  {
   "cell_type": "code",
   "execution_count": 246,
   "metadata": {},
   "outputs": [
    {
     "data": {
      "application/vnd.jupyter.widget-view+json": {
       "model_id": "bdbb5214ee3c47318ce5e7918c2a89d3",
       "version_major": 2,
       "version_minor": 0
      },
      "text/plain": [
       "HBox(children=(FloatProgress(value=0.0, max=1000.0), HTML(value='')))"
      ]
     },
     "metadata": {},
     "output_type": "display_data"
    },
    {
     "name": "stdout",
     "output_type": "stream",
     "text": [
      "\n"
     ]
    },
    {
     "data": {
      "application/vnd.jupyter.widget-view+json": {
       "model_id": "b09c5d80e5ea4a32b865b26a0e481efa",
       "version_major": 2,
       "version_minor": 0
      },
      "text/plain": [
       "HBox(children=(FloatProgress(value=0.0, max=273.0), HTML(value='')))"
      ]
     },
     "metadata": {},
     "output_type": "display_data"
    },
    {
     "name": "stdout",
     "output_type": "stream",
     "text": [
      "\n"
     ]
    },
    {
     "data": {
      "application/vnd.jupyter.widget-view+json": {
       "model_id": "b1fb8d9174f7426aaf25ddf22ae4a038",
       "version_major": 2,
       "version_minor": 0
      },
      "text/plain": [
       "HBox(children=(FloatProgress(value=0.0, max=273.0), HTML(value='')))"
      ]
     },
     "metadata": {},
     "output_type": "display_data"
    },
    {
     "name": "stdout",
     "output_type": "stream",
     "text": [
      "\n"
     ]
    },
    {
     "data": {
      "text/plain": [
       "'Not possible'"
      ]
     },
     "execution_count": 246,
     "metadata": {},
     "output_type": "execute_result"
    }
   ],
   "source": [
    "functionality_3([67,380,3397], 1, 13615, time_start, time_end)"
   ]
  },
  {
   "cell_type": "markdown",
   "metadata": {},
   "source": [
    "## prova"
   ]
  },
  {
   "cell_type": "code",
   "execution_count": 265,
   "metadata": {},
   "outputs": [
    {
     "data": {
      "application/vnd.jupyter.widget-view+json": {
       "model_id": "ca2a5b06b6804f778110727fc1d63cac",
       "version_major": 2,
       "version_minor": 0
      },
      "text/plain": [
       "HBox(children=(FloatProgress(value=0.0, max=7.0), HTML(value='')))"
      ]
     },
     "metadata": {},
     "output_type": "display_data"
    },
    {
     "name": "stdout",
     "output_type": "stream",
     "text": [
      "\n"
     ]
    },
    {
     "data": {
      "image/png": "[encoded data removed]",
      "text/plain": [
       "<Figure size 504x504 with 1 Axes>"
      ]
     },
     "metadata": {},
     "output_type": "display_data"
    }
   ],
   "source": [
    "t2 = GRAPH()\n",
    "t2.add_edge(from_n=1,to_n=3, time=\"438\", w=2)\n",
    "t2.add_edge(from_n=3,to_n=2, time=\"438\", w=4)\n",
    "t2.add_edge(from_n=2,to_n=8, time=\"438\", w=5)\n",
    "t2.add_edge(from_n=8,to_n=5, time=\"438\", w=3)\n",
    "t2.add_edge(from_n=5,to_n=4, time=\"438\", w=6)\n",
    "t2.add_node(6)\n",
    "t2.print_graph()"
   ]
  },
  {
   "cell_type": "code",
   "execution_count": 266,
   "metadata": {},
   "outputs": [
    {
     "data": {
      "application/vnd.jupyter.widget-view+json": {
       "model_id": "1313e66336b747f7a437bc874a7b1e0c",
       "version_major": 2,
       "version_minor": 0
      },
      "text/plain": [
       "HBox(children=(FloatProgress(value=0.0, max=7.0), HTML(value='')))"
      ]
     },
     "metadata": {},
     "output_type": "display_data"
    },
    {
     "name": "stdout",
     "output_type": "stream",
     "text": [
      "\n"
     ]
    },
    {
     "data": {
      "application/vnd.jupyter.widget-view+json": {
       "model_id": "07955bd2389a4da880c7aa25498f6ebb",
       "version_major": 2,
       "version_minor": 0
      },
      "text/plain": [
       "HBox(children=(FloatProgress(value=0.0, max=7.0), HTML(value='')))"
      ]
     },
     "metadata": {},
     "output_type": "display_data"
    },
    {
     "name": "stdout",
     "output_type": "stream",
     "text": [
      "\n"
     ]
    },
    {
     "data": {
      "application/vnd.jupyter.widget-view+json": {
       "model_id": "6bcbdb4357e047229d8a0de567b868f8",
       "version_major": 2,
       "version_minor": 0
      },
      "text/plain": [
       "HBox(children=(FloatProgress(value=0.0, max=7.0), HTML(value='')))"
      ]
     },
     "metadata": {},
     "output_type": "display_data"
    },
    {
     "name": "stdout",
     "output_type": "stream",
     "text": [
      "\n"
     ]
    },
    {
     "data": {
      "application/vnd.jupyter.widget-view+json": {
       "model_id": "252ca7604d87445e94f47748f87caae7",
       "version_major": 2,
       "version_minor": 0
      },
      "text/plain": [
       "HBox(children=(FloatProgress(value=0.0, max=7.0), HTML(value='')))"
      ]
     },
     "metadata": {},
     "output_type": "display_data"
    },
    {
     "name": "stdout",
     "output_type": "stream",
     "text": [
      "\n"
     ]
    },
    {
     "data": {
      "application/vnd.jupyter.widget-view+json": {
       "model_id": "da772f2d0d82485fbf92132b6d17d19d",
       "version_major": 2,
       "version_minor": 0
      },
      "text/plain": [
       "HBox(children=(FloatProgress(value=0.0, max=7.0), HTML(value='')))"
      ]
     },
     "metadata": {},
     "output_type": "display_data"
    },
    {
     "name": "stdout",
     "output_type": "stream",
     "text": [
      "\n",
      "[1 -> 3 ::::: weight = 2 ::::: time: 438, 3 -> 2 ::::: weight = 4 ::::: time: 438, 2 -> 8 ::::: weight = 5 ::::: time: 438, 8 -> 5 ::::: weight = 3 ::::: time: 438, 5 -> 4 ::::: weight = 6 ::::: time: 438]\n",
      "20\n"
     ]
    }
   ],
   "source": [
    "    p = [1,3,2,8,5,4]\n",
    "    final_path = []\n",
    "    for i in range(0, len(p)-1):\n",
    "        new_g, dist = dijkstra(p[i], t2)\n",
    "\n",
    "        if(new_g.is_linked_from(p[i], p[i+1])):\n",
    "            final_path.append(new_g.get_edge(p[i], p[i+1]))\n",
    "        else:\n",
    "            temp = []\n",
    "            try:\n",
    "                prec = [el for el in new_g.nodes[p[i+1]] if el.from_n != p[i+1]][0]\n",
    "            except IndexError:\n",
    "                print(\"Not possible\")\n",
    "                break\n",
    "\n",
    "            temp.append(prec)\n",
    "\n",
    "            while(not prec.from_n == p[i]):\n",
    "\n",
    "\n",
    "\n",
    "                punt = [el for el in new_g.nodes[prec.from_n] if el.from_n != prec.from_n][0]\n",
    "\n",
    "                temp.append(punt)\n",
    "\n",
    "                prec = punt\n",
    "\n",
    "            temp.reverse()\n",
    "            final_path.extend(temp)\n",
    "            \n",
    "    \n",
    "    lunghezza = sum([edge.w for edge in final_path])\n",
    "\n",
    "    print(final_path)\n",
    "    print(lunghezza)"
   ]
  },
  {
   "cell_type": "code",
   "execution_count": 269,
   "metadata": {},
   "outputs": [
    {
     "data": {
      "application/vnd.jupyter.widget-view+json": {
       "model_id": "b1ea81f33eb04f08afe4905187944a17",
       "version_major": 2,
       "version_minor": 0
      },
      "text/plain": [
       "HBox(children=(FloatProgress(value=0.0, max=7.0), HTML(value='')))"
      ]
     },
     "metadata": {},
     "output_type": "display_data"
    },
    {
     "name": "stdout",
     "output_type": "stream",
     "text": [
      "\n"
     ]
    },
    {
     "data": {
      "image/png": "[encoded data removed]",
      "text/plain": [
       "<Figure size 504x504 with 1 Axes>"
      ]
     },
     "metadata": {},
     "output_type": "display_data"
    }
   ],
   "source": [
    "t2 = GRAPH()\n",
    "t2.add_edge(from_n=1,to_n=3, time=\"438\", w=2)\n",
    "t2.add_edge(from_n=3,to_n=2, time=\"438\", w=4)\n",
    "t2.add_edge(from_n=2,to_n=8, time=\"438\", w=10)\n",
    "t2.add_edge(from_n=8,to_n=5, time=\"438\", w=3)\n",
    "t2.add_edge(from_n=5,to_n=4, time=\"438\", w=6)\n",
    "t2.add_edge(from_n=2,to_n=1, time=\"438\", w=1)\n",
    "t2.add_edge(from_n=1,to_n=8, time=\"438\", w=0.5)\n",
    "t2.add_node(6)\n",
    "t2.print_graph()"
   ]
  },
  {
   "cell_type": "code",
   "execution_count": 270,
   "metadata": {},
   "outputs": [
    {
     "data": {
      "application/vnd.jupyter.widget-view+json": {
       "model_id": "3b3fe7b3dfcf4135b4642e324b89c85f",
       "version_major": 2,
       "version_minor": 0
      },
      "text/plain": [
       "HBox(children=(FloatProgress(value=0.0, max=7.0), HTML(value='')))"
      ]
     },
     "metadata": {},
     "output_type": "display_data"
    },
    {
     "name": "stdout",
     "output_type": "stream",
     "text": [
      "\n"
     ]
    },
    {
     "data": {
      "application/vnd.jupyter.widget-view+json": {
       "model_id": "3be440e3a2ac47ce90f38cdab698d972",
       "version_major": 2,
       "version_minor": 0
      },
      "text/plain": [
       "HBox(children=(FloatProgress(value=0.0, max=7.0), HTML(value='')))"
      ]
     },
     "metadata": {},
     "output_type": "display_data"
    },
    {
     "name": "stdout",
     "output_type": "stream",
     "text": [
      "\n"
     ]
    },
    {
     "data": {
      "application/vnd.jupyter.widget-view+json": {
       "model_id": "e41e285d5cb442daa13fbfecf79da882",
       "version_major": 2,
       "version_minor": 0
      },
      "text/plain": [
       "HBox(children=(FloatProgress(value=0.0, max=7.0), HTML(value='')))"
      ]
     },
     "metadata": {},
     "output_type": "display_data"
    },
    {
     "name": "stdout",
     "output_type": "stream",
     "text": [
      "\n"
     ]
    },
    {
     "data": {
      "application/vnd.jupyter.widget-view+json": {
       "model_id": "1f5ee863f8b147d7be9a7aeed56f0ff2",
       "version_major": 2,
       "version_minor": 0
      },
      "text/plain": [
       "HBox(children=(FloatProgress(value=0.0, max=7.0), HTML(value='')))"
      ]
     },
     "metadata": {},
     "output_type": "display_data"
    },
    {
     "name": "stdout",
     "output_type": "stream",
     "text": [
      "\n"
     ]
    },
    {
     "data": {
      "application/vnd.jupyter.widget-view+json": {
       "model_id": "1323fe7665b04215add265f73be0bd20",
       "version_major": 2,
       "version_minor": 0
      },
      "text/plain": [
       "HBox(children=(FloatProgress(value=0.0, max=7.0), HTML(value='')))"
      ]
     },
     "metadata": {},
     "output_type": "display_data"
    },
    {
     "name": "stdout",
     "output_type": "stream",
     "text": [
      "\n",
      "[1 -> 3 ::::: weight = 2 ::::: time: 438, 3 -> 2 ::::: weight = 4 ::::: time: 438, 2 -> 1 ::::: weight = 1 ::::: time: 438, 1 -> 8 ::::: weight = 1.5 ::::: time: 438, 8 -> 5 ::::: weight = 3 ::::: time: 438, 5 -> 4 ::::: weight = 6 ::::: time: 438]\n",
      "17.5\n"
     ]
    }
   ],
   "source": [
    "    p = [1,3,2,8,5,4]\n",
    "    final_path = []\n",
    "    for i in range(0, len(p)-1):\n",
    "        new_g, dist = dijkstra(p[i], t2)\n",
    "\n",
    "        if(new_g.is_linked_from(p[i], p[i+1])):\n",
    "            final_path.append(new_g.get_edge(p[i], p[i+1]))\n",
    "        else:\n",
    "            temp = []\n",
    "            try:\n",
    "                prec = [el for el in new_g.nodes[p[i+1]] if el.from_n != p[i+1]][0]\n",
    "            except IndexError:\n",
    "                print(\"Not possible\")\n",
    "                break\n",
    "\n",
    "            temp.append(prec)\n",
    "\n",
    "            while(not prec.from_n == p[i]):\n",
    "\n",
    "\n",
    "\n",
    "                punt = [el for el in new_g.nodes[prec.from_n] if el.from_n != prec.from_n][0]\n",
    "\n",
    "                temp.append(punt)\n",
    "\n",
    "                prec = punt\n",
    "\n",
    "            temp.reverse()\n",
    "            final_path.extend(temp)\n",
    "            \n",
    "    \n",
    "    lunghezza = sum([edge.w for edge in final_path])\n",
    "\n",
    "    print(final_path)\n",
    "    print(lunghezza)"
   ]
  },
  {
   "cell_type": "code",
   "execution_count": 271,
   "metadata": {},
   "outputs": [
    {
     "data": {
      "application/vnd.jupyter.widget-view+json": {
       "model_id": "470f7286cf0f4c3c8901da3e56be9200",
       "version_major": 2,
       "version_minor": 0
      },
      "text/plain": [
       "HBox(children=(FloatProgress(value=0.0, max=6.0), HTML(value='')))"
      ]
     },
     "metadata": {},
     "output_type": "display_data"
    },
    {
     "name": "stdout",
     "output_type": "stream",
     "text": [
      "\n"
     ]
    },
    {
     "data": {
      "image/png": "[encoded data removed]",
      "text/plain": [
       "<Figure size 504x504 with 1 Axes>"
      ]
     },
     "metadata": {},
     "output_type": "display_data"
    }
   ],
   "source": [
    "t2 = GRAPH()\n",
    "t2.add_edge(from_n=1,to_n=3, time=\"438\", w=2)\n",
    "t2.add_edge(from_n=1,to_n=2, time=\"438\", w=4)\n",
    "t2.add_edge(from_n=3,to_n=4, time=\"438\", w=1)\n",
    "t2.add_edge(from_n=4,to_n=2, time=\"438\", w=6)\n",
    "t2.add_edge(from_n=2,to_n=5, time=\"438\", w=1)\n",
    "t2.add_edge(from_n=4,to_n=5, time=\"438\", w=5)\n",
    "t2.add_node(6)\n",
    "t2.print_graph()"
   ]
  },
  {
   "cell_type": "code",
   "execution_count": 272,
   "metadata": {},
   "outputs": [
    {
     "data": {
      "application/vnd.jupyter.widget-view+json": {
       "model_id": "8c807db715e843d885e40a1a2a13877e",
       "version_major": 2,
       "version_minor": 0
      },
      "text/plain": [
       "HBox(children=(FloatProgress(value=0.0, max=6.0), HTML(value='')))"
      ]
     },
     "metadata": {},
     "output_type": "display_data"
    },
    {
     "name": "stdout",
     "output_type": "stream",
     "text": [
      "\n"
     ]
    },
    {
     "data": {
      "application/vnd.jupyter.widget-view+json": {
       "model_id": "ac5612e33dc24061b6397e2015b669af",
       "version_major": 2,
       "version_minor": 0
      },
      "text/plain": [
       "HBox(children=(FloatProgress(value=0.0, max=6.0), HTML(value='')))"
      ]
     },
     "metadata": {},
     "output_type": "display_data"
    },
    {
     "name": "stdout",
     "output_type": "stream",
     "text": [
      "\n",
      "Not possible\n",
      "[1 -> 2 ::::: weight = 4 ::::: time: 438]\n",
      "4\n"
     ]
    }
   ],
   "source": [
    "    p = [1,2,6]\n",
    "    final_path = []\n",
    "    for i in range(0, len(p)-1):\n",
    "        new_g, dist = dijkstra(p[i], t2)\n",
    "\n",
    "        if(new_g.is_linked_from(p[i], p[i+1])):\n",
    "            final_path.append(new_g.get_edge(p[i], p[i+1]))\n",
    "        else:\n",
    "            temp = []\n",
    "            try:\n",
    "                prec = [el for el in new_g.nodes[p[i+1]] if el.from_n != p[i+1]][0]\n",
    "            except IndexError:\n",
    "                print(\"Not possible\")\n",
    "                break\n",
    "\n",
    "            temp.append(prec)\n",
    "\n",
    "            while(not prec.from_n == p[i]):\n",
    "\n",
    "\n",
    "\n",
    "                punt = [el for el in new_g.nodes[prec.from_n] if el.from_n != prec.from_n][0]\n",
    "\n",
    "                temp.append(punt)\n",
    "\n",
    "                prec = punt\n",
    "\n",
    "            temp.reverse()\n",
    "            final_path.extend(temp)\n",
    "            \n",
    "    \n",
    "    lunghezza = sum([edge.w for edge in final_path])\n",
    "\n",
    "    print(final_path)\n",
    "    print(lunghezza)"
   ]
  },
  {
   "cell_type": "code",
   "execution_count": 274,
   "metadata": {},
   "outputs": [
    {
     "data": {
      "application/vnd.jupyter.widget-view+json": {
       "model_id": "c0e0840fe6604513b8f2a8d74fc144fb",
       "version_major": 2,
       "version_minor": 0
      },
      "text/plain": [
       "HBox(children=(FloatProgress(value=0.0, max=6.0), HTML(value='')))"
      ]
     },
     "metadata": {},
     "output_type": "display_data"
    },
    {
     "name": "stdout",
     "output_type": "stream",
     "text": [
      "\n"
     ]
    },
    {
     "data": {
      "application/vnd.jupyter.widget-view+json": {
       "model_id": "8255ccb086de4e1a8ef2200538580380",
       "version_major": 2,
       "version_minor": 0
      },
      "text/plain": [
       "HBox(children=(FloatProgress(value=0.0, max=6.0), HTML(value='')))"
      ]
     },
     "metadata": {},
     "output_type": "display_data"
    },
    {
     "name": "stdout",
     "output_type": "stream",
     "text": [
      "\n",
      "[1 -> 2 ::::: weight = 4 ::::: time: 438, 2 -> 5 ::::: weight = 1 ::::: time: 438]\n",
      "5\n"
     ]
    }
   ],
   "source": [
    "    p = [1,2,5]\n",
    "    final_path = []\n",
    "    for i in range(0, len(p)-1):\n",
    "        new_g, dist = dijkstra(p[i], t2)\n",
    "\n",
    "        if(new_g.is_linked_from(p[i], p[i+1])):\n",
    "            final_path.append(new_g.get_edge(p[i], p[i+1]))\n",
    "        else:\n",
    "            temp = []\n",
    "            try:\n",
    "                prec = [el for el in new_g.nodes[p[i+1]] if el.from_n != p[i+1]][0]\n",
    "            except IndexError:\n",
    "                print(\"Not possible\")\n",
    "                break\n",
    "\n",
    "            temp.append(prec)\n",
    "\n",
    "            while(not prec.from_n == p[i]):\n",
    "\n",
    "\n",
    "\n",
    "                punt = [el for el in new_g.nodes[prec.from_n] if el.from_n != prec.from_n][0]\n",
    "\n",
    "                temp.append(punt)\n",
    "\n",
    "                prec = punt\n",
    "\n",
    "            temp.reverse()\n",
    "            final_path.extend(temp)\n",
    "            \n",
    "    \n",
    "    lunghezza = sum([edge.w for edge in final_path])\n",
    "\n",
    "    print(final_path)\n",
    "    print(lunghezza)"
   ]
  },
  {
   "cell_type": "code",
   "execution_count": null,
   "metadata": {},
   "outputs": [],
   "source": []
  }
 ],
 "metadata": {
  "kernelspec": {
   "display_name": "Python 3",
   "language": "python",
   "name": "python3"
  },
  "language_info": {
   "codemirror_mode": {
    "name": "ipython",
    "version": 3
   },
   "file_extension": ".py",
   "mimetype": "text/x-python",
   "name": "python",
   "nbconvert_exporter": "python",
   "pygments_lexer": "ipython3",
   "version": "3.8.3"
  }
 },
 "nbformat": 4,
 "nbformat_minor": 5
}
