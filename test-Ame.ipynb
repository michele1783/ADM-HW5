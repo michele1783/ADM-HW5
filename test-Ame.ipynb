{
 "cells": [
  {
   "cell_type": "code",
   "execution_count": 1,
   "id": "6226ee25",
   "metadata": {},
   "outputs": [],
   "source": [
    "import pandas as pd\n",
    "import numpy as np\n",
    "from datetime import *\n",
    "import networkx as nx\n",
    "from collections import *\n",
    "from tqdm.notebook import tqdm\n",
    "\n",
    "import dask\n",
    "from multiprocessing.dummy import Pool\n",
    "import multiprocessing\n",
    "import matplotlib.pyplot as plt\n",
    "import networkx.drawing\n",
    "import pickle\n",
    "import random as rd\n",
    "import functionality_1 as fun_1\n",
    "import functionality_3 as fun_3\n",
    "from tabulate import tabulate"
   ]
  },
  {
   "cell_type": "code",
   "execution_count": 2,
   "id": "24a4dded",
   "metadata": {},
   "outputs": [],
   "source": [
    "def dateparse(time_as_a_unix_timestamp):\n",
    "    \n",
    "    #input:unix time stamp\n",
    "    #output: date\n",
    "    #through this function we pass from the unix timestamp  to a readable date\n",
    "    return pd.to_datetime(time_as_a_unix_timestamp, unit=\"s\").strftime(\"%Y-%m-%d %H:%M\")"
   ]
  },
  {
   "cell_type": "code",
   "execution_count": 3,
   "id": "be3d0d2d",
   "metadata": {},
   "outputs": [],
   "source": [
    "class display(object):\n",
    "    #it is a class that allows to visualize contemporarely more dataframe \n",
    "    #it's just for visualization\n",
    "    \n",
    "    \"\"\"Display HTML representation of multiple objects\"\"\"\n",
    "    template = \"\"\"<div style=\"float: left; padding: 10px;\">\n",
    "    <p style='font-family:\"Courier New\", Courier, monospace'>{0}</p>{1}\n",
    "    </div>\"\"\"\n",
    "    def __init__(self, *args):\n",
    "        self.args = args\n",
    "        \n",
    "    def _repr_html_(self):\n",
    "        return '\\n'.join(self.template.format(a, eval(a)._repr_html_())\n",
    "                         for a in self.args)\n",
    "    \n",
    "    def __repr__(self):\n",
    "        return '\\n\\n'.join(a + '\\n' + repr(eval(a))\n",
    "                           for a in self.args)"
   ]
  },
  {
   "cell_type": "markdown",
   "id": "4be9a9ff",
   "metadata": {},
   "source": [
    "## 1. Data"
   ]
  },
  {
   "cell_type": "code",
   "execution_count": 4,
   "id": "2f3af613",
   "metadata": {},
   "outputs": [],
   "source": [
    "#Answers to questions\n",
    "a2q = pd.read_csv(\"sx-stackoverflow-a2q.txt\", sep=\" \" ,header=None, names=[\"user_a\", \"user_b\", \"time\"], parse_dates=[\"time\"], date_parser=dateparse)\n",
    "\n",
    "#Comments to answers\n",
    "c2a = pd.read_csv(\"sx-stackoverflow-c2a.txt\", sep=\" \" ,header=None, names=[\"user_a\", \"user_b\", \"time\"], parse_dates=[\"time\"], date_parser=dateparse)\n",
    "\n",
    "#Comments to questions\n",
    "c2q = pd.read_csv(\"sx-stackoverflow-c2q.txt\", sep=\" \" ,header=None, names=[\"user_a\", \"user_b\", \"time\"], parse_dates=[\"time\"], date_parser=dateparse)"
   ]
  },
  {
   "cell_type": "markdown",
   "id": "ee0102c5",
   "metadata": {},
   "source": [
    "In the merged graph we have weighted link and we have decided to build these weights in the following way:\n",
    "-  we have assigned a score of 1.0 to \"Answers to questions\"\n",
    "-  we have assigned a score of 0.7 to \"Comments to questions\"\n",
    "-  we have assigned a score of 0.4 to \"Comments to answers\"\n",
    "\n",
    "The reasons are that we have thought that the answers to questions are the more relevant in the merged graph because they are possible solutions of user's question. Then a bit less important are comments to questions, but they could be relevant to clarify the question or specify something. Comments to answer are the least relevant, but we have not wanted to penalize them too much because in some situations they could be useful."
   ]
  },
  {
   "cell_type": "code",
   "execution_count": 5,
   "id": "973e9ef8",
   "metadata": {},
   "outputs": [],
   "source": [
    "#Answers to questions\n",
    "a2q[\"weights\"] = 1\n",
    "\n",
    "#Comments to answers\n",
    "c2a[\"weights\"] = 0.4\n",
    "\n",
    "#Comments to questions\n",
    "c2q[\"weights\"] = 0.7"
   ]
  },
  {
   "cell_type": "markdown",
   "id": "eb690d35",
   "metadata": {},
   "source": [
    "Nice and simultaneous visualization of the three file!"
   ]
  },
  {
   "cell_type": "code",
   "execution_count": 6,
   "id": "00ed29ad",
   "metadata": {},
   "outputs": [
    {
     "data": {
      "text/html": [
       "<div style=\"float: left; padding: 10px;\">\n",
       "    <p style='font-family:\"Courier New\", Courier, monospace'>a2q</p><div>\n",
       "<style scoped>\n",
       "    .dataframe tbody tr th:only-of-type {\n",
       "        vertical-align: middle;\n",
       "    }\n",
       "\n",
       "    .dataframe tbody tr th {\n",
       "        vertical-align: top;\n",
       "    }\n",
       "\n",
       "    .dataframe thead th {\n",
       "        text-align: right;\n",
       "    }\n",
       "</style>\n",
       "<table border=\"1\" class=\"dataframe\">\n",
       "  <thead>\n",
       "    <tr style=\"text-align: right;\">\n",
       "      <th></th>\n",
       "      <th>user_a</th>\n",
       "      <th>user_b</th>\n",
       "      <th>time</th>\n",
       "      <th>weights</th>\n",
       "    </tr>\n",
       "  </thead>\n",
       "  <tbody>\n",
       "    <tr>\n",
       "      <th>0</th>\n",
       "      <td>9</td>\n",
       "      <td>8</td>\n",
       "      <td>2008-08-01 05:17:00</td>\n",
       "      <td>1</td>\n",
       "    </tr>\n",
       "    <tr>\n",
       "      <th>1</th>\n",
       "      <td>1</td>\n",
       "      <td>1</td>\n",
       "      <td>2008-08-01 06:56:00</td>\n",
       "      <td>1</td>\n",
       "    </tr>\n",
       "    <tr>\n",
       "      <th>2</th>\n",
       "      <td>13</td>\n",
       "      <td>1</td>\n",
       "      <td>2008-08-01 15:57:00</td>\n",
       "      <td>1</td>\n",
       "    </tr>\n",
       "    <tr>\n",
       "      <th>3</th>\n",
       "      <td>17</td>\n",
       "      <td>1</td>\n",
       "      <td>2008-08-01 19:07:00</td>\n",
       "      <td>1</td>\n",
       "    </tr>\n",
       "    <tr>\n",
       "      <th>4</th>\n",
       "      <td>48</td>\n",
       "      <td>2</td>\n",
       "      <td>2008-08-01 19:16:00</td>\n",
       "      <td>1</td>\n",
       "    </tr>\n",
       "    <tr>\n",
       "      <th>...</th>\n",
       "      <td>...</td>\n",
       "      <td>...</td>\n",
       "      <td>...</td>\n",
       "      <td>...</td>\n",
       "    </tr>\n",
       "    <tr>\n",
       "      <th>17823520</th>\n",
       "      <td>2773607</td>\n",
       "      <td>1048138</td>\n",
       "      <td>2016-03-06 12:16:00</td>\n",
       "      <td>1</td>\n",
       "    </tr>\n",
       "    <tr>\n",
       "      <th>17823521</th>\n",
       "      <td>6018278</td>\n",
       "      <td>1982354</td>\n",
       "      <td>2016-03-06 12:16:00</td>\n",
       "      <td>1</td>\n",
       "    </tr>\n",
       "    <tr>\n",
       "      <th>17823522</th>\n",
       "      <td>3187183</td>\n",
       "      <td>1404306</td>\n",
       "      <td>2016-03-06 12:17:00</td>\n",
       "      <td>1</td>\n",
       "    </tr>\n",
       "    <tr>\n",
       "      <th>17823523</th>\n",
       "      <td>6022341</td>\n",
       "      <td>1667278</td>\n",
       "      <td>2016-03-06 12:17:00</td>\n",
       "      <td>1</td>\n",
       "    </tr>\n",
       "    <tr>\n",
       "      <th>17823524</th>\n",
       "      <td>6018304</td>\n",
       "      <td>6024256</td>\n",
       "      <td>2016-03-06 12:18:00</td>\n",
       "      <td>1</td>\n",
       "    </tr>\n",
       "  </tbody>\n",
       "</table>\n",
       "<p>17823525 rows × 4 columns</p>\n",
       "</div>\n",
       "    </div>\n",
       "<div style=\"float: left; padding: 10px;\">\n",
       "    <p style='font-family:\"Courier New\", Courier, monospace'>c2a</p><div>\n",
       "<style scoped>\n",
       "    .dataframe tbody tr th:only-of-type {\n",
       "        vertical-align: middle;\n",
       "    }\n",
       "\n",
       "    .dataframe tbody tr th {\n",
       "        vertical-align: top;\n",
       "    }\n",
       "\n",
       "    .dataframe thead th {\n",
       "        text-align: right;\n",
       "    }\n",
       "</style>\n",
       "<table border=\"1\" class=\"dataframe\">\n",
       "  <thead>\n",
       "    <tr style=\"text-align: right;\">\n",
       "      <th></th>\n",
       "      <th>user_a</th>\n",
       "      <th>user_b</th>\n",
       "      <th>time</th>\n",
       "      <th>weights</th>\n",
       "    </tr>\n",
       "  </thead>\n",
       "  <tbody>\n",
       "    <tr>\n",
       "      <th>0</th>\n",
       "      <td>1</td>\n",
       "      <td>91</td>\n",
       "      <td>2008-09-06 15:07:00</td>\n",
       "      <td>0.4</td>\n",
       "    </tr>\n",
       "    <tr>\n",
       "      <th>1</th>\n",
       "      <td>3</td>\n",
       "      <td>91</td>\n",
       "      <td>2008-09-06 15:09:00</td>\n",
       "      <td>0.4</td>\n",
       "    </tr>\n",
       "    <tr>\n",
       "      <th>2</th>\n",
       "      <td>380</td>\n",
       "      <td>350</td>\n",
       "      <td>2008-09-06 15:42:00</td>\n",
       "      <td>0.4</td>\n",
       "    </tr>\n",
       "    <tr>\n",
       "      <th>3</th>\n",
       "      <td>4642</td>\n",
       "      <td>2257</td>\n",
       "      <td>2008-09-06 20:51:00</td>\n",
       "      <td>0.4</td>\n",
       "    </tr>\n",
       "    <tr>\n",
       "      <th>4</th>\n",
       "      <td>4642</td>\n",
       "      <td>1324220</td>\n",
       "      <td>2008-09-06 21:15:00</td>\n",
       "      <td>0.4</td>\n",
       "    </tr>\n",
       "    <tr>\n",
       "      <th>...</th>\n",
       "      <td>...</td>\n",
       "      <td>...</td>\n",
       "      <td>...</td>\n",
       "      <td>...</td>\n",
       "    </tr>\n",
       "    <tr>\n",
       "      <th>25405369</th>\n",
       "      <td>144088</td>\n",
       "      <td>347727</td>\n",
       "      <td>2016-03-06 14:08:00</td>\n",
       "      <td>0.4</td>\n",
       "    </tr>\n",
       "    <tr>\n",
       "      <th>25405370</th>\n",
       "      <td>5878860</td>\n",
       "      <td>1330341</td>\n",
       "      <td>2016-03-06 14:09:00</td>\n",
       "      <td>0.4</td>\n",
       "    </tr>\n",
       "    <tr>\n",
       "      <th>25405371</th>\n",
       "      <td>144088</td>\n",
       "      <td>98207</td>\n",
       "      <td>2016-03-06 14:09:00</td>\n",
       "      <td>0.4</td>\n",
       "    </tr>\n",
       "    <tr>\n",
       "      <th>25405372</th>\n",
       "      <td>4049257</td>\n",
       "      <td>3816212</td>\n",
       "      <td>2016-03-06 14:09:00</td>\n",
       "      <td>0.4</td>\n",
       "    </tr>\n",
       "    <tr>\n",
       "      <th>25405373</th>\n",
       "      <td>144088</td>\n",
       "      <td>275047</td>\n",
       "      <td>2016-03-06 14:10:00</td>\n",
       "      <td>0.4</td>\n",
       "    </tr>\n",
       "  </tbody>\n",
       "</table>\n",
       "<p>25405374 rows × 4 columns</p>\n",
       "</div>\n",
       "    </div>\n",
       "<div style=\"float: left; padding: 10px;\">\n",
       "    <p style='font-family:\"Courier New\", Courier, monospace'>c2q</p><div>\n",
       "<style scoped>\n",
       "    .dataframe tbody tr th:only-of-type {\n",
       "        vertical-align: middle;\n",
       "    }\n",
       "\n",
       "    .dataframe tbody tr th {\n",
       "        vertical-align: top;\n",
       "    }\n",
       "\n",
       "    .dataframe thead th {\n",
       "        text-align: right;\n",
       "    }\n",
       "</style>\n",
       "<table border=\"1\" class=\"dataframe\">\n",
       "  <thead>\n",
       "    <tr style=\"text-align: right;\">\n",
       "      <th></th>\n",
       "      <th>user_a</th>\n",
       "      <th>user_b</th>\n",
       "      <th>time</th>\n",
       "      <th>weights</th>\n",
       "    </tr>\n",
       "  </thead>\n",
       "  <tbody>\n",
       "    <tr>\n",
       "      <th>0</th>\n",
       "      <td>4550</td>\n",
       "      <td>4550</td>\n",
       "      <td>2008-09-06 19:26:00</td>\n",
       "      <td>0.7</td>\n",
       "    </tr>\n",
       "    <tr>\n",
       "      <th>1</th>\n",
       "      <td>242</td>\n",
       "      <td>184</td>\n",
       "      <td>2008-09-06 20:38:00</td>\n",
       "      <td>0.7</td>\n",
       "    </tr>\n",
       "    <tr>\n",
       "      <th>2</th>\n",
       "      <td>4213</td>\n",
       "      <td>4946</td>\n",
       "      <td>2008-09-07 06:15:00</td>\n",
       "      <td>0.7</td>\n",
       "    </tr>\n",
       "    <tr>\n",
       "      <th>3</th>\n",
       "      <td>91</td>\n",
       "      <td>91</td>\n",
       "      <td>2008-09-07 06:18:00</td>\n",
       "      <td>0.7</td>\n",
       "    </tr>\n",
       "    <tr>\n",
       "      <th>4</th>\n",
       "      <td>2658</td>\n",
       "      <td>1874</td>\n",
       "      <td>2008-09-07 07:18:00</td>\n",
       "      <td>0.7</td>\n",
       "    </tr>\n",
       "    <tr>\n",
       "      <th>...</th>\n",
       "      <td>...</td>\n",
       "      <td>...</td>\n",
       "      <td>...</td>\n",
       "      <td>...</td>\n",
       "    </tr>\n",
       "    <tr>\n",
       "      <th>20268146</th>\n",
       "      <td>1177890</td>\n",
       "      <td>4917254</td>\n",
       "      <td>2016-03-06 14:06:00</td>\n",
       "      <td>0.7</td>\n",
       "    </tr>\n",
       "    <tr>\n",
       "      <th>20268147</th>\n",
       "      <td>3345375</td>\n",
       "      <td>4022289</td>\n",
       "      <td>2016-03-06 14:08:00</td>\n",
       "      <td>0.7</td>\n",
       "    </tr>\n",
       "    <tr>\n",
       "      <th>20268148</th>\n",
       "      <td>3507137</td>\n",
       "      <td>1801524</td>\n",
       "      <td>2016-03-06 14:09:00</td>\n",
       "      <td>0.7</td>\n",
       "    </tr>\n",
       "    <tr>\n",
       "      <th>20268149</th>\n",
       "      <td>5617035</td>\n",
       "      <td>4368648</td>\n",
       "      <td>2016-03-06 14:10:00</td>\n",
       "      <td>0.7</td>\n",
       "    </tr>\n",
       "    <tr>\n",
       "      <th>20268150</th>\n",
       "      <td>5579164</td>\n",
       "      <td>5579164</td>\n",
       "      <td>2016-03-06 14:10:00</td>\n",
       "      <td>0.7</td>\n",
       "    </tr>\n",
       "  </tbody>\n",
       "</table>\n",
       "<p>20268151 rows × 4 columns</p>\n",
       "</div>\n",
       "    </div>"
      ],
      "text/plain": [
       "a2q\n",
       "           user_a   user_b                time  weights\n",
       "0               9        8 2008-08-01 05:17:00        1\n",
       "1               1        1 2008-08-01 06:56:00        1\n",
       "2              13        1 2008-08-01 15:57:00        1\n",
       "3              17        1 2008-08-01 19:07:00        1\n",
       "4              48        2 2008-08-01 19:16:00        1\n",
       "...           ...      ...                 ...      ...\n",
       "17823520  2773607  1048138 2016-03-06 12:16:00        1\n",
       "17823521  6018278  1982354 2016-03-06 12:16:00        1\n",
       "17823522  3187183  1404306 2016-03-06 12:17:00        1\n",
       "17823523  6022341  1667278 2016-03-06 12:17:00        1\n",
       "17823524  6018304  6024256 2016-03-06 12:18:00        1\n",
       "\n",
       "[17823525 rows x 4 columns]\n",
       "\n",
       "c2a\n",
       "           user_a   user_b                time  weights\n",
       "0               1       91 2008-09-06 15:07:00      0.4\n",
       "1               3       91 2008-09-06 15:09:00      0.4\n",
       "2             380      350 2008-09-06 15:42:00      0.4\n",
       "3            4642     2257 2008-09-06 20:51:00      0.4\n",
       "4            4642  1324220 2008-09-06 21:15:00      0.4\n",
       "...           ...      ...                 ...      ...\n",
       "25405369   144088   347727 2016-03-06 14:08:00      0.4\n",
       "25405370  5878860  1330341 2016-03-06 14:09:00      0.4\n",
       "25405371   144088    98207 2016-03-06 14:09:00      0.4\n",
       "25405372  4049257  3816212 2016-03-06 14:09:00      0.4\n",
       "25405373   144088   275047 2016-03-06 14:10:00      0.4\n",
       "\n",
       "[25405374 rows x 4 columns]\n",
       "\n",
       "c2q\n",
       "           user_a   user_b                time  weights\n",
       "0            4550     4550 2008-09-06 19:26:00      0.7\n",
       "1             242      184 2008-09-06 20:38:00      0.7\n",
       "2            4213     4946 2008-09-07 06:15:00      0.7\n",
       "3              91       91 2008-09-07 06:18:00      0.7\n",
       "4            2658     1874 2008-09-07 07:18:00      0.7\n",
       "...           ...      ...                 ...      ...\n",
       "20268146  1177890  4917254 2016-03-06 14:06:00      0.7\n",
       "20268147  3345375  4022289 2016-03-06 14:08:00      0.7\n",
       "20268148  3507137  1801524 2016-03-06 14:09:00      0.7\n",
       "20268149  5617035  4368648 2016-03-06 14:10:00      0.7\n",
       "20268150  5579164  5579164 2016-03-06 14:10:00      0.7\n",
       "\n",
       "[20268151 rows x 4 columns]"
      ]
     },
     "execution_count": 6,
     "metadata": {},
     "output_type": "execute_result"
    }
   ],
   "source": [
    "display(\"a2q\", \"c2a\", \"c2q\")"
   ]
  },
  {
   "cell_type": "markdown",
   "id": "725482a1",
   "metadata": {},
   "source": [
    "We have already assigned to each edge its weight based on what kind of edge is (if it is a link between an answer and a question or if it is one from a comment to an answer or if it is one from a comment to an question) so now we can just simply concatenate the three dataframe."
   ]
  },
  {
   "cell_type": "code",
   "execution_count": 7,
   "id": "2e7ab44c",
   "metadata": {},
   "outputs": [
    {
     "data": {
      "text/html": [
       "<div>\n",
       "<style scoped>\n",
       "    .dataframe tbody tr th:only-of-type {\n",
       "        vertical-align: middle;\n",
       "    }\n",
       "\n",
       "    .dataframe tbody tr th {\n",
       "        vertical-align: top;\n",
       "    }\n",
       "\n",
       "    .dataframe thead th {\n",
       "        text-align: right;\n",
       "    }\n",
       "</style>\n",
       "<table border=\"1\" class=\"dataframe\">\n",
       "  <thead>\n",
       "    <tr style=\"text-align: right;\">\n",
       "      <th></th>\n",
       "      <th>user_a</th>\n",
       "      <th>user_b</th>\n",
       "      <th>time</th>\n",
       "      <th>weights</th>\n",
       "    </tr>\n",
       "  </thead>\n",
       "  <tbody>\n",
       "    <tr>\n",
       "      <th>0</th>\n",
       "      <td>9</td>\n",
       "      <td>8</td>\n",
       "      <td>2008-08-01 05:17:00</td>\n",
       "      <td>1.0</td>\n",
       "    </tr>\n",
       "    <tr>\n",
       "      <th>1</th>\n",
       "      <td>1</td>\n",
       "      <td>1</td>\n",
       "      <td>2008-08-01 06:56:00</td>\n",
       "      <td>1.0</td>\n",
       "    </tr>\n",
       "    <tr>\n",
       "      <th>2</th>\n",
       "      <td>13</td>\n",
       "      <td>1</td>\n",
       "      <td>2008-08-01 15:57:00</td>\n",
       "      <td>1.0</td>\n",
       "    </tr>\n",
       "    <tr>\n",
       "      <th>3</th>\n",
       "      <td>17</td>\n",
       "      <td>1</td>\n",
       "      <td>2008-08-01 19:07:00</td>\n",
       "      <td>1.0</td>\n",
       "    </tr>\n",
       "    <tr>\n",
       "      <th>4</th>\n",
       "      <td>48</td>\n",
       "      <td>2</td>\n",
       "      <td>2008-08-01 19:16:00</td>\n",
       "      <td>1.0</td>\n",
       "    </tr>\n",
       "    <tr>\n",
       "      <th>...</th>\n",
       "      <td>...</td>\n",
       "      <td>...</td>\n",
       "      <td>...</td>\n",
       "      <td>...</td>\n",
       "    </tr>\n",
       "    <tr>\n",
       "      <th>20268146</th>\n",
       "      <td>1177890</td>\n",
       "      <td>4917254</td>\n",
       "      <td>2016-03-06 14:06:00</td>\n",
       "      <td>0.7</td>\n",
       "    </tr>\n",
       "    <tr>\n",
       "      <th>20268147</th>\n",
       "      <td>3345375</td>\n",
       "      <td>4022289</td>\n",
       "      <td>2016-03-06 14:08:00</td>\n",
       "      <td>0.7</td>\n",
       "    </tr>\n",
       "    <tr>\n",
       "      <th>20268148</th>\n",
       "      <td>3507137</td>\n",
       "      <td>1801524</td>\n",
       "      <td>2016-03-06 14:09:00</td>\n",
       "      <td>0.7</td>\n",
       "    </tr>\n",
       "    <tr>\n",
       "      <th>20268149</th>\n",
       "      <td>5617035</td>\n",
       "      <td>4368648</td>\n",
       "      <td>2016-03-06 14:10:00</td>\n",
       "      <td>0.7</td>\n",
       "    </tr>\n",
       "    <tr>\n",
       "      <th>20268150</th>\n",
       "      <td>5579164</td>\n",
       "      <td>5579164</td>\n",
       "      <td>2016-03-06 14:10:00</td>\n",
       "      <td>0.7</td>\n",
       "    </tr>\n",
       "  </tbody>\n",
       "</table>\n",
       "<p>63497050 rows × 4 columns</p>\n",
       "</div>"
      ],
      "text/plain": [
       "           user_a   user_b                time  weights\n",
       "0               9        8 2008-08-01 05:17:00      1.0\n",
       "1               1        1 2008-08-01 06:56:00      1.0\n",
       "2              13        1 2008-08-01 15:57:00      1.0\n",
       "3              17        1 2008-08-01 19:07:00      1.0\n",
       "4              48        2 2008-08-01 19:16:00      1.0\n",
       "...           ...      ...                 ...      ...\n",
       "20268146  1177890  4917254 2016-03-06 14:06:00      0.7\n",
       "20268147  3345375  4022289 2016-03-06 14:08:00      0.7\n",
       "20268148  3507137  1801524 2016-03-06 14:09:00      0.7\n",
       "20268149  5617035  4368648 2016-03-06 14:10:00      0.7\n",
       "20268150  5579164  5579164 2016-03-06 14:10:00      0.7\n",
       "\n",
       "[63497050 rows x 4 columns]"
      ]
     },
     "execution_count": 7,
     "metadata": {},
     "output_type": "execute_result"
    }
   ],
   "source": [
    "totDataframe = pd.concat([a2q, c2a, c2q])\n",
    "totDataframe"
   ]
  },
  {
   "cell_type": "markdown",
   "id": "816b1f49",
   "metadata": {},
   "source": [
    "We have decided to filter the dataset through an interval of time of two years, from 2008 to 2010. Because in our opinion it is good tradeoff between deal with a smaller amount of data but sufficiently large interval to obtain significant result. We have focused on years during this filtering because a precision in second for our  analysis is not relevant."
   ]
  },
  {
   "cell_type": "code",
   "execution_count": 21,
   "id": "beb52657",
   "metadata": {},
   "outputs": [
    {
     "data": {
      "text/html": [
       "<div style=\"float: left; padding: 10px;\">\n",
       "    <p style='font-family:\"Courier New\", Courier, monospace'>a2q_2y</p><div>\n",
       "<style scoped>\n",
       "    .dataframe tbody tr th:only-of-type {\n",
       "        vertical-align: middle;\n",
       "    }\n",
       "\n",
       "    .dataframe tbody tr th {\n",
       "        vertical-align: top;\n",
       "    }\n",
       "\n",
       "    .dataframe thead th {\n",
       "        text-align: right;\n",
       "    }\n",
       "</style>\n",
       "<table border=\"1\" class=\"dataframe\">\n",
       "  <thead>\n",
       "    <tr style=\"text-align: right;\">\n",
       "      <th></th>\n",
       "      <th>user_a</th>\n",
       "      <th>user_b</th>\n",
       "      <th>time</th>\n",
       "      <th>weights</th>\n",
       "    </tr>\n",
       "  </thead>\n",
       "  <tbody>\n",
       "    <tr>\n",
       "      <th>0</th>\n",
       "      <td>9</td>\n",
       "      <td>8</td>\n",
       "      <td>2008-08-01 05:17:00</td>\n",
       "      <td>1</td>\n",
       "    </tr>\n",
       "    <tr>\n",
       "      <th>1</th>\n",
       "      <td>1</td>\n",
       "      <td>1</td>\n",
       "      <td>2008-08-01 06:56:00</td>\n",
       "      <td>1</td>\n",
       "    </tr>\n",
       "    <tr>\n",
       "      <th>2</th>\n",
       "      <td>13</td>\n",
       "      <td>1</td>\n",
       "      <td>2008-08-01 15:57:00</td>\n",
       "      <td>1</td>\n",
       "    </tr>\n",
       "    <tr>\n",
       "      <th>3</th>\n",
       "      <td>17</td>\n",
       "      <td>1</td>\n",
       "      <td>2008-08-01 19:07:00</td>\n",
       "      <td>1</td>\n",
       "    </tr>\n",
       "    <tr>\n",
       "      <th>4</th>\n",
       "      <td>48</td>\n",
       "      <td>2</td>\n",
       "      <td>2008-08-01 19:16:00</td>\n",
       "      <td>1</td>\n",
       "    </tr>\n",
       "    <tr>\n",
       "      <th>...</th>\n",
       "      <td>...</td>\n",
       "      <td>...</td>\n",
       "      <td>...</td>\n",
       "      <td>...</td>\n",
       "    </tr>\n",
       "    <tr>\n",
       "      <th>1286375</th>\n",
       "      <td>69148</td>\n",
       "      <td>192741</td>\n",
       "      <td>2009-10-14 06:13:00</td>\n",
       "      <td>1</td>\n",
       "    </tr>\n",
       "    <tr>\n",
       "      <th>1286376</th>\n",
       "      <td>13744</td>\n",
       "      <td>192741</td>\n",
       "      <td>2009-12-30 05:33:00</td>\n",
       "      <td>1</td>\n",
       "    </tr>\n",
       "    <tr>\n",
       "      <th>1308063</th>\n",
       "      <td>107156</td>\n",
       "      <td>41543</td>\n",
       "      <td>2009-08-07 20:18:00</td>\n",
       "      <td>1</td>\n",
       "    </tr>\n",
       "    <tr>\n",
       "      <th>1405111</th>\n",
       "      <td>105389</td>\n",
       "      <td>69769</td>\n",
       "      <td>2009-11-23 02:35:00</td>\n",
       "      <td>1</td>\n",
       "    </tr>\n",
       "    <tr>\n",
       "      <th>1602268</th>\n",
       "      <td>158014</td>\n",
       "      <td>221393</td>\n",
       "      <td>2009-12-08 22:55:00</td>\n",
       "      <td>1</td>\n",
       "    </tr>\n",
       "  </tbody>\n",
       "</table>\n",
       "<p>1046832 rows × 4 columns</p>\n",
       "</div>\n",
       "    </div>\n",
       "<div style=\"float: left; padding: 10px;\">\n",
       "    <p style='font-family:\"Courier New\", Courier, monospace'>c2a_2y</p><div>\n",
       "<style scoped>\n",
       "    .dataframe tbody tr th:only-of-type {\n",
       "        vertical-align: middle;\n",
       "    }\n",
       "\n",
       "    .dataframe tbody tr th {\n",
       "        vertical-align: top;\n",
       "    }\n",
       "\n",
       "    .dataframe thead th {\n",
       "        text-align: right;\n",
       "    }\n",
       "</style>\n",
       "<table border=\"1\" class=\"dataframe\">\n",
       "  <thead>\n",
       "    <tr style=\"text-align: right;\">\n",
       "      <th></th>\n",
       "      <th>user_a</th>\n",
       "      <th>user_b</th>\n",
       "      <th>time</th>\n",
       "      <th>weights</th>\n",
       "    </tr>\n",
       "  </thead>\n",
       "  <tbody>\n",
       "    <tr>\n",
       "      <th>0</th>\n",
       "      <td>1</td>\n",
       "      <td>91</td>\n",
       "      <td>2008-09-06 15:07:00</td>\n",
       "      <td>0.4</td>\n",
       "    </tr>\n",
       "    <tr>\n",
       "      <th>1</th>\n",
       "      <td>3</td>\n",
       "      <td>91</td>\n",
       "      <td>2008-09-06 15:09:00</td>\n",
       "      <td>0.4</td>\n",
       "    </tr>\n",
       "    <tr>\n",
       "      <th>2</th>\n",
       "      <td>380</td>\n",
       "      <td>350</td>\n",
       "      <td>2008-09-06 15:42:00</td>\n",
       "      <td>0.4</td>\n",
       "    </tr>\n",
       "    <tr>\n",
       "      <th>3</th>\n",
       "      <td>4642</td>\n",
       "      <td>2257</td>\n",
       "      <td>2008-09-06 20:51:00</td>\n",
       "      <td>0.4</td>\n",
       "    </tr>\n",
       "    <tr>\n",
       "      <th>4</th>\n",
       "      <td>4642</td>\n",
       "      <td>1324220</td>\n",
       "      <td>2008-09-06 21:15:00</td>\n",
       "      <td>0.4</td>\n",
       "    </tr>\n",
       "    <tr>\n",
       "      <th>...</th>\n",
       "      <td>...</td>\n",
       "      <td>...</td>\n",
       "      <td>...</td>\n",
       "      <td>...</td>\n",
       "    </tr>\n",
       "    <tr>\n",
       "      <th>25180946</th>\n",
       "      <td>17560</td>\n",
       "      <td>419</td>\n",
       "      <td>2008-09-27 17:51:00</td>\n",
       "      <td>0.4</td>\n",
       "    </tr>\n",
       "    <tr>\n",
       "      <th>25180947</th>\n",
       "      <td>14860</td>\n",
       "      <td>419</td>\n",
       "      <td>2008-09-27 18:20:00</td>\n",
       "      <td>0.4</td>\n",
       "    </tr>\n",
       "    <tr>\n",
       "      <th>25180948</th>\n",
       "      <td>14860</td>\n",
       "      <td>419</td>\n",
       "      <td>2008-09-27 18:22:00</td>\n",
       "      <td>0.4</td>\n",
       "    </tr>\n",
       "    <tr>\n",
       "      <th>25180949</th>\n",
       "      <td>10839</td>\n",
       "      <td>419</td>\n",
       "      <td>2009-09-20 07:41:00</td>\n",
       "      <td>0.4</td>\n",
       "    </tr>\n",
       "    <tr>\n",
       "      <th>25217928</th>\n",
       "      <td>18180</td>\n",
       "      <td>16881</td>\n",
       "      <td>2009-08-03 20:40:00</td>\n",
       "      <td>0.4</td>\n",
       "    </tr>\n",
       "  </tbody>\n",
       "</table>\n",
       "<p>1041840 rows × 4 columns</p>\n",
       "</div>\n",
       "    </div>\n",
       "<div style=\"float: left; padding: 10px;\">\n",
       "    <p style='font-family:\"Courier New\", Courier, monospace'>c2q_2y</p><div>\n",
       "<style scoped>\n",
       "    .dataframe tbody tr th:only-of-type {\n",
       "        vertical-align: middle;\n",
       "    }\n",
       "\n",
       "    .dataframe tbody tr th {\n",
       "        vertical-align: top;\n",
       "    }\n",
       "\n",
       "    .dataframe thead th {\n",
       "        text-align: right;\n",
       "    }\n",
       "</style>\n",
       "<table border=\"1\" class=\"dataframe\">\n",
       "  <thead>\n",
       "    <tr style=\"text-align: right;\">\n",
       "      <th></th>\n",
       "      <th>user_a</th>\n",
       "      <th>user_b</th>\n",
       "      <th>time</th>\n",
       "      <th>weights</th>\n",
       "    </tr>\n",
       "  </thead>\n",
       "  <tbody>\n",
       "    <tr>\n",
       "      <th>0</th>\n",
       "      <td>4550</td>\n",
       "      <td>4550</td>\n",
       "      <td>2008-09-06 19:26:00</td>\n",
       "      <td>0.7</td>\n",
       "    </tr>\n",
       "    <tr>\n",
       "      <th>1</th>\n",
       "      <td>242</td>\n",
       "      <td>184</td>\n",
       "      <td>2008-09-06 20:38:00</td>\n",
       "      <td>0.7</td>\n",
       "    </tr>\n",
       "    <tr>\n",
       "      <th>2</th>\n",
       "      <td>4213</td>\n",
       "      <td>4946</td>\n",
       "      <td>2008-09-07 06:15:00</td>\n",
       "      <td>0.7</td>\n",
       "    </tr>\n",
       "    <tr>\n",
       "      <th>3</th>\n",
       "      <td>91</td>\n",
       "      <td>91</td>\n",
       "      <td>2008-09-07 06:18:00</td>\n",
       "      <td>0.7</td>\n",
       "    </tr>\n",
       "    <tr>\n",
       "      <th>4</th>\n",
       "      <td>2658</td>\n",
       "      <td>1874</td>\n",
       "      <td>2008-09-07 07:18:00</td>\n",
       "      <td>0.7</td>\n",
       "    </tr>\n",
       "    <tr>\n",
       "      <th>...</th>\n",
       "      <td>...</td>\n",
       "      <td>...</td>\n",
       "      <td>...</td>\n",
       "      <td>...</td>\n",
       "    </tr>\n",
       "    <tr>\n",
       "      <th>20059342</th>\n",
       "      <td>163885</td>\n",
       "      <td>163885</td>\n",
       "      <td>2009-11-19 09:01:00</td>\n",
       "      <td>0.7</td>\n",
       "    </tr>\n",
       "    <tr>\n",
       "      <th>20059343</th>\n",
       "      <td>163885</td>\n",
       "      <td>163885</td>\n",
       "      <td>2009-11-19 09:06:00</td>\n",
       "      <td>0.7</td>\n",
       "    </tr>\n",
       "    <tr>\n",
       "      <th>20089709</th>\n",
       "      <td>25222</td>\n",
       "      <td>10747</td>\n",
       "      <td>2008-10-17 08:28:00</td>\n",
       "      <td>0.7</td>\n",
       "    </tr>\n",
       "    <tr>\n",
       "      <th>20089729</th>\n",
       "      <td>213921</td>\n",
       "      <td>98145</td>\n",
       "      <td>2009-11-19 00:51:00</td>\n",
       "      <td>0.7</td>\n",
       "    </tr>\n",
       "    <tr>\n",
       "      <th>20090859</th>\n",
       "      <td>62699</td>\n",
       "      <td>83903</td>\n",
       "      <td>2009-03-30 05:07:00</td>\n",
       "      <td>0.7</td>\n",
       "    </tr>\n",
       "  </tbody>\n",
       "</table>\n",
       "<p>281195 rows × 4 columns</p>\n",
       "</div>\n",
       "    </div>\n",
       "<div style=\"float: left; padding: 10px;\">\n",
       "    <p style='font-family:\"Courier New\", Courier, monospace'>totDataframe_2y</p><div>\n",
       "<style scoped>\n",
       "    .dataframe tbody tr th:only-of-type {\n",
       "        vertical-align: middle;\n",
       "    }\n",
       "\n",
       "    .dataframe tbody tr th {\n",
       "        vertical-align: top;\n",
       "    }\n",
       "\n",
       "    .dataframe thead th {\n",
       "        text-align: right;\n",
       "    }\n",
       "</style>\n",
       "<table border=\"1\" class=\"dataframe\">\n",
       "  <thead>\n",
       "    <tr style=\"text-align: right;\">\n",
       "      <th></th>\n",
       "      <th>user_a</th>\n",
       "      <th>user_b</th>\n",
       "      <th>time</th>\n",
       "      <th>weights</th>\n",
       "    </tr>\n",
       "  </thead>\n",
       "  <tbody>\n",
       "    <tr>\n",
       "      <th>0</th>\n",
       "      <td>9</td>\n",
       "      <td>8</td>\n",
       "      <td>2008-08-01 05:17:00</td>\n",
       "      <td>1.0</td>\n",
       "    </tr>\n",
       "    <tr>\n",
       "      <th>1</th>\n",
       "      <td>1</td>\n",
       "      <td>1</td>\n",
       "      <td>2008-08-01 06:56:00</td>\n",
       "      <td>1.0</td>\n",
       "    </tr>\n",
       "    <tr>\n",
       "      <th>2</th>\n",
       "      <td>13</td>\n",
       "      <td>1</td>\n",
       "      <td>2008-08-01 15:57:00</td>\n",
       "      <td>1.0</td>\n",
       "    </tr>\n",
       "    <tr>\n",
       "      <th>3</th>\n",
       "      <td>17</td>\n",
       "      <td>1</td>\n",
       "      <td>2008-08-01 19:07:00</td>\n",
       "      <td>1.0</td>\n",
       "    </tr>\n",
       "    <tr>\n",
       "      <th>4</th>\n",
       "      <td>48</td>\n",
       "      <td>2</td>\n",
       "      <td>2008-08-01 19:16:00</td>\n",
       "      <td>1.0</td>\n",
       "    </tr>\n",
       "    <tr>\n",
       "      <th>...</th>\n",
       "      <td>...</td>\n",
       "      <td>...</td>\n",
       "      <td>...</td>\n",
       "      <td>...</td>\n",
       "    </tr>\n",
       "    <tr>\n",
       "      <th>20059342</th>\n",
       "      <td>163885</td>\n",
       "      <td>163885</td>\n",
       "      <td>2009-11-19 09:01:00</td>\n",
       "      <td>0.7</td>\n",
       "    </tr>\n",
       "    <tr>\n",
       "      <th>20059343</th>\n",
       "      <td>163885</td>\n",
       "      <td>163885</td>\n",
       "      <td>2009-11-19 09:06:00</td>\n",
       "      <td>0.7</td>\n",
       "    </tr>\n",
       "    <tr>\n",
       "      <th>20089709</th>\n",
       "      <td>25222</td>\n",
       "      <td>10747</td>\n",
       "      <td>2008-10-17 08:28:00</td>\n",
       "      <td>0.7</td>\n",
       "    </tr>\n",
       "    <tr>\n",
       "      <th>20089729</th>\n",
       "      <td>213921</td>\n",
       "      <td>98145</td>\n",
       "      <td>2009-11-19 00:51:00</td>\n",
       "      <td>0.7</td>\n",
       "    </tr>\n",
       "    <tr>\n",
       "      <th>20090859</th>\n",
       "      <td>62699</td>\n",
       "      <td>83903</td>\n",
       "      <td>2009-03-30 05:07:00</td>\n",
       "      <td>0.7</td>\n",
       "    </tr>\n",
       "  </tbody>\n",
       "</table>\n",
       "<p>2369867 rows × 4 columns</p>\n",
       "</div>\n",
       "    </div>"
      ],
      "text/plain": [
       "a2q_2y\n",
       "         user_a  user_b                time  weights\n",
       "0             9       8 2008-08-01 05:17:00        1\n",
       "1             1       1 2008-08-01 06:56:00        1\n",
       "2            13       1 2008-08-01 15:57:00        1\n",
       "3            17       1 2008-08-01 19:07:00        1\n",
       "4            48       2 2008-08-01 19:16:00        1\n",
       "...         ...     ...                 ...      ...\n",
       "1286375   69148  192741 2009-10-14 06:13:00        1\n",
       "1286376   13744  192741 2009-12-30 05:33:00        1\n",
       "1308063  107156   41543 2009-08-07 20:18:00        1\n",
       "1405111  105389   69769 2009-11-23 02:35:00        1\n",
       "1602268  158014  221393 2009-12-08 22:55:00        1\n",
       "\n",
       "[1046832 rows x 4 columns]\n",
       "\n",
       "c2a_2y\n",
       "          user_a   user_b                time  weights\n",
       "0              1       91 2008-09-06 15:07:00      0.4\n",
       "1              3       91 2008-09-06 15:09:00      0.4\n",
       "2            380      350 2008-09-06 15:42:00      0.4\n",
       "3           4642     2257 2008-09-06 20:51:00      0.4\n",
       "4           4642  1324220 2008-09-06 21:15:00      0.4\n",
       "...          ...      ...                 ...      ...\n",
       "25180946   17560      419 2008-09-27 17:51:00      0.4\n",
       "25180947   14860      419 2008-09-27 18:20:00      0.4\n",
       "25180948   14860      419 2008-09-27 18:22:00      0.4\n",
       "25180949   10839      419 2009-09-20 07:41:00      0.4\n",
       "25217928   18180    16881 2009-08-03 20:40:00      0.4\n",
       "\n",
       "[1041840 rows x 4 columns]\n",
       "\n",
       "c2q_2y\n",
       "          user_a  user_b                time  weights\n",
       "0           4550    4550 2008-09-06 19:26:00      0.7\n",
       "1            242     184 2008-09-06 20:38:00      0.7\n",
       "2           4213    4946 2008-09-07 06:15:00      0.7\n",
       "3             91      91 2008-09-07 06:18:00      0.7\n",
       "4           2658    1874 2008-09-07 07:18:00      0.7\n",
       "...          ...     ...                 ...      ...\n",
       "20059342  163885  163885 2009-11-19 09:01:00      0.7\n",
       "20059343  163885  163885 2009-11-19 09:06:00      0.7\n",
       "20089709   25222   10747 2008-10-17 08:28:00      0.7\n",
       "20089729  213921   98145 2009-11-19 00:51:00      0.7\n",
       "20090859   62699   83903 2009-03-30 05:07:00      0.7\n",
       "\n",
       "[281195 rows x 4 columns]\n",
       "\n",
       "totDataframe_2y\n",
       "          user_a  user_b                time  weights\n",
       "0              9       8 2008-08-01 05:17:00      1.0\n",
       "1              1       1 2008-08-01 06:56:00      1.0\n",
       "2             13       1 2008-08-01 15:57:00      1.0\n",
       "3             17       1 2008-08-01 19:07:00      1.0\n",
       "4             48       2 2008-08-01 19:16:00      1.0\n",
       "...          ...     ...                 ...      ...\n",
       "20059342  163885  163885 2009-11-19 09:01:00      0.7\n",
       "20059343  163885  163885 2009-11-19 09:06:00      0.7\n",
       "20089709   25222   10747 2008-10-17 08:28:00      0.7\n",
       "20089729  213921   98145 2009-11-19 00:51:00      0.7\n",
       "20090859   62699   83903 2009-03-30 05:07:00      0.7\n",
       "\n",
       "[2369867 rows x 4 columns]"
      ]
     },
     "execution_count": 21,
     "metadata": {},
     "output_type": "execute_result"
    }
   ],
   "source": [
    "totDataframe_2y = totDataframe[totDataframe.time.between(\"2008\",\"2010\")]\n",
    "a2q_2y = a2q[a2q.time.between(\"2008\",\"2010\")]\n",
    "c2q_2y = c2q[c2q.time.between(\"2008\",\"2010\")]\n",
    "c2a_2y = c2a[c2a.time.between(\"2008\",\"2010\")]\n",
    "display(\"a2q_2y\", \"c2a_2y\", \"c2q_2y\", \"totDataframe_2y\")"
   ]
  },
  {
   "cell_type": "code",
   "execution_count": 23,
   "id": "c1b964a6",
   "metadata": {},
   "outputs": [
    {
     "data": {
      "text/html": [
       "<div>\n",
       "<style scoped>\n",
       "    .dataframe tbody tr th:only-of-type {\n",
       "        vertical-align: middle;\n",
       "    }\n",
       "\n",
       "    .dataframe tbody tr th {\n",
       "        vertical-align: top;\n",
       "    }\n",
       "\n",
       "    .dataframe thead th {\n",
       "        text-align: right;\n",
       "    }\n",
       "</style>\n",
       "<table border=\"1\" class=\"dataframe\">\n",
       "  <thead>\n",
       "    <tr style=\"text-align: right;\">\n",
       "      <th></th>\n",
       "      <th>user_a</th>\n",
       "      <th>user_b</th>\n",
       "      <th>time</th>\n",
       "      <th>weights</th>\n",
       "    </tr>\n",
       "  </thead>\n",
       "  <tbody>\n",
       "    <tr>\n",
       "      <th>0</th>\n",
       "      <td>9</td>\n",
       "      <td>8</td>\n",
       "      <td>2008-08-01 05:17:00</td>\n",
       "      <td>1.0</td>\n",
       "    </tr>\n",
       "    <tr>\n",
       "      <th>1</th>\n",
       "      <td>1</td>\n",
       "      <td>1</td>\n",
       "      <td>2008-08-01 06:56:00</td>\n",
       "      <td>1.0</td>\n",
       "    </tr>\n",
       "    <tr>\n",
       "      <th>2</th>\n",
       "      <td>13</td>\n",
       "      <td>1</td>\n",
       "      <td>2008-08-01 15:57:00</td>\n",
       "      <td>1.0</td>\n",
       "    </tr>\n",
       "    <tr>\n",
       "      <th>3</th>\n",
       "      <td>17</td>\n",
       "      <td>1</td>\n",
       "      <td>2008-08-01 19:07:00</td>\n",
       "      <td>1.0</td>\n",
       "    </tr>\n",
       "    <tr>\n",
       "      <th>4</th>\n",
       "      <td>48</td>\n",
       "      <td>2</td>\n",
       "      <td>2008-08-01 19:16:00</td>\n",
       "      <td>1.0</td>\n",
       "    </tr>\n",
       "    <tr>\n",
       "      <th>...</th>\n",
       "      <td>...</td>\n",
       "      <td>...</td>\n",
       "      <td>...</td>\n",
       "      <td>...</td>\n",
       "    </tr>\n",
       "    <tr>\n",
       "      <th>995</th>\n",
       "      <td>192</td>\n",
       "      <td>380</td>\n",
       "      <td>2008-08-06 15:08:00</td>\n",
       "      <td>1.0</td>\n",
       "    </tr>\n",
       "    <tr>\n",
       "      <th>996</th>\n",
       "      <td>39</td>\n",
       "      <td>291</td>\n",
       "      <td>2008-08-06 15:15:00</td>\n",
       "      <td>1.0</td>\n",
       "    </tr>\n",
       "    <tr>\n",
       "      <th>997</th>\n",
       "      <td>383</td>\n",
       "      <td>476</td>\n",
       "      <td>2008-08-06 15:19:00</td>\n",
       "      <td>1.0</td>\n",
       "    </tr>\n",
       "    <tr>\n",
       "      <th>998</th>\n",
       "      <td>265</td>\n",
       "      <td>476</td>\n",
       "      <td>2008-08-06 15:26:00</td>\n",
       "      <td>1.0</td>\n",
       "    </tr>\n",
       "    <tr>\n",
       "      <th>999</th>\n",
       "      <td>342</td>\n",
       "      <td>370</td>\n",
       "      <td>2008-08-06 15:28:00</td>\n",
       "      <td>1.0</td>\n",
       "    </tr>\n",
       "  </tbody>\n",
       "</table>\n",
       "<p>1000 rows × 4 columns</p>\n",
       "</div>"
      ],
      "text/plain": [
       "     user_a  user_b                time  weights\n",
       "0         9       8 2008-08-01 05:17:00      1.0\n",
       "1         1       1 2008-08-01 06:56:00      1.0\n",
       "2        13       1 2008-08-01 15:57:00      1.0\n",
       "3        17       1 2008-08-01 19:07:00      1.0\n",
       "4        48       2 2008-08-01 19:16:00      1.0\n",
       "..      ...     ...                 ...      ...\n",
       "995     192     380 2008-08-06 15:08:00      1.0\n",
       "996      39     291 2008-08-06 15:15:00      1.0\n",
       "997     383     476 2008-08-06 15:19:00      1.0\n",
       "998     265     476 2008-08-06 15:26:00      1.0\n",
       "999     342     370 2008-08-06 15:28:00      1.0\n",
       "\n",
       "[1000 rows x 4 columns]"
      ]
     },
     "execution_count": 23,
     "metadata": {},
     "output_type": "execute_result"
    }
   ],
   "source": [
    "totDataframe_2y[totDataframe_2y.time.between(\"2008\",\"2010\")].iloc[:1000]"
   ]
  },
  {
   "cell_type": "markdown",
   "id": "7f0bd817",
   "metadata": {},
   "source": [
    "You might also see that there are several answers/comments which the user answer do to themselves: since they are not too much we have decided to keep them. Also because they could be useful on Stackoverflow because maybe they represent users that clarify their question or they answers. "
   ]
  },
  {
   "cell_type": "code",
   "execution_count": 53,
   "id": "8a2506d3",
   "metadata": {},
   "outputs": [
    {
     "name": "stdout",
     "output_type": "stream",
     "text": [
      "1832\n"
     ]
    }
   ],
   "source": [
    "#count repetitive loops\n",
    "with_same_edge = len(totDataframe_2y[totDataframe_2y.user_a == totDataframe_2y.user_b])\n",
    "without_same_edge = len(totDataframe_2y[totDataframe_2y.user_a == totDataframe_2y.user_b].drop_duplicates())\n",
    "\n",
    "#how many loops\n",
    "print(with_same_edge - without_same_edge)"
   ]
  },
  {
   "cell_type": "markdown",
   "id": "6b824c91",
   "metadata": {},
   "source": [
    "## Functionality 1 - Get the overall features of the graph"
   ]
  },
  {
   "cell_type": "code",
   "execution_count": 6,
   "id": "59de1177",
   "metadata": {},
   "outputs": [],
   "source": [
    "#filtering the dataset with the interval time that we have chosen\n",
    "a2q_filter = a2q[a2q.time.between(\"2008\",\"2010\")]\n",
    "c2a_filter = c2a[c2a.time.between(\"2008\",\"2010\")]\n",
    "c2q_filter = c2q[c2q.time.between(\"2008\",\"2010\")]"
   ]
  },
  {
   "cell_type": "code",
   "execution_count": 7,
   "id": "887ad0ad",
   "metadata": {},
   "outputs": [
    {
     "data": {
      "application/vnd.jupyter.widget-view+json": {
       "model_id": "8623179bf70744b880c23af630a5c7bc",
       "version_major": 2,
       "version_minor": 0
      },
      "text/plain": [
       "HBox(children=(FloatProgress(value=0.0, max=1046832.0), HTML(value='')))"
      ]
     },
     "metadata": {},
     "output_type": "display_data"
    },
    {
     "name": "stdout",
     "output_type": "stream",
     "text": [
      "\n"
     ]
    },
    {
     "data": {
      "application/vnd.jupyter.widget-view+json": {
       "model_id": "53e14c3dc7794deca7adb9bd9a462f07",
       "version_major": 2,
       "version_minor": 0
      },
      "text/plain": [
       "HBox(children=(FloatProgress(value=0.0, max=1041840.0), HTML(value='')))"
      ]
     },
     "metadata": {},
     "output_type": "display_data"
    },
    {
     "name": "stdout",
     "output_type": "stream",
     "text": [
      "\n"
     ]
    },
    {
     "data": {
      "application/vnd.jupyter.widget-view+json": {
       "model_id": "0a143a83e4244eff9a7c96a5ffacb804",
       "version_major": 2,
       "version_minor": 0
      },
      "text/plain": [
       "HBox(children=(FloatProgress(value=0.0, max=281195.0), HTML(value='')))"
      ]
     },
     "metadata": {},
     "output_type": "display_data"
    },
    {
     "name": "stdout",
     "output_type": "stream",
     "text": [
      "\n"
     ]
    }
   ],
   "source": [
    "#compute the first functionality for each file in input\n",
    "#the user will choose interactively what file he wants to print\n",
    "number_nodes_1, number_edges_1, directed_1, mean_1, density_1, sparse_1, degree_1, table_1 = fun_1.functionality_1(a2q_filter)\n",
    "number_nodes_2, number_edges_2, directed_2, mean_2, density_2, sparse_2, degree_2, table_2 = fun_1.functionality_1(c2a_filter)\n",
    "number_nodes_3, number_edges_3, directed_3, mean_3, density_3, sparse_3, degree_3, table_3 = fun_1.functionality_1(c2q_filter)"
   ]
  },
  {
   "cell_type": "code",
   "execution_count": 8,
   "id": "16529fd2",
   "metadata": {},
   "outputs": [
    {
     "data": {
      "image/png": "[encoded data removed]",
      "text/plain": [
       "<Figure size 1440x720 with 1 Axes>"
      ]
     },
     "metadata": {
      "needs_background": "light"
     },
     "output_type": "display_data"
    }
   ],
   "source": [
    "fun_1.fig(degree_1)"
   ]
  },
  {
   "cell_type": "code",
   "execution_count": 9,
   "id": "98370060",
   "metadata": {},
   "outputs": [
    {
     "data": {
      "image/png": "[encoded data removed]",
      "text/plain": [
       "<Figure size 1440x720 with 1 Axes>"
      ]
     },
     "metadata": {
      "needs_background": "light"
     },
     "output_type": "display_data"
    }
   ],
   "source": [
    "fun_1.fig(degree_2)"
   ]
  },
  {
   "cell_type": "code",
   "execution_count": 10,
   "id": "0bc109e8",
   "metadata": {},
   "outputs": [
    {
     "data": {
      "image/png": "[encoded data removed]",
      "text/plain": [
       "<Figure size 1440x720 with 1 Axes>"
      ]
     },
     "metadata": {
      "needs_background": "light"
     },
     "output_type": "display_data"
    }
   ],
   "source": [
    "fun_1.fig(degree_3)"
   ]
  },
  {
   "cell_type": "code",
   "execution_count": 11,
   "id": "6968fb33",
   "metadata": {},
   "outputs": [
    {
     "name": "stdout",
     "output_type": "stream",
     "text": [
      "╒══════════════════════════════╤════════════════════════════════════════════════╕\n",
      "│ Info requested               │ Answers                                        │\n",
      "╞══════════════════════════════╪════════════════════════════════════════════════╡\n",
      "│ File                         │ user_a  user_b                time  weights    │\n",
      "│                              │ 0       9       8 2008-08-01 05:17:00        1 │\n",
      "│                              │ 1       1       1 2008-08-01 06:56:00        1 │\n",
      "│                              │ 2      13       1 2008-08-01 15:57:00        1 │\n",
      "│                              │ 3      17       1 2008-08-01 19:07:00        1 │\n",
      "│                              │ 4      48       2 2008-08-01 19:16:00        1 │\n",
      "├──────────────────────────────┼────────────────────────────────────────────────┤\n",
      "│ Directed or Undirected?      │ directed                                       │\n",
      "├──────────────────────────────┼────────────────────────────────────────────────┤\n",
      "│ N. users                     │ 84796                                          │\n",
      "├──────────────────────────────┼────────────────────────────────────────────────┤\n",
      "│ Number of answers/comments   │ 1046832                                        │\n",
      "├──────────────────────────────┼────────────────────────────────────────────────┤\n",
      "│ Average n. of links per user │ 12.3453                                        │\n",
      "├──────────────────────────────┼────────────────────────────────────────────────┤\n",
      "│ Density degree               │ 0.0001                                         │\n",
      "├──────────────────────────────┼────────────────────────────────────────────────┤\n",
      "│ Sparse or Dense?             │ sparse                                         │\n",
      "╘══════════════════════════════╧════════════════════════════════════════════════╛\n"
     ]
    }
   ],
   "source": [
    "print(tabulate(table_1, headers = 'firstrow', tablefmt = 'fancy_grid'))"
   ]
  },
  {
   "cell_type": "code",
   "execution_count": 12,
   "id": "1002d899",
   "metadata": {},
   "outputs": [
    {
     "name": "stdout",
     "output_type": "stream",
     "text": [
      "╒══════════════════════════════╤═════════════════════════════════════════════════╕\n",
      "│ Info requested               │ Answers                                         │\n",
      "╞══════════════════════════════╪═════════════════════════════════════════════════╡\n",
      "│ File                         │ user_a   user_b                time  weights    │\n",
      "│                              │ 0       1       91 2008-09-06 15:07:00      0.4 │\n",
      "│                              │ 1       3       91 2008-09-06 15:09:00      0.4 │\n",
      "│                              │ 2     380      350 2008-09-06 15:42:00      0.4 │\n",
      "│                              │ 3    4642     2257 2008-09-06 20:51:00      0.4 │\n",
      "│                              │ 4    4642  1324220 2008-09-06 21:15:00      0.4 │\n",
      "├──────────────────────────────┼─────────────────────────────────────────────────┤\n",
      "│ Directed or Undirected?      │ directed                                        │\n",
      "├──────────────────────────────┼─────────────────────────────────────────────────┤\n",
      "│ N. users                     │ 60440                                           │\n",
      "├──────────────────────────────┼─────────────────────────────────────────────────┤\n",
      "│ Number of answers/comments   │ 1041840                                         │\n",
      "├──────────────────────────────┼─────────────────────────────────────────────────┤\n",
      "│ Average n. of links per user │ 17.2376                                         │\n",
      "├──────────────────────────────┼─────────────────────────────────────────────────┤\n",
      "│ Density degree               │ 0.0003                                          │\n",
      "├──────────────────────────────┼─────────────────────────────────────────────────┤\n",
      "│ Sparse or Dense?             │ sparse                                          │\n",
      "╘══════════════════════════════╧═════════════════════════════════════════════════╛\n"
     ]
    }
   ],
   "source": [
    "print(tabulate(table_2, headers = 'firstrow', tablefmt = 'fancy_grid'))"
   ]
  },
  {
   "cell_type": "code",
   "execution_count": 13,
   "id": "83623e34",
   "metadata": {},
   "outputs": [
    {
     "name": "stdout",
     "output_type": "stream",
     "text": [
      "╒══════════════════════════════╤════════════════════════════════════════════════╕\n",
      "│ Info requested               │ Answers                                        │\n",
      "╞══════════════════════════════╪════════════════════════════════════════════════╡\n",
      "│ File                         │ user_a  user_b                time  weights    │\n",
      "│                              │ 0    4550    4550 2008-09-06 19:26:00      0.7 │\n",
      "│                              │ 1     242     184 2008-09-06 20:38:00      0.7 │\n",
      "│                              │ 2    4213    4946 2008-09-07 06:15:00      0.7 │\n",
      "│                              │ 3      91      91 2008-09-07 06:18:00      0.7 │\n",
      "│                              │ 4    2658    1874 2008-09-07 07:18:00      0.7 │\n",
      "├──────────────────────────────┼────────────────────────────────────────────────┤\n",
      "│ Directed or Undirected?      │ directed                                       │\n",
      "├──────────────────────────────┼────────────────────────────────────────────────┤\n",
      "│ N. users                     │ 43331                                          │\n",
      "├──────────────────────────────┼────────────────────────────────────────────────┤\n",
      "│ Number of answers/comments   │ 281195                                         │\n",
      "├──────────────────────────────┼────────────────────────────────────────────────┤\n",
      "│ Average n. of links per user │ 6.4895                                         │\n",
      "├──────────────────────────────┼────────────────────────────────────────────────┤\n",
      "│ Density degree               │ 0.0001                                         │\n",
      "├──────────────────────────────┼────────────────────────────────────────────────┤\n",
      "│ Sparse or Dense?             │ sparse                                         │\n",
      "╘══════════════════════════════╧════════════════════════════════════════════════╛\n"
     ]
    }
   ],
   "source": [
    "print(tabulate(table_3, headers = 'firstrow', tablefmt = 'fancy_grid'))"
   ]
  },
  {
   "cell_type": "code",
   "execution_count": 14,
   "id": "e9864ce1",
   "metadata": {},
   "outputs": [
    {
     "data": {
      "image/png": "[encoded data removed]",
      "text/plain": [
       "<Figure size 1440x720 with 1 Axes>"
      ]
     },
     "metadata": {
      "needs_background": "light"
     },
     "output_type": "display_data"
    }
   ],
   "source": [
    "fun_1.fig_plot(degree_1)"
   ]
  },
  {
   "cell_type": "code",
   "execution_count": 15,
   "id": "1e85d505",
   "metadata": {},
   "outputs": [
    {
     "data": {
      "image/png": "[encoded data removed]",
      "text/plain": [
       "<Figure size 1440x720 with 1 Axes>"
      ]
     },
     "metadata": {
      "needs_background": "light"
     },
     "output_type": "display_data"
    }
   ],
   "source": [
    "fun_1.fig_plot(degree_2)"
   ]
  },
  {
   "cell_type": "code",
   "execution_count": 16,
   "id": "cb9f8fb3",
   "metadata": {},
   "outputs": [
    {
     "data": {
      "image/png": "[encoded data removed]",
      "text/plain": [
       "<Figure size 1440x720 with 1 Axes>"
      ]
     },
     "metadata": {
      "needs_background": "light"
     },
     "output_type": "display_data"
    }
   ],
   "source": [
    "fun_1.fig_plot(degree_3)"
   ]
  },
  {
   "cell_type": "code",
   "execution_count": 17,
   "id": "8d14b0ce",
   "metadata": {},
   "outputs": [
    {
     "data": {
      "image/png": "[encoded data removed]",
      "text/plain": [
       "<Figure size 1440x720 with 4 Axes>"
      ]
     },
     "metadata": {
      "needs_background": "light"
     },
     "output_type": "display_data"
    }
   ],
   "source": [
    "fun_1.fig_hist(degree_1)"
   ]
  },
  {
   "cell_type": "code",
   "execution_count": 18,
   "id": "ea6a1a09",
   "metadata": {},
   "outputs": [
    {
     "data": {
      "image/png": "[encoded data removed]",
      "text/plain": [
       "<Figure size 1440x720 with 4 Axes>"
      ]
     },
     "metadata": {
      "needs_background": "light"
     },
     "output_type": "display_data"
    }
   ],
   "source": [
    "fun_1.fig_hist(degree_2)"
   ]
  },
  {
   "cell_type": "code",
   "execution_count": 19,
   "id": "3373b614",
   "metadata": {},
   "outputs": [
    {
     "data": {
      "image/png": "[encoded data removed]",
      "text/plain": [
       "<Figure size 1440x720 with 4 Axes>"
      ]
     },
     "metadata": {
      "needs_background": "light"
     },
     "output_type": "display_data"
    }
   ],
   "source": [
    "fun_1.fig_hist(degree_3)"
   ]
  },
  {
   "cell_type": "code",
   "execution_count": null,
   "id": "108a5b60",
   "metadata": {},
   "outputs": [],
   "source": [
    "def app():\n",
    "    end = 0\n",
    "    while (end == 0):\n",
    "\n",
    "        #choose what functionality\n",
    "        user = int(input(\"Welcome user, what functionality do you want: \"))\n",
    "\n",
    "        if (user == 1):\n",
    "\n",
    "            #choose what file\n",
    "            scelta = input(\"What file do you want to analyze?: \")\n",
    "            if scelta == \"a2q\":\n",
    "\n",
    "                number_nodes_1, number_edges_1, directed_1, mean_1, density_1, sparse_1, degree_1, table_1 = fun_1.functionality_1(a2q_filter)\n",
    "                print(tabulate(table_1, headers='firstrow', tablefmt='fancy_grid'))\n",
    "                print(\"We want to visualize how many users have a certain degree\")\n",
    "                fun_1.fig(degree_1)\n",
    "                print(\"We want to go deeper in the density distribution\")\n",
    "                fun_1.fig_hist(degree_1)\n",
    "                print(\"We want to visualize for each user how many degree it has\")\n",
    "                fun_1.fig_plot(degree_1)\n",
    "\n",
    "            elif scelta == \"c2a\":\n",
    "\n",
    "                number_nodes_2, number_edges_2, directed_2, mean_2, density_2, sparse_2, degree_2, table_2 = fun_1.functionality_1(c2a_filter)\n",
    "                print(tabulate(table_2, headers='firstrow', tablefmt='fancy_grid'))\n",
    "                print(\"We want to visualize how many users have a certain degree\")\n",
    "                fun_1.fig(degree_2)\n",
    "                print(\"We want to go deeper in the density distribution\")\n",
    "                fun_1.fig_hist(degree_2)\n",
    "                print(\"We want to visualize for each user how many degree it has\")\n",
    "                fun_1.fig_plot(degree_2)\n",
    "\n",
    "\n",
    "            else:\n",
    "\n",
    "                number_nodes_3, number_edges_3, directed_3, mean_3, density_3, sparse_3, degree_3, table_3 = fun_1.functionality_1(c2q_filter)\n",
    "                print(tabulate(table_3, headers='firstrow', tablefmt='fancy_grid'))\n",
    "                print(\"We want to visualize how many users have a certain degree\")\n",
    "                fun_1.fig(degree_3)\n",
    "                print(\"We want to go deeper in the density distribution\")\n",
    "                fun_1.fig_hist(degree_3)\n",
    "                print(\"We want to visualize for each user how many degree it has\")\n",
    "                fun_1.fig_plot(degree_3)\n",
    "\n",
    "            end = 1\n",
    "\n",
    "\n",
    "\n",
    "        if (user == 2):\n",
    "\n",
    "            print(\"result of func_2\")\n",
    "            print(\"Functionality 2 - Find the best users!\")\n",
    "            end = 1\n",
    "\n",
    "        if (user == 3):\n",
    "            print(\"Functionality 3 - Shortest Ordered Route\")\n",
    "            print(\"result of func_3\")\n",
    "            end = 1"
   ]
  },
  {
   "cell_type": "code",
   "execution_count": null,
   "id": "80732a44",
   "metadata": {},
   "outputs": [],
   "source": [
    "p_start"
   ]
  },
  {
   "cell_type": "code",
   "execution_count": 27,
   "id": "df719e66",
   "metadata": {},
   "outputs": [
    {
     "data": {
      "text/plain": [
       "4557888"
      ]
     },
     "execution_count": 27,
     "metadata": {},
     "output_type": "execute_result"
    }
   ],
   "source": [
    "\n",
    "def starting_nodes(df):\n",
    "    #array of nodes of graph a2q\n",
    "    nodi_grafo = pd.concat([df[\"user_a\"], df[\"user_b\"]], axis = 0).drop_duplicates().array\n",
    "    start_p = rd.choice(nodi_grafo)\n",
    "    end_p = rd.choice(nodi_grafo)\n",
    "    return start_p, end_p"
   ]
  },
  {
   "cell_type": "markdown",
   "id": "57540814",
   "metadata": {},
   "source": [
    "## Functionality 3"
   ]
  },
  {
   "cell_type": "code",
   "execution_count": null,
   "id": "93e8bb60",
   "metadata": {},
   "outputs": [],
   "source": [
    "\n",
    "def starting_nodes(df):\n",
    "    #array of nodes of graph a2q\n",
    "    nodi_grafo = pd.concat([df[\"user_a\"], df[\"user_b\"]], axis = 0).drop_duplicates().array\n",
    "    start_p = rd.choice(nodi_grafo)\n",
    "    end_p = rd.choice(nodi_grafo)\n",
    "    return start_p, end_p"
   ]
  },
  {
   "cell_type": "code",
   "execution_count": 10,
   "id": "eadd3654",
   "metadata": {},
   "outputs": [
    {
     "data": {
      "application/vnd.jupyter.widget-view+json": {
       "model_id": "dad35267d6594983a8e3f9ebf054d788",
       "version_major": 2,
       "version_minor": 0
      },
      "text/plain": [
       "HBox(children=(FloatProgress(value=0.0, max=2369867.0), HTML(value='')))"
      ]
     },
     "metadata": {},
     "output_type": "display_data"
    },
    {
     "name": "stdout",
     "output_type": "stream",
     "text": [
      "\n"
     ]
    },
    {
     "ename": "KeyboardInterrupt",
     "evalue": "",
     "output_type": "error",
     "traceback": [
      "\u001b[0;31m---------------------------------------------------------------------------\u001b[0m",
      "\u001b[0;31mKeyboardInterrupt\u001b[0m                         Traceback (most recent call last)",
      "\u001b[0;32m<ipython-input-10-d279ff0de3db>\u001b[0m in \u001b[0;36m<module>\u001b[0;34m\u001b[0m\n\u001b[0;32m----> 1\u001b[0;31m \u001b[0mout_graph_1\u001b[0m\u001b[0;34m,\u001b[0m \u001b[0mfinal_path_1\u001b[0m\u001b[0;34m,\u001b[0m \u001b[0mlunghezza_1\u001b[0m \u001b[0;34m=\u001b[0m \u001b[0mfunc_3\u001b[0m\u001b[0;34m(\u001b[0m\u001b[0mtotDataframe\u001b[0m\u001b[0;34m,\u001b[0m\u001b[0;34m[\u001b[0m\u001b[0;36m91\u001b[0m\u001b[0;34m,\u001b[0m\u001b[0;36m1\u001b[0m\u001b[0;34m]\u001b[0m\u001b[0;34m,\u001b[0m \u001b[0;36m45\u001b[0m\u001b[0;34m,\u001b[0m \u001b[0;36m1269\u001b[0m\u001b[0;34m,\u001b[0m \u001b[0;34m\"2008\"\u001b[0m\u001b[0;34m,\u001b[0m \u001b[0;34m\"2010\"\u001b[0m\u001b[0;34m)\u001b[0m\u001b[0;34m\u001b[0m\u001b[0;34m\u001b[0m\u001b[0m\n\u001b[0m",
      "\u001b[0;32m<ipython-input-9-1e5192f23611>\u001b[0m in \u001b[0;36mfunc_3\u001b[0;34m(data, p, p_start, p_end, time_start, time_end)\u001b[0m\n\u001b[1;32m    365\u001b[0m     \u001b[0;31m#lunghezza is the length of the final path\u001b[0m\u001b[0;34m\u001b[0m\u001b[0;34m\u001b[0m\u001b[0;34m\u001b[0m\u001b[0m\n\u001b[1;32m    366\u001b[0m     \u001b[0;31m#final path is a list of edges of the route\u001b[0m\u001b[0;34m\u001b[0m\u001b[0;34m\u001b[0m\u001b[0;34m\u001b[0m\u001b[0m\n\u001b[0;32m--> 367\u001b[0;31m     \u001b[0;32mreturn\u001b[0m \u001b[0mshortest_ordered_route\u001b[0m\u001b[0;34m(\u001b[0m\u001b[0mp\u001b[0m\u001b[0;34m,\u001b[0m \u001b[0mp_start\u001b[0m\u001b[0;34m,\u001b[0m \u001b[0mp_end\u001b[0m\u001b[0;34m,\u001b[0m \u001b[0mg\u001b[0m\u001b[0;34m)\u001b[0m\u001b[0;34m\u001b[0m\u001b[0;34m\u001b[0m\u001b[0m\n\u001b[0m",
      "\u001b[0;32m<ipython-input-9-1e5192f23611>\u001b[0m in \u001b[0;36mshortest_ordered_route\u001b[0;34m(p, p_start, p_end, g)\u001b[0m\n\u001b[1;32m    297\u001b[0m \u001b[0;34m\u001b[0m\u001b[0m\n\u001b[1;32m    298\u001b[0m         \u001b[0;31m#compute dijkstra from the i-th node\u001b[0m\u001b[0;34m\u001b[0m\u001b[0;34m\u001b[0m\u001b[0;34m\u001b[0m\u001b[0m\n\u001b[0;32m--> 299\u001b[0;31m         \u001b[0mnew_g\u001b[0m\u001b[0;34m,\u001b[0m \u001b[0mdist\u001b[0m\u001b[0;34m,\u001b[0m \u001b[0m_\u001b[0m \u001b[0;34m=\u001b[0m \u001b[0mdijkstra\u001b[0m\u001b[0;34m(\u001b[0m\u001b[0mp\u001b[0m\u001b[0;34m[\u001b[0m\u001b[0mi\u001b[0m\u001b[0;34m]\u001b[0m\u001b[0;34m,\u001b[0m \u001b[0mg\u001b[0m\u001b[0;34m)\u001b[0m\u001b[0;34m\u001b[0m\u001b[0;34m\u001b[0m\u001b[0m\n\u001b[0m\u001b[1;32m    300\u001b[0m \u001b[0;34m\u001b[0m\u001b[0m\n\u001b[1;32m    301\u001b[0m         \u001b[0;31m#retrieve the node p[i] and p[i+1] from the new graph computed by dijkstra\u001b[0m\u001b[0;34m\u001b[0m\u001b[0;34m\u001b[0m\u001b[0;34m\u001b[0m\u001b[0m\n",
      "\u001b[0;32m<ipython-input-9-1e5192f23611>\u001b[0m in \u001b[0;36mdijkstra\u001b[0;34m(n, g, print_g, size, style)\u001b[0m\n\u001b[1;32m    228\u001b[0m         \u001b[0;31m#if the node is not already visited we compute the minimum distance among the nodes. We take the minimum distance\u001b[0m\u001b[0;34m\u001b[0m\u001b[0;34m\u001b[0m\u001b[0;34m\u001b[0m\u001b[0m\n\u001b[1;32m    229\u001b[0m         \u001b[0;31m#but we are interested to the corresponding node so we take the key.\u001b[0m\u001b[0;34m\u001b[0m\u001b[0;34m\u001b[0m\u001b[0;34m\u001b[0m\u001b[0m\n\u001b[0;32m--> 230\u001b[0;31m         \u001b[0mcurrent_node\u001b[0m \u001b[0;34m=\u001b[0m \u001b[0mmin\u001b[0m\u001b[0;34m(\u001b[0m\u001b[0;34m[\u001b[0m\u001b[0;34m(\u001b[0m\u001b[0mdist\u001b[0m\u001b[0;34m[\u001b[0m\u001b[0mel\u001b[0m\u001b[0;34m.\u001b[0m\u001b[0mvalue\u001b[0m\u001b[0;34m]\u001b[0m\u001b[0;34m,\u001b[0m \u001b[0mel\u001b[0m\u001b[0;34m)\u001b[0m \u001b[0;32mfor\u001b[0m \u001b[0mel\u001b[0m \u001b[0;32min\u001b[0m \u001b[0mg\u001b[0m\u001b[0;34m.\u001b[0m\u001b[0mnodes\u001b[0m \u001b[0;32mif\u001b[0m \u001b[0;32mnot\u001b[0m \u001b[0mg\u001b[0m\u001b[0;34m.\u001b[0m\u001b[0mis_visited\u001b[0m\u001b[0;34m(\u001b[0m\u001b[0mel\u001b[0m\u001b[0;34m)\u001b[0m\u001b[0;34m]\u001b[0m\u001b[0;34m,\u001b[0m \u001b[0mkey\u001b[0m\u001b[0;34m=\u001b[0m\u001b[0;32mlambda\u001b[0m \u001b[0me\u001b[0m\u001b[0;34m:\u001b[0m \u001b[0me\u001b[0m\u001b[0;34m[\u001b[0m\u001b[0;36m0\u001b[0m\u001b[0;34m]\u001b[0m\u001b[0;34m)\u001b[0m\u001b[0;34m[\u001b[0m\u001b[0;36m1\u001b[0m\u001b[0;34m]\u001b[0m\u001b[0;34m\u001b[0m\u001b[0;34m\u001b[0m\u001b[0m\n\u001b[0m\u001b[1;32m    231\u001b[0m \u001b[0;34m\u001b[0m\u001b[0m\n\u001b[1;32m    232\u001b[0m         \u001b[0;31m#current node is visited\u001b[0m\u001b[0;34m\u001b[0m\u001b[0;34m\u001b[0m\u001b[0;34m\u001b[0m\u001b[0m\n",
      "\u001b[0;32m<ipython-input-9-1e5192f23611>\u001b[0m in \u001b[0;36m<listcomp>\u001b[0;34m(.0)\u001b[0m\n\u001b[1;32m    228\u001b[0m         \u001b[0;31m#if the node is not already visited we compute the minimum distance among the nodes. We take the minimum distance\u001b[0m\u001b[0;34m\u001b[0m\u001b[0;34m\u001b[0m\u001b[0;34m\u001b[0m\u001b[0m\n\u001b[1;32m    229\u001b[0m         \u001b[0;31m#but we are interested to the corresponding node so we take the key.\u001b[0m\u001b[0;34m\u001b[0m\u001b[0;34m\u001b[0m\u001b[0;34m\u001b[0m\u001b[0m\n\u001b[0;32m--> 230\u001b[0;31m         \u001b[0mcurrent_node\u001b[0m \u001b[0;34m=\u001b[0m \u001b[0mmin\u001b[0m\u001b[0;34m(\u001b[0m\u001b[0;34m[\u001b[0m\u001b[0;34m(\u001b[0m\u001b[0mdist\u001b[0m\u001b[0;34m[\u001b[0m\u001b[0mel\u001b[0m\u001b[0;34m.\u001b[0m\u001b[0mvalue\u001b[0m\u001b[0;34m]\u001b[0m\u001b[0;34m,\u001b[0m \u001b[0mel\u001b[0m\u001b[0;34m)\u001b[0m \u001b[0;32mfor\u001b[0m \u001b[0mel\u001b[0m \u001b[0;32min\u001b[0m \u001b[0mg\u001b[0m\u001b[0;34m.\u001b[0m\u001b[0mnodes\u001b[0m \u001b[0;32mif\u001b[0m \u001b[0;32mnot\u001b[0m \u001b[0mg\u001b[0m\u001b[0;34m.\u001b[0m\u001b[0mis_visited\u001b[0m\u001b[0;34m(\u001b[0m\u001b[0mel\u001b[0m\u001b[0;34m)\u001b[0m\u001b[0;34m]\u001b[0m\u001b[0;34m,\u001b[0m \u001b[0mkey\u001b[0m\u001b[0;34m=\u001b[0m\u001b[0;32mlambda\u001b[0m \u001b[0me\u001b[0m\u001b[0;34m:\u001b[0m \u001b[0me\u001b[0m\u001b[0;34m[\u001b[0m\u001b[0;36m0\u001b[0m\u001b[0;34m]\u001b[0m\u001b[0;34m)\u001b[0m\u001b[0;34m[\u001b[0m\u001b[0;36m1\u001b[0m\u001b[0;34m]\u001b[0m\u001b[0;34m\u001b[0m\u001b[0;34m\u001b[0m\u001b[0m\n\u001b[0m\u001b[1;32m    231\u001b[0m \u001b[0;34m\u001b[0m\u001b[0m\n\u001b[1;32m    232\u001b[0m         \u001b[0;31m#current node is visited\u001b[0m\u001b[0;34m\u001b[0m\u001b[0;34m\u001b[0m\u001b[0;34m\u001b[0m\u001b[0m\n",
      "\u001b[0;32m<ipython-input-9-1e5192f23611>\u001b[0m in \u001b[0;36mis_visited\u001b[0;34m(self, node)\u001b[0m\n\u001b[1;32m    149\u001b[0m     \u001b[0;32mdef\u001b[0m \u001b[0mis_visited\u001b[0m\u001b[0;34m(\u001b[0m\u001b[0mself\u001b[0m\u001b[0;34m,\u001b[0m \u001b[0mnode\u001b[0m\u001b[0;34m)\u001b[0m\u001b[0;34m:\u001b[0m\u001b[0;34m\u001b[0m\u001b[0;34m\u001b[0m\u001b[0m\n\u001b[1;32m    150\u001b[0m         \u001b[0;31m#check if a node has been visited\u001b[0m\u001b[0;34m\u001b[0m\u001b[0;34m\u001b[0m\u001b[0;34m\u001b[0m\u001b[0m\n\u001b[0;32m--> 151\u001b[0;31m         \u001b[0;32mreturn\u001b[0m \u001b[0mnode\u001b[0m \u001b[0;32min\u001b[0m \u001b[0mself\u001b[0m\u001b[0;34m.\u001b[0m\u001b[0mvisited\u001b[0m\u001b[0;34m\u001b[0m\u001b[0;34m\u001b[0m\u001b[0m\n\u001b[0m\u001b[1;32m    152\u001b[0m \u001b[0;34m\u001b[0m\u001b[0m\n\u001b[1;32m    153\u001b[0m     \u001b[0;32mdef\u001b[0m \u001b[0mclear_graph_path\u001b[0m\u001b[0;34m(\u001b[0m\u001b[0mself\u001b[0m\u001b[0;34m)\u001b[0m\u001b[0;34m:\u001b[0m\u001b[0;34m\u001b[0m\u001b[0;34m\u001b[0m\u001b[0m\n",
      "\u001b[0;31mKeyboardInterrupt\u001b[0m: "
     ]
    }
   ],
   "source": [
    "out_graph_1, final_path_1, lunghezza_1 = func_3(totDataframe,[91,1], 45, 1269, \"2008\", \"2010\")"
   ]
  },
  {
   "cell_type": "code",
   "execution_count": null,
   "id": "263da5cd",
   "metadata": {},
   "outputs": [],
   "source": [
    "2+5"
   ]
  },
  {
   "cell_type": "code",
   "execution_count": 8,
   "id": "abfd001c",
   "metadata": {},
   "outputs": [
    {
     "data": {
      "application/vnd.jupyter.widget-view+json": {
       "model_id": "e3e0fbb50633478bb7cad739887ea5bd",
       "version_major": 2,
       "version_minor": 0
      },
      "text/plain": [
       "HBox(children=(FloatProgress(value=0.0, max=2369867.0), HTML(value='')))"
      ]
     },
     "metadata": {},
     "output_type": "display_data"
    },
    {
     "name": "stdout",
     "output_type": "stream",
     "text": [
      "\n"
     ]
    },
    {
     "ename": "KeyboardInterrupt",
     "evalue": "",
     "output_type": "error",
     "traceback": [
      "\u001b[0;31m---------------------------------------------------------------------------\u001b[0m",
      "\u001b[0;31mKeyboardInterrupt\u001b[0m                         Traceback (most recent call last)",
      "\u001b[0;32m<ipython-input-8-3911a0bf128a>\u001b[0m in \u001b[0;36m<module>\u001b[0;34m\u001b[0m\n\u001b[0;32m----> 1\u001b[0;31m \u001b[0mout_graph_2\u001b[0m\u001b[0;34m,\u001b[0m \u001b[0mfinal_path_2\u001b[0m\u001b[0;34m,\u001b[0m \u001b[0mlunghezza_2\u001b[0m \u001b[0;34m=\u001b[0m \u001b[0mfun_3\u001b[0m\u001b[0;34m.\u001b[0m\u001b[0mfunc_3\u001b[0m\u001b[0;34m(\u001b[0m\u001b[0mtotDataframe\u001b[0m\u001b[0;34m,\u001b[0m\u001b[0;34m[\u001b[0m\u001b[0;36m1\u001b[0m\u001b[0;34m,\u001b[0m \u001b[0;36m67\u001b[0m\u001b[0;34m]\u001b[0m\u001b[0;34m,\u001b[0m \u001b[0;36m13\u001b[0m\u001b[0;34m,\u001b[0m \u001b[0;36m83\u001b[0m\u001b[0;34m,\u001b[0m \u001b[0;34m\"2008\"\u001b[0m\u001b[0;34m,\u001b[0m \u001b[0;34m\"2010\"\u001b[0m\u001b[0;34m)\u001b[0m\u001b[0;34m\u001b[0m\u001b[0;34m\u001b[0m\u001b[0m\n\u001b[0m",
      "\u001b[0;32m~/ADM-HW5/functionality_3.py\u001b[0m in \u001b[0;36mfunc_3\u001b[0;34m(data, p, p_start, p_end, time_start, time_end)\u001b[0m\n\u001b[1;32m    381\u001b[0m \u001b[0;34m\u001b[0m\u001b[0m\n\u001b[1;32m    382\u001b[0m     \u001b[0;31m#compute the shortest ordered route\u001b[0m\u001b[0;34m\u001b[0m\u001b[0;34m\u001b[0m\u001b[0;34m\u001b[0m\u001b[0m\n\u001b[0;32m--> 383\u001b[0;31m     \u001b[0mout_graph\u001b[0m\u001b[0;34m,\u001b[0m \u001b[0mfinal_path\u001b[0m\u001b[0;34m,\u001b[0m \u001b[0mlunghezza\u001b[0m \u001b[0;34m=\u001b[0m \u001b[0mshortest_ordered_route\u001b[0m\u001b[0;34m(\u001b[0m\u001b[0mp\u001b[0m\u001b[0;34m,\u001b[0m \u001b[0mp_start\u001b[0m\u001b[0;34m,\u001b[0m \u001b[0mp_end\u001b[0m\u001b[0;34m,\u001b[0m \u001b[0mg\u001b[0m\u001b[0;34m)\u001b[0m\u001b[0;34m\u001b[0m\u001b[0;34m\u001b[0m\u001b[0m\n\u001b[0m\u001b[1;32m    384\u001b[0m \u001b[0;34m\u001b[0m\u001b[0m\n\u001b[1;32m    385\u001b[0m     \u001b[0;31m#return the out_graph for the visualization\u001b[0m\u001b[0;34m\u001b[0m\u001b[0;34m\u001b[0m\u001b[0;34m\u001b[0m\u001b[0m\n",
      "\u001b[0;32m~/ADM-HW5/functionality_3.py\u001b[0m in \u001b[0;36mshortest_ordered_route\u001b[0;34m(p, p_start, p_end, g)\u001b[0m\n\u001b[1;32m    316\u001b[0m \u001b[0;34m\u001b[0m\u001b[0m\n\u001b[1;32m    317\u001b[0m         \u001b[0;31m#compute dijkstra from the i-th node\u001b[0m\u001b[0;34m\u001b[0m\u001b[0;34m\u001b[0m\u001b[0;34m\u001b[0m\u001b[0m\n\u001b[0;32m--> 318\u001b[0;31m         \u001b[0mnew_g\u001b[0m\u001b[0;34m,\u001b[0m \u001b[0mdist\u001b[0m\u001b[0;34m,\u001b[0m \u001b[0m_\u001b[0m \u001b[0;34m=\u001b[0m \u001b[0mdijkstra\u001b[0m\u001b[0;34m(\u001b[0m\u001b[0mp\u001b[0m\u001b[0;34m[\u001b[0m\u001b[0mi\u001b[0m\u001b[0;34m]\u001b[0m\u001b[0;34m,\u001b[0m \u001b[0mg\u001b[0m\u001b[0;34m)\u001b[0m\u001b[0;34m\u001b[0m\u001b[0;34m\u001b[0m\u001b[0m\n\u001b[0m\u001b[1;32m    319\u001b[0m \u001b[0;34m\u001b[0m\u001b[0m\n\u001b[1;32m    320\u001b[0m         \u001b[0;31m#retrieve the node p[i] and p[i+1] from the new graph computed by dijkstra\u001b[0m\u001b[0;34m\u001b[0m\u001b[0;34m\u001b[0m\u001b[0;34m\u001b[0m\u001b[0m\n",
      "\u001b[0;32m~/ADM-HW5/functionality_3.py\u001b[0m in \u001b[0;36mdijkstra\u001b[0;34m(n, g, print_g, size, style)\u001b[0m\n\u001b[1;32m    270\u001b[0m \u001b[0;34m\u001b[0m\u001b[0m\n\u001b[1;32m    271\u001b[0m             \u001b[0;31m#we sum the distance of the current node and the distance of the new edge belong to neighbours\u001b[0m\u001b[0;34m\u001b[0m\u001b[0;34m\u001b[0m\u001b[0;34m\u001b[0m\u001b[0m\n\u001b[0;32m--> 272\u001b[0;31m             \u001b[0malt\u001b[0m \u001b[0;34m=\u001b[0m \u001b[0mdist\u001b[0m\u001b[0;34m[\u001b[0m\u001b[0mcurrent_node\u001b[0m\u001b[0;34m.\u001b[0m\u001b[0mvalue\u001b[0m\u001b[0;34m]\u001b[0m \u001b[0;34m+\u001b[0m \u001b[0mg\u001b[0m\u001b[0;34m.\u001b[0m\u001b[0mget_edge\u001b[0m\u001b[0;34m(\u001b[0m\u001b[0mcurrent_node\u001b[0m\u001b[0;34m,\u001b[0m \u001b[0mneighbour\u001b[0m\u001b[0;34m)\u001b[0m\u001b[0;34m.\u001b[0m\u001b[0mw\u001b[0m\u001b[0;34m\u001b[0m\u001b[0;34m\u001b[0m\u001b[0m\n\u001b[0m\u001b[1;32m    273\u001b[0m \u001b[0;34m\u001b[0m\u001b[0m\n\u001b[1;32m    274\u001b[0m             \u001b[0;31m#if the new distance computed is less than distance of neighbour\u001b[0m\u001b[0;34m\u001b[0m\u001b[0;34m\u001b[0m\u001b[0;34m\u001b[0m\u001b[0m\n",
      "\u001b[0;32m~/ADM-HW5/functionality_3.py\u001b[0m in \u001b[0;36mget_edge\u001b[0;34m(self, from_n, to_n)\u001b[0m\n\u001b[1;32m    117\u001b[0m         \u001b[0mout_edge\u001b[0m \u001b[0;34m=\u001b[0m \u001b[0;32mNone\u001b[0m\u001b[0;34m\u001b[0m\u001b[0;34m\u001b[0m\u001b[0m\n\u001b[1;32m    118\u001b[0m         \u001b[0;32mfor\u001b[0m \u001b[0medge\u001b[0m \u001b[0;32min\u001b[0m \u001b[0mself\u001b[0m\u001b[0;34m.\u001b[0m\u001b[0mnodes\u001b[0m\u001b[0;34m[\u001b[0m\u001b[0mfrom_n\u001b[0m\u001b[0;34m]\u001b[0m\u001b[0;34m:\u001b[0m\u001b[0;34m\u001b[0m\u001b[0;34m\u001b[0m\u001b[0m\n\u001b[0;32m--> 119\u001b[0;31m             \u001b[0;32mif\u001b[0m\u001b[0;34m(\u001b[0m\u001b[0medge\u001b[0m\u001b[0;34m.\u001b[0m\u001b[0mfrom_n\u001b[0m \u001b[0;34m==\u001b[0m \u001b[0mfrom_n\u001b[0m \u001b[0;32mand\u001b[0m \u001b[0medge\u001b[0m\u001b[0;34m.\u001b[0m\u001b[0mto_n\u001b[0m \u001b[0;34m==\u001b[0m \u001b[0mto_n\u001b[0m\u001b[0;34m)\u001b[0m\u001b[0;34m:\u001b[0m\u001b[0;34m\u001b[0m\u001b[0;34m\u001b[0m\u001b[0m\n\u001b[0m\u001b[1;32m    120\u001b[0m                 \u001b[0mout_edge\u001b[0m \u001b[0;34m=\u001b[0m \u001b[0medge\u001b[0m\u001b[0;34m\u001b[0m\u001b[0;34m\u001b[0m\u001b[0m\n\u001b[1;32m    121\u001b[0m         \u001b[0;32mreturn\u001b[0m \u001b[0mout_edge\u001b[0m\u001b[0;34m\u001b[0m\u001b[0;34m\u001b[0m\u001b[0m\n",
      "\u001b[0;31mKeyboardInterrupt\u001b[0m: "
     ]
    }
   ],
   "source": [
    "out_graph_2, final_path_2, lunghezza_2 = fun_3.func_3(totDataframe,[1, 67], 13, 83, \"2008\", \"2010\")"
   ]
  },
  {
   "cell_type": "code",
   "execution_count": null,
   "id": "635fa413",
   "metadata": {},
   "outputs": [],
   "source": [
    "out_graph_3, final_path_3, lunghezza_3 = fun_3.func_3(totDataframe,[9,72,95,434,307,91,1,233], 22, 396, \"2008\", \"2010\")"
   ]
  },
  {
   "cell_type": "code",
   "execution_count": null,
   "id": "987546ad",
   "metadata": {},
   "outputs": [],
   "source": [
    "out_graph_4, final_path_4, lunghezza_4 = fun_3.func_3(totDataframe,[67,380,3397], 1, 13615, \"2008\", \"2010\")"
   ]
  },
  {
   "cell_type": "code",
   "execution_count": null,
   "id": "af12f9f8",
   "metadata": {},
   "outputs": [],
   "source": [
    "[9,72,95,434,307,91,1,233], 22, 396,"
   ]
  },
  {
   "cell_type": "code",
   "execution_count": 19,
   "id": "80e01334",
   "metadata": {},
   "outputs": [
    {
     "data": {
      "application/vnd.jupyter.widget-view+json": {
       "model_id": "31830430a1524ae7a5004f4898b74c7e",
       "version_major": 2,
       "version_minor": 0
      },
      "text/plain": [
       "HBox(children=(FloatProgress(value=0.0, max=10000.0), HTML(value='')))"
      ]
     },
     "metadata": {},
     "output_type": "display_data"
    },
    {
     "name": "stdout",
     "output_type": "stream",
     "text": [
      "\n"
     ]
    },
    {
     "data": {
      "application/vnd.jupyter.widget-view+json": {
       "model_id": "cf42000b5b7945c9a36bdf4a02fdd273",
       "version_major": 2,
       "version_minor": 0
      },
      "text/plain": [
       "HBox(children=(FloatProgress(value=0.0, max=1505.0), HTML(value='')))"
      ]
     },
     "metadata": {},
     "output_type": "display_data"
    },
    {
     "name": "stdout",
     "output_type": "stream",
     "text": [
      "\n"
     ]
    },
    {
     "data": {
      "application/vnd.jupyter.widget-view+json": {
       "model_id": "7cb5b21f1306498f9c7b875690db0d9d",
       "version_major": 2,
       "version_minor": 0
      },
      "text/plain": [
       "HBox(children=(FloatProgress(value=0.0, max=1505.0), HTML(value='')))"
      ]
     },
     "metadata": {},
     "output_type": "display_data"
    },
    {
     "name": "stdout",
     "output_type": "stream",
     "text": [
      "\n"
     ]
    },
    {
     "data": {
      "application/vnd.jupyter.widget-view+json": {
       "model_id": "a50459c5dd8b485aa39edaa4677c26c2",
       "version_major": 2,
       "version_minor": 0
      },
      "text/plain": [
       "HBox(children=(FloatProgress(value=0.0, max=1505.0), HTML(value='')))"
      ]
     },
     "metadata": {},
     "output_type": "display_data"
    },
    {
     "name": "stdout",
     "output_type": "stream",
     "text": [
      "\n"
     ]
    },
    {
     "data": {
      "text/plain": [
       "([13 -> 1 ::::: weight = 1.0 ::::: time: 2008-08-01 15:57:00,\n",
       "  1 -> 67 ::::: weight = 1.0 ::::: time: 2008-08-04 15:04:00,\n",
       "  67 -> 83 ::::: weight = 1.0 ::::: time: 2008-08-05 04:22:00],\n",
       " 3.0)"
      ]
     },
     "execution_count": 19,
     "metadata": {},
     "output_type": "execute_result"
    }
   ],
   "source": [
    "functionality_3([1, 67], 13, 83, time_start, time_end)"
   ]
  },
  {
   "cell_type": "code",
   "execution_count": 22,
   "id": "5730f091",
   "metadata": {},
   "outputs": [
    {
     "data": {
      "application/vnd.jupyter.widget-view+json": {
       "model_id": "dc51893ac19d49619a5c870911e497b6",
       "version_major": 2,
       "version_minor": 0
      },
      "text/plain": [
       "HBox(children=(FloatProgress(value=0.0, max=10000.0), HTML(value='')))"
      ]
     },
     "metadata": {},
     "output_type": "display_data"
    },
    {
     "name": "stdout",
     "output_type": "stream",
     "text": [
      "\n"
     ]
    }
   ],
   "source": [
    "g = make_graph(totDataframe_filter)\n"
   ]
  },
  {
   "cell_type": "code",
   "execution_count": 24,
   "id": "bd2ce595",
   "metadata": {},
   "outputs": [
    {
     "data": {
      "application/vnd.jupyter.widget-view+json": {
       "model_id": "0f75f31f930748849e82b2d570b689ba",
       "version_major": 2,
       "version_minor": 0
      },
      "text/plain": [
       "HBox(children=(FloatProgress(value=0.0, max=10000.0), HTML(value='')))"
      ]
     },
     "metadata": {},
     "output_type": "display_data"
    },
    {
     "name": "stdout",
     "output_type": "stream",
     "text": [
      "\n"
     ]
    },
    {
     "data": {
      "application/vnd.jupyter.widget-view+json": {
       "model_id": "20bdeaccc60942c997dce8254fea2a7a",
       "version_major": 2,
       "version_minor": 0
      },
      "text/plain": [
       "HBox(children=(FloatProgress(value=0.0, max=1505.0), HTML(value='')))"
      ]
     },
     "metadata": {},
     "output_type": "display_data"
    },
    {
     "name": "stdout",
     "output_type": "stream",
     "text": [
      "\n"
     ]
    },
    {
     "data": {
      "application/vnd.jupyter.widget-view+json": {
       "model_id": "97530c05358f4ab780a46e8bd7ce6267",
       "version_major": 2,
       "version_minor": 0
      },
      "text/plain": [
       "HBox(children=(FloatProgress(value=0.0, max=1505.0), HTML(value='')))"
      ]
     },
     "metadata": {},
     "output_type": "display_data"
    },
    {
     "name": "stdout",
     "output_type": "stream",
     "text": [
      "\n"
     ]
    },
    {
     "data": {
      "application/vnd.jupyter.widget-view+json": {
       "model_id": "c420080283e74edaa4034bfe7e791e04",
       "version_major": 2,
       "version_minor": 0
      },
      "text/plain": [
       "HBox(children=(FloatProgress(value=0.0, max=1505.0), HTML(value='')))"
      ]
     },
     "metadata": {},
     "output_type": "display_data"
    },
    {
     "name": "stdout",
     "output_type": "stream",
     "text": [
      "\n"
     ]
    },
    {
     "data": {
      "application/vnd.jupyter.widget-view+json": {
       "model_id": "8563ea84862d4e668d841b99cfc0eb5b",
       "version_major": 2,
       "version_minor": 0
      },
      "text/plain": [
       "HBox(children=(FloatProgress(value=0.0, max=1505.0), HTML(value='')))"
      ]
     },
     "metadata": {},
     "output_type": "display_data"
    },
    {
     "name": "stdout",
     "output_type": "stream",
     "text": [
      "\n"
     ]
    },
    {
     "data": {
      "application/vnd.jupyter.widget-view+json": {
       "model_id": "e37eecc737604c348ac9a4628afc9756",
       "version_major": 2,
       "version_minor": 0
      },
      "text/plain": [
       "HBox(children=(FloatProgress(value=0.0, max=1505.0), HTML(value='')))"
      ]
     },
     "metadata": {},
     "output_type": "display_data"
    },
    {
     "name": "stdout",
     "output_type": "stream",
     "text": [
      "\n"
     ]
    },
    {
     "data": {
      "application/vnd.jupyter.widget-view+json": {
       "model_id": "aca36668abcc498a876368171328a60f",
       "version_major": 2,
       "version_minor": 0
      },
      "text/plain": [
       "HBox(children=(FloatProgress(value=0.0, max=1505.0), HTML(value='')))"
      ]
     },
     "metadata": {},
     "output_type": "display_data"
    },
    {
     "name": "stdout",
     "output_type": "stream",
     "text": [
      "\n"
     ]
    },
    {
     "data": {
      "application/vnd.jupyter.widget-view+json": {
       "model_id": "deee640f05b84a6da40426f144b6ff84",
       "version_major": 2,
       "version_minor": 0
      },
      "text/plain": [
       "HBox(children=(FloatProgress(value=0.0, max=1505.0), HTML(value='')))"
      ]
     },
     "metadata": {},
     "output_type": "display_data"
    },
    {
     "name": "stdout",
     "output_type": "stream",
     "text": [
      "\n"
     ]
    },
    {
     "data": {
      "application/vnd.jupyter.widget-view+json": {
       "model_id": "80404766627f4500b4d51e7919962e85",
       "version_major": 2,
       "version_minor": 0
      },
      "text/plain": [
       "HBox(children=(FloatProgress(value=0.0, max=1505.0), HTML(value='')))"
      ]
     },
     "metadata": {},
     "output_type": "display_data"
    },
    {
     "name": "stdout",
     "output_type": "stream",
     "text": [
      "\n"
     ]
    },
    {
     "data": {
      "application/vnd.jupyter.widget-view+json": {
       "model_id": "99a98f0ddc344e94a0a5048d8d2ef9a2",
       "version_major": 2,
       "version_minor": 0
      },
      "text/plain": [
       "HBox(children=(FloatProgress(value=0.0, max=1505.0), HTML(value='')))"
      ]
     },
     "metadata": {},
     "output_type": "display_data"
    },
    {
     "name": "stdout",
     "output_type": "stream",
     "text": [
      "\n"
     ]
    }
   ],
   "source": [
    "q = functionality_3([9,72,95,434,307,91,1,233], 22, 396, time_start, time_end)\n"
   ]
  },
  {
   "cell_type": "code",
   "execution_count": 33,
   "id": "7570aaa9",
   "metadata": {},
   "outputs": [
    {
     "data": {
      "text/plain": [
       "([22 -> 9 ::::: weight = 1.0 ::::: time: 2008-08-05 12:54:00,\n",
       "  9 -> 72 ::::: weight = 1.0 ::::: time: 2008-08-02 00:47:00,\n",
       "  72 -> 95 ::::: weight = 1.0 ::::: time: 2008-08-05 22:19:00,\n",
       "  95 -> 434 ::::: weight = 1.0 ::::: time: 2008-08-06 15:06:00,\n",
       "  434 -> 307 ::::: weight = 1.0 ::::: time: 2008-08-06 02:32:00,\n",
       "  307 -> 91 ::::: weight = 1.0 ::::: time: 2008-08-05 00:38:00,\n",
       "  91 -> 1 ::::: weight = 1.0 ::::: time: 2008-08-02 04:46:00,\n",
       "  1 -> 233 ::::: weight = 1.0 ::::: time: 2008-08-13 10:30:00,\n",
       "  233 -> 396 ::::: weight = 1.0 ::::: time: 2008-08-12 08:23:00],\n",
       " 9.0)"
      ]
     },
     "execution_count": 33,
     "metadata": {},
     "output_type": "execute_result"
    }
   ],
   "source": [
    "q"
   ]
  },
  {
   "cell_type": "code",
   "execution_count": 26,
   "id": "9de63f45",
   "metadata": {},
   "outputs": [
    {
     "data": {
      "application/vnd.jupyter.widget-view+json": {
       "model_id": "1323e0f7fecb4832bea454ef4bcf480c",
       "version_major": 2,
       "version_minor": 0
      },
      "text/plain": [
       "HBox(children=(FloatProgress(value=0.0, max=10000.0), HTML(value='')))"
      ]
     },
     "metadata": {},
     "output_type": "display_data"
    },
    {
     "name": "stdout",
     "output_type": "stream",
     "text": [
      "\n"
     ]
    },
    {
     "data": {
      "application/vnd.jupyter.widget-view+json": {
       "model_id": "1737b5e6f88d4315aa819898685e4d5e",
       "version_major": 2,
       "version_minor": 0
      },
      "text/plain": [
       "HBox(children=(FloatProgress(value=0.0, max=1505.0), HTML(value='')))"
      ]
     },
     "metadata": {},
     "output_type": "display_data"
    },
    {
     "name": "stdout",
     "output_type": "stream",
     "text": [
      "\n"
     ]
    },
    {
     "data": {
      "application/vnd.jupyter.widget-view+json": {
       "model_id": "c8cfac84660d4309b0ce513c03f48fe7",
       "version_major": 2,
       "version_minor": 0
      },
      "text/plain": [
       "HBox(children=(FloatProgress(value=0.0, max=1505.0), HTML(value='')))"
      ]
     },
     "metadata": {},
     "output_type": "display_data"
    },
    {
     "name": "stdout",
     "output_type": "stream",
     "text": [
      "\n"
     ]
    },
    {
     "data": {
      "application/vnd.jupyter.widget-view+json": {
       "model_id": "7d34f125de84407088b440f744c92291",
       "version_major": 2,
       "version_minor": 0
      },
      "text/plain": [
       "HBox(children=(FloatProgress(value=0.0, max=1505.0), HTML(value='')))"
      ]
     },
     "metadata": {},
     "output_type": "display_data"
    },
    {
     "name": "stdout",
     "output_type": "stream",
     "text": [
      "\n"
     ]
    },
    {
     "data": {
      "text/plain": [
       "'Not possible'"
      ]
     },
     "execution_count": 26,
     "metadata": {},
     "output_type": "execute_result"
    }
   ],
   "source": [
    "functionality_3([67,380,3397], 1, 13615, time_start, time_end)"
   ]
  },
  {
   "cell_type": "code",
   "execution_count": 29,
   "id": "dea0f5a2",
   "metadata": {},
   "outputs": [
    {
     "data": {
      "application/vnd.jupyter.widget-view+json": {
       "model_id": "9e5b921cfbf94c10beb41b23520add8a",
       "version_major": 2,
       "version_minor": 0
      },
      "text/plain": [
       "HBox(children=(FloatProgress(value=0.0, max=10000.0), HTML(value='')))"
      ]
     },
     "metadata": {},
     "output_type": "display_data"
    },
    {
     "name": "stdout",
     "output_type": "stream",
     "text": [
      "\n"
     ]
    },
    {
     "data": {
      "application/vnd.jupyter.widget-view+json": {
       "model_id": "ec5312f7535e4df4bed32db71eb0ed65",
       "version_major": 2,
       "version_minor": 0
      },
      "text/plain": [
       "HBox(children=(FloatProgress(value=0.0, max=1505.0), HTML(value='')))"
      ]
     },
     "metadata": {},
     "output_type": "display_data"
    },
    {
     "name": "stdout",
     "output_type": "stream",
     "text": [
      "\n"
     ]
    },
    {
     "data": {
      "application/vnd.jupyter.widget-view+json": {
       "model_id": "a436a5c6f4914a42aff3e4df871a285d",
       "version_major": 2,
       "version_minor": 0
      },
      "text/plain": [
       "HBox(children=(FloatProgress(value=0.0, max=1505.0), HTML(value='')))"
      ]
     },
     "metadata": {},
     "output_type": "display_data"
    },
    {
     "name": "stdout",
     "output_type": "stream",
     "text": [
      "\n"
     ]
    },
    {
     "data": {
      "application/vnd.jupyter.widget-view+json": {
       "model_id": "7f15ebeb29094b618e525a15d7a0e6b8",
       "version_major": 2,
       "version_minor": 0
      },
      "text/plain": [
       "HBox(children=(FloatProgress(value=0.0, max=1505.0), HTML(value='')))"
      ]
     },
     "metadata": {},
     "output_type": "display_data"
    },
    {
     "name": "stdout",
     "output_type": "stream",
     "text": [
      "\n"
     ]
    },
    {
     "data": {
      "text/plain": [
       "([45 -> 432 ::::: weight = 1.0 ::::: time: 2008-08-06 01:49:00,\n",
       "  432 -> 1 ::::: weight = 2.0 ::::: time: 2008-08-16 00:40:00,\n",
       "  1 -> 91 ::::: weight = 3.0 ::::: time: 2008-08-13 06:13:00,\n",
       "  91 -> 1 ::::: weight = 1.0 ::::: time: 2008-08-02 04:46:00,\n",
       "  1 -> 91 ::::: weight = 1.0 ::::: time: 2008-08-13 06:13:00,\n",
       "  91 -> 1269 ::::: weight = 2.0 ::::: time: 2008-08-14 15:11:00],\n",
       " 10.0)"
      ]
     },
     "execution_count": 29,
     "metadata": {},
     "output_type": "execute_result"
    }
   ],
   "source": [
    "f = functionality_3([91,1], starting_nodes(totDataframe_filter)[0] , starting_nodes(totDataframe_filter)[1], time_start, time_end)\n",
    "f"
   ]
  },
  {
   "cell_type": "code",
   "execution_count": 34,
   "id": "da65069c",
   "metadata": {},
   "outputs": [
    {
     "data": {
      "application/vnd.jupyter.widget-view+json": {
       "model_id": "b8525db044f34418a8b6d31a01f5e86e",
       "version_major": 2,
       "version_minor": 0
      },
      "text/plain": [
       "HBox(children=(FloatProgress(value=0.0, max=10000.0), HTML(value='')))"
      ]
     },
     "metadata": {},
     "output_type": "display_data"
    },
    {
     "name": "stdout",
     "output_type": "stream",
     "text": [
      "\n"
     ]
    },
    {
     "data": {
      "application/vnd.jupyter.widget-view+json": {
       "model_id": "99a932ec043c43adbbee13e19877f4a3",
       "version_major": 2,
       "version_minor": 0
      },
      "text/plain": [
       "HBox(children=(FloatProgress(value=0.0, max=1505.0), HTML(value='')))"
      ]
     },
     "metadata": {},
     "output_type": "display_data"
    },
    {
     "name": "stdout",
     "output_type": "stream",
     "text": [
      "\n"
     ]
    },
    {
     "data": {
      "application/vnd.jupyter.widget-view+json": {
       "model_id": "aa7a08e424a14da08f9f30d666ac0743",
       "version_major": 2,
       "version_minor": 0
      },
      "text/plain": [
       "HBox(children=(FloatProgress(value=0.0, max=1505.0), HTML(value='')))"
      ]
     },
     "metadata": {},
     "output_type": "display_data"
    },
    {
     "name": "stdout",
     "output_type": "stream",
     "text": [
      "\n"
     ]
    },
    {
     "data": {
      "application/vnd.jupyter.widget-view+json": {
       "model_id": "27e0949aadcb46ab98ae84c32980f508",
       "version_major": 2,
       "version_minor": 0
      },
      "text/plain": [
       "HBox(children=(FloatProgress(value=0.0, max=1505.0), HTML(value='')))"
      ]
     },
     "metadata": {},
     "output_type": "display_data"
    },
    {
     "name": "stdout",
     "output_type": "stream",
     "text": [
      "\n"
     ]
    },
    {
     "data": {
      "text/plain": [
       "([45 -> 432 ::::: weight = 1.0 ::::: time: 2008-08-06 01:49:00,\n",
       "  432 -> 1 ::::: weight = 2.0 ::::: time: 2008-08-16 00:40:00,\n",
       "  1 -> 91 ::::: weight = 3.0 ::::: time: 2008-08-13 06:13:00,\n",
       "  91 -> 1 ::::: weight = 1.0 ::::: time: 2008-08-02 04:46:00,\n",
       "  1 -> 91 ::::: weight = 1.0 ::::: time: 2008-08-13 06:13:00,\n",
       "  91 -> 1269 ::::: weight = 2.0 ::::: time: 2008-08-14 15:11:00],\n",
       " 10.0)"
      ]
     },
     "execution_count": 34,
     "metadata": {},
     "output_type": "execute_result"
    }
   ],
   "source": [
    "q = functionality_3([91,1], 45, 1269, time_start, time_end)\n",
    "q"
   ]
  },
  {
   "cell_type": "code",
   "execution_count": 36,
   "id": "b01bee87",
   "metadata": {},
   "outputs": [
    {
     "data": {
      "text/plain": [
       "[30 -> 91 ::::: weight = 1.0 ::::: time: 2008-08-02 01:08:00,\n",
       " 50 -> 91 ::::: weight = 1.0 ::::: time: 2008-08-02 02:58:00,\n",
       " 39 -> 91 ::::: weight = 1.0 ::::: time: 2008-08-02 03:02:00,\n",
       " 96 -> 91 ::::: weight = 1.0 ::::: time: 2008-08-02 03:05:00,\n",
       " 91 -> 1 ::::: weight = 1.0 ::::: time: 2008-08-02 04:46:00,\n",
       " 91 -> 62 ::::: weight = 1.0 ::::: time: 2008-08-02 05:18:00,\n",
       " 48 -> 91 ::::: weight = 1.0 ::::: time: 2008-08-02 05:20:00,\n",
       " 34 -> 91 ::::: weight = 1.0 ::::: time: 2008-08-02 05:22:00,\n",
       " 71 -> 91 ::::: weight = 1.0 ::::: time: 2008-08-02 05:31:00,\n",
       " 55 -> 91 ::::: weight = 1.0 ::::: time: 2008-08-02 06:17:00,\n",
       " 91 -> 91 ::::: weight = 1.0 ::::: time: 2008-08-02 06:49:00,\n",
       " 91 -> 91 ::::: weight = 1.0 ::::: time: 2008-08-02 06:49:00,\n",
       " 91 -> 109 ::::: weight = 1.0 ::::: time: 2008-08-02 07:47:00,\n",
       " 40 -> 91 ::::: weight = 1.0 ::::: time: 2008-08-02 08:10:00,\n",
       " 91 -> 71 ::::: weight = 1.0 ::::: time: 2008-08-02 08:38:00,\n",
       " 49 -> 91 ::::: weight = 1.0 ::::: time: 2008-08-02 08:49:00,\n",
       " 100 -> 91 ::::: weight = 1.0 ::::: time: 2008-08-02 11:18:00,\n",
       " 119 -> 91 ::::: weight = 1.0 ::::: time: 2008-08-02 13:16:00,\n",
       " 91 -> 134 ::::: weight = 1.0 ::::: time: 2008-08-02 16:52:00,\n",
       " 137 -> 91 ::::: weight = 1.0 ::::: time: 2008-08-02 18:05:00,\n",
       " 136 -> 91 ::::: weight = 1.0 ::::: time: 2008-08-02 19:28:00,\n",
       " 149 -> 91 ::::: weight = 1.0 ::::: time: 2008-08-03 06:40:00,\n",
       " 34 -> 91 ::::: weight = 1.0 ::::: time: 2008-08-03 06:51:00,\n",
       " 116 -> 91 ::::: weight = 1.0 ::::: time: 2008-08-03 07:22:00,\n",
       " 111 -> 91 ::::: weight = 1.0 ::::: time: 2008-08-03 07:37:00,\n",
       " 76 -> 91 ::::: weight = 1.0 ::::: time: 2008-08-03 08:38:00,\n",
       " 91 -> 143 ::::: weight = 1.0 ::::: time: 2008-08-03 18:41:00,\n",
       " 30 -> 91 ::::: weight = 1.0 ::::: time: 2008-08-03 21:27:00,\n",
       " 46 -> 91 ::::: weight = 1.0 ::::: time: 2008-08-03 21:48:00,\n",
       " 51 -> 91 ::::: weight = 1.0 ::::: time: 2008-08-03 21:57:00,\n",
       " 91 -> 111 ::::: weight = 1.0 ::::: time: 2008-08-03 21:57:00,\n",
       " 173 -> 91 ::::: weight = 1.0 ::::: time: 2008-08-03 22:48:00,\n",
       " 91 -> 233 ::::: weight = 1.0 ::::: time: 2008-08-04 03:48:00,\n",
       " 91 -> 93 ::::: weight = 1.0 ::::: time: 2008-08-04 05:14:00,\n",
       " 91 -> 203 ::::: weight = 1.0 ::::: time: 2008-08-04 05:45:00,\n",
       " 91 -> 58 ::::: weight = 1.0 ::::: time: 2008-08-04 06:06:00,\n",
       " 91 -> 131 ::::: weight = 1.0 ::::: time: 2008-08-04 06:20:00,\n",
       " 91 -> 200 ::::: weight = 1.0 ::::: time: 2008-08-04 07:35:00,\n",
       " 91 -> 246 ::::: weight = 1.0 ::::: time: 2008-08-04 08:03:00,\n",
       " 91 -> 246 ::::: weight = 1.0 ::::: time: 2008-08-04 08:14:00,\n",
       " 101 -> 91 ::::: weight = 1.0 ::::: time: 2008-08-04 09:14:00,\n",
       " 231 -> 91 ::::: weight = 1.0 ::::: time: 2008-08-04 11:45:00,\n",
       " 91 -> 93 ::::: weight = 1.0 ::::: time: 2008-08-04 17:27:00,\n",
       " 227 -> 91 ::::: weight = 1.0 ::::: time: 2008-08-04 17:51:00,\n",
       " 40 -> 91 ::::: weight = 1.0 ::::: time: 2008-08-04 17:52:00,\n",
       " 267 -> 91 ::::: weight = 1.0 ::::: time: 2008-08-04 18:02:00,\n",
       " 91 -> 120 ::::: weight = 1.0 ::::: time: 2008-08-04 18:41:00,\n",
       " 206 -> 91 ::::: weight = 1.0 ::::: time: 2008-08-04 19:11:00,\n",
       " 206 -> 91 ::::: weight = 1.0 ::::: time: 2008-08-04 20:48:00,\n",
       " 91 -> 292 ::::: weight = 1.0 ::::: time: 2008-08-04 21:09:00,\n",
       " 35 -> 91 ::::: weight = 1.0 ::::: time: 2008-08-04 21:40:00,\n",
       " 91 -> 200 ::::: weight = 1.0 ::::: time: 2008-08-04 22:04:00,\n",
       " 91 -> 312 ::::: weight = 1.0 ::::: time: 2008-08-04 22:12:00,\n",
       " 312 -> 91 ::::: weight = 1.0 ::::: time: 2008-08-04 22:12:00,\n",
       " 91 -> 83 ::::: weight = 1.0 ::::: time: 2008-08-04 22:28:00,\n",
       " 17 -> 91 ::::: weight = 1.0 ::::: time: 2008-08-04 22:37:00,\n",
       " 91 -> 83 ::::: weight = 1.0 ::::: time: 2008-08-04 22:41:00,\n",
       " 35 -> 91 ::::: weight = 1.0 ::::: time: 2008-08-04 22:52:00,\n",
       " 91 -> 60 ::::: weight = 1.0 ::::: time: 2008-08-04 23:38:00,\n",
       " 307 -> 91 ::::: weight = 1.0 ::::: time: 2008-08-05 00:38:00,\n",
       " 26 -> 91 ::::: weight = 1.0 ::::: time: 2008-08-05 01:00:00,\n",
       " 91 -> 83 ::::: weight = 1.0 ::::: time: 2008-08-05 02:06:00,\n",
       " 91 -> 93 ::::: weight = 1.0 ::::: time: 2008-08-05 02:19:00,\n",
       " 1384652 -> 91 ::::: weight = 1.0 ::::: time: 2008-08-05 05:21:00,\n",
       " 199 -> 91 ::::: weight = 1.0 ::::: time: 2008-08-05 05:26:00,\n",
       " 308 -> 91 ::::: weight = 1.0 ::::: time: 2008-08-05 05:35:00,\n",
       " 116 -> 91 ::::: weight = 1.0 ::::: time: 2008-08-05 05:36:00,\n",
       " 91 -> 340 ::::: weight = 1.0 ::::: time: 2008-08-05 05:52:00,\n",
       " 308 -> 91 ::::: weight = 1.0 ::::: time: 2008-08-05 05:52:00,\n",
       " 91 -> 350 ::::: weight = 1.0 ::::: time: 2008-08-05 06:10:00,\n",
       " 91 -> 349 ::::: weight = 1.0 ::::: time: 2008-08-05 06:56:00,\n",
       " 205 -> 91 ::::: weight = 1.0 ::::: time: 2008-08-05 09:21:00,\n",
       " 172 -> 91 ::::: weight = 1.0 ::::: time: 2008-08-05 11:49:00,\n",
       " 5 -> 91 ::::: weight = 1.0 ::::: time: 2008-08-05 11:59:00,\n",
       " 198 -> 91 ::::: weight = 1.0 ::::: time: 2008-08-05 12:13:00,\n",
       " 298 -> 91 ::::: weight = 1.0 ::::: time: 2008-08-05 15:43:00,\n",
       " 91 -> 369 ::::: weight = 1.0 ::::: time: 2008-08-05 16:37:00,\n",
       " 91 -> 383 ::::: weight = 1.0 ::::: time: 2008-08-05 18:50:00,\n",
       " 91 -> 373 ::::: weight = 1.0 ::::: time: 2008-08-05 19:07:00,\n",
       " 91 -> 383 ::::: weight = 1.0 ::::: time: 2008-08-05 20:47:00,\n",
       " 91 -> 383 ::::: weight = 1.0 ::::: time: 2008-08-05 21:04:00,\n",
       " 409 -> 91 ::::: weight = 1.0 ::::: time: 2008-08-05 21:23:00,\n",
       " 121 -> 91 ::::: weight = 1.0 ::::: time: 2008-08-05 21:29:00,\n",
       " 409 -> 91 ::::: weight = 1.0 ::::: time: 2008-08-05 21:51:00,\n",
       " 266 -> 91 ::::: weight = 1.0 ::::: time: 2008-08-05 22:44:00,\n",
       " 316 -> 91 ::::: weight = 1.0 ::::: time: 2008-08-05 22:45:00,\n",
       " 91 -> 58 ::::: weight = 1.0 ::::: time: 2008-08-05 22:48:00,\n",
       " 402 -> 91 ::::: weight = 1.0 ::::: time: 2008-08-05 22:49:00,\n",
       " 91 -> 303 ::::: weight = 1.0 ::::: time: 2008-08-05 23:06:00,\n",
       " 27 -> 91 ::::: weight = 1.0 ::::: time: 2008-08-05 23:15:00,\n",
       " 91 -> 136 ::::: weight = 1.0 ::::: time: 2008-08-05 23:36:00,\n",
       " 91 -> 308 ::::: weight = 1.0 ::::: time: 2008-08-05 23:44:00,\n",
       " 91 -> 136 ::::: weight = 1.0 ::::: time: 2008-08-05 23:49:00,\n",
       " 17 -> 91 ::::: weight = 1.0 ::::: time: 2008-08-06 00:46:00,\n",
       " 342 -> 91 ::::: weight = 1.0 ::::: time: 2008-08-06 01:55:00,\n",
       " 91 -> 435 ::::: weight = 1.0 ::::: time: 2008-08-06 02:59:00,\n",
       " 91 -> 396 ::::: weight = 1.0 ::::: time: 2008-08-06 03:05:00,\n",
       " 91 -> 434 ::::: weight = 1.0 ::::: time: 2008-08-06 03:12:00,\n",
       " 91 -> 327 ::::: weight = 1.0 ::::: time: 2008-08-06 13:06:00,\n",
       " 91 -> 87 ::::: weight = 1.0 ::::: time: 2008-08-06 14:21:00,\n",
       " 91 -> 479 ::::: weight = 1.0 ::::: time: 2008-08-06 15:52:00,\n",
       " 491 -> 91 ::::: weight = 1.0 ::::: time: 2008-08-06 17:41:00,\n",
       " 91 -> 35 ::::: weight = 1.0 ::::: time: 2008-08-06 21:07:00,\n",
       " 91 -> 1384652 ::::: weight = 1.0 ::::: time: 2008-08-06 21:14:00,\n",
       " 91 -> 342 ::::: weight = 1.0 ::::: time: 2008-08-06 21:25:00,\n",
       " 91 -> 383 ::::: weight = 1.0 ::::: time: 2008-08-06 21:39:00,\n",
       " 91 -> 383 ::::: weight = 1.0 ::::: time: 2008-08-06 21:57:00,\n",
       " 91 -> 437 ::::: weight = 1.0 ::::: time: 2008-08-06 22:18:00,\n",
       " 83 -> 91 ::::: weight = 1.0 ::::: time: 2008-08-06 22:32:00,\n",
       " 83 -> 91 ::::: weight = 1.0 ::::: time: 2008-08-06 22:38:00,\n",
       " 534 -> 91 ::::: weight = 1.0 ::::: time: 2008-08-06 22:44:00,\n",
       " 91 -> 479 ::::: weight = 1.0 ::::: time: 2008-08-06 22:46:00,\n",
       " 91 -> 402 ::::: weight = 1.0 ::::: time: 2008-08-06 23:16:00,\n",
       " 541 -> 91 ::::: weight = 1.0 ::::: time: 2008-08-06 23:28:00,\n",
       " 91 -> 269 ::::: weight = 1.0 ::::: time: 2008-08-06 23:44:00,\n",
       " 91 -> 514 ::::: weight = 1.0 ::::: time: 2008-08-07 00:42:00,\n",
       " 50 -> 91 ::::: weight = 1.0 ::::: time: 2008-08-07 01:07:00,\n",
       " 383 -> 91 ::::: weight = 1.0 ::::: time: 2008-08-07 01:31:00,\n",
       " 91 -> 479 ::::: weight = 1.0 ::::: time: 2008-08-07 01:33:00,\n",
       " 116 -> 91 ::::: weight = 1.0 ::::: time: 2008-08-07 01:33:00,\n",
       " 194 -> 91 ::::: weight = 1.0 ::::: time: 2008-08-07 01:40:00,\n",
       " 35 -> 91 ::::: weight = 1.0 ::::: time: 2008-08-07 01:40:00,\n",
       " 91 -> 121 ::::: weight = 1.0 ::::: time: 2008-08-07 03:17:00,\n",
       " 91 -> 269 ::::: weight = 1.0 ::::: time: 2008-08-07 03:27:00,\n",
       " 580 -> 91 ::::: weight = 1.0 ::::: time: 2008-08-07 05:30:00,\n",
       " 91 -> 55 ::::: weight = 1.0 ::::: time: 2008-08-07 07:42:00,\n",
       " 429 -> 91 ::::: weight = 1.0 ::::: time: 2008-08-07 08:13:00,\n",
       " 493 -> 91 ::::: weight = 1.0 ::::: time: 2008-08-07 08:15:00,\n",
       " 550 -> 91 ::::: weight = 1.0 ::::: time: 2008-08-07 08:18:00,\n",
       " 360 -> 91 ::::: weight = 1.0 ::::: time: 2008-08-07 09:38:00,\n",
       " 560 -> 91 ::::: weight = 1.0 ::::: time: 2008-08-07 09:40:00,\n",
       " 445 -> 91 ::::: weight = 1.0 ::::: time: 2008-08-07 18:15:00,\n",
       " 91 -> 637 ::::: weight = 1.0 ::::: time: 2008-08-07 20:15:00,\n",
       " 206 -> 91 ::::: weight = 1.0 ::::: time: 2008-08-07 20:31:00,\n",
       " 123 -> 91 ::::: weight = 1.0 ::::: time: 2008-08-07 21:58:00,\n",
       " 91 -> 572 ::::: weight = 1.0 ::::: time: 2008-08-08 03:04:00,\n",
       " 91 -> 556 ::::: weight = 1.0 ::::: time: 2008-08-08 04:23:00,\n",
       " 608 -> 91 ::::: weight = 1.0 ::::: time: 2008-08-08 08:23:00,\n",
       " 645 -> 91 ::::: weight = 1.0 ::::: time: 2008-08-08 08:29:00,\n",
       " 214 -> 91 ::::: weight = 1.0 ::::: time: 2008-08-08 19:00:00,\n",
       " 302 -> 91 ::::: weight = 1.0 ::::: time: 2008-08-09 01:29:00,\n",
       " 91 -> 357 ::::: weight = 1.0 ::::: time: 2008-08-09 04:51:00,\n",
       " 91 -> 560 ::::: weight = 1.0 ::::: time: 2008-08-09 05:35:00,\n",
       " 796 -> 91 ::::: weight = 1.0 ::::: time: 2008-08-09 09:51:00,\n",
       " 796 -> 91 ::::: weight = 1.0 ::::: time: 2008-08-09 10:00:00,\n",
       " 706 -> 91 ::::: weight = 1.0 ::::: time: 2008-08-09 17:34:00,\n",
       " 727 -> 91 ::::: weight = 1.0 ::::: time: 2008-08-09 19:51:00,\n",
       " 91 -> 27687 ::::: weight = 1.0 ::::: time: 2008-08-09 20:16:00,\n",
       " 91 -> 770 ::::: weight = 1.0 ::::: time: 2008-08-10 01:01:00,\n",
       " 873 -> 91 ::::: weight = 1.0 ::::: time: 2008-08-10 07:15:00,\n",
       " 483 -> 91 ::::: weight = 1.0 ::::: time: 2008-08-10 07:45:00,\n",
       " 534 -> 91 ::::: weight = 1.0 ::::: time: 2008-08-10 09:55:00,\n",
       " 611 -> 91 ::::: weight = 1.0 ::::: time: 2008-08-10 11:21:00,\n",
       " 905 -> 91 ::::: weight = 1.0 ::::: time: 2008-08-10 22:24:00,\n",
       " 1975282 -> 91 ::::: weight = 1.0 ::::: time: 2008-08-11 04:08:00,\n",
       " 1107 -> 91 ::::: weight = 1.0 ::::: time: 2008-08-12 19:34:00,\n",
       " 732 -> 91 ::::: weight = 1.0 ::::: time: 2008-08-12 21:10:00,\n",
       " 91 -> 565 ::::: weight = 1.0 ::::: time: 2008-08-12 22:23:00,\n",
       " 91 -> 509 ::::: weight = 1.0 ::::: time: 2008-08-12 22:27:00,\n",
       " 91 -> 85 ::::: weight = 1.0 ::::: time: 2008-08-12 22:39:00,\n",
       " 91 -> 137 ::::: weight = 1.0 ::::: time: 2008-08-12 22:44:00,\n",
       " 91 -> 614 ::::: weight = 1.0 ::::: time: 2008-08-12 23:30:00,\n",
       " 91 -> 31505 ::::: weight = 1.0 ::::: time: 2008-08-12 23:34:00,\n",
       " 91 -> 31505 ::::: weight = 1.0 ::::: time: 2008-08-13 01:53:00,\n",
       " 91 -> 205 ::::: weight = 1.0 ::::: time: 2008-08-13 02:36:00,\n",
       " 91 -> 1135 ::::: weight = 1.0 ::::: time: 2008-08-13 02:56:00,\n",
       " 233 -> 91 ::::: weight = 1.0 ::::: time: 2008-08-13 06:13:00,\n",
       " 493 -> 91 ::::: weight = 1.0 ::::: time: 2008-08-13 06:13:00,\n",
       " 1 -> 91 ::::: weight = 1.0 ::::: time: 2008-08-13 06:13:00,\n",
       " 234 -> 91 ::::: weight = 1.0 ::::: time: 2008-08-13 06:22:00,\n",
       " 122 -> 91 ::::: weight = 1.0 ::::: time: 2008-08-13 07:14:00,\n",
       " 489 -> 91 ::::: weight = 1.0 ::::: time: 2008-08-13 08:36:00,\n",
       " 1137 -> 91 ::::: weight = 1.0 ::::: time: 2008-08-13 09:30:00,\n",
       " 905 -> 91 ::::: weight = 1.0 ::::: time: 2008-08-13 14:09:00,\n",
       " 91 -> 327 ::::: weight = 1.0 ::::: time: 2008-08-13 16:12:00,\n",
       " 1219 -> 91 ::::: weight = 1.0 ::::: time: 2008-08-13 22:41:00,\n",
       " 91 -> 373 ::::: weight = 1.0 ::::: time: 2008-08-14 01:40:00,\n",
       " 91 -> 1228 ::::: weight = 1.0 ::::: time: 2008-08-14 01:53:00,\n",
       " 1266 -> 91 ::::: weight = 1.0 ::::: time: 2008-08-14 14:03:00,\n",
       " 1075 -> 91 ::::: weight = 1.0 ::::: time: 2008-08-14 14:15:00,\n",
       " 91 -> 1269 ::::: weight = 1.0 ::::: time: 2008-08-14 15:11:00,\n",
       " 1169 -> 91 ::::: weight = 1.0 ::::: time: 2008-08-14 22:57:00,\n",
       " 1336 -> 91 ::::: weight = 1.0 ::::: time: 2008-08-14 23:43:00,\n",
       " 91 -> 305 ::::: weight = 1.0 ::::: time: 2008-08-14 23:57:00,\n",
       " 91 -> 1368 ::::: weight = 1.0 ::::: time: 2008-08-15 03:49:00,\n",
       " 91 -> 730 ::::: weight = 1.0 ::::: time: 2008-08-15 03:53:00,\n",
       " 905 -> 91 ::::: weight = 1.0 ::::: time: 2008-08-15 19:50:00,\n",
       " 1497 -> 91 ::::: weight = 1.0 ::::: time: 2008-08-16 05:23:00,\n",
       " 1517 -> 91 ::::: weight = 1.0 ::::: time: 2008-08-16 16:31:00,\n",
       " 1572 -> 91 ::::: weight = 1.0 ::::: time: 2008-08-17 02:06:00,\n",
       " 1492 -> 91 ::::: weight = 1.0 ::::: time: 2008-08-17 05:23:00,\n",
       " 192 -> 91 ::::: weight = 1.0 ::::: time: 2008-08-17 18:49:00,\n",
       " 1266 -> 91 ::::: weight = 1.0 ::::: time: 2008-08-18 05:40:00,\n",
       " 150 -> 91 ::::: weight = 1.0 ::::: time: 2008-08-18 06:19:00,\n",
       " 214 -> 91 ::::: weight = 1.0 ::::: time: 2008-08-18 07:27:00,\n",
       " 1630 -> 91 ::::: weight = 1.0 ::::: time: 2008-08-18 17:34:00,\n",
       " 1073 -> 91 ::::: weight = 1.0 ::::: time: 2008-08-18 17:47:00,\n",
       " 91 -> 1006 ::::: weight = 1.0 ::::: time: 2008-08-18 18:23:00,\n",
       " 225 -> 91 ::::: weight = 1.0 ::::: time: 2008-08-18 19:36:00,\n",
       " 1821 -> 91 ::::: weight = 1.0 ::::: time: 2008-08-19 01:23:00,\n",
       " 1644 -> 91 ::::: weight = 1.0 ::::: time: 2008-08-19 12:25:00,\n",
       " 91 -> 9611 ::::: weight = 1.0 ::::: time: 2008-08-19 13:10:00,\n",
       " 91 -> 27687 ::::: weight = 1.0 ::::: time: 2008-08-19 14:54:00,\n",
       " 91 -> 1703 ::::: weight = 1.0 ::::: time: 2008-08-19 15:16:00,\n",
       " 1432 -> 91 ::::: weight = 1.0 ::::: time: 2008-08-20 10:28:00,\n",
       " 522 -> 91 ::::: weight = 1.0 ::::: time: 2008-08-20 11:15:00,\n",
       " 611 -> 91 ::::: weight = 1.0 ::::: time: 2008-08-20 16:56:00,\n",
       " 91 -> 91 ::::: weight = 1.0 ::::: time: 2008-08-20 17:05:00,\n",
       " 91 -> 91 ::::: weight = 1.0 ::::: time: 2008-08-20 17:05:00,\n",
       " 91 -> 1683 ::::: weight = 1.0 ::::: time: 2008-08-20 19:28:00,\n",
       " 91 -> 2116 ::::: weight = 1.0 ::::: time: 2008-08-20 19:59:00,\n",
       " 91 -> 2134 ::::: weight = 1.0 ::::: time: 2008-08-21 06:03:00,\n",
       " 91 -> 1588 ::::: weight = 1.0 ::::: time: 2008-08-21 06:08:00,\n",
       " 91 -> 1782 ::::: weight = 1.0 ::::: time: 2008-08-21 06:11:00,\n",
       " 91 -> 1782 ::::: weight = 1.0 ::::: time: 2008-08-21 06:15:00,\n",
       " 2058 -> 91 ::::: weight = 1.0 ::::: time: 2008-08-21 10:05:00,\n",
       " 580 -> 91 ::::: weight = 1.0 ::::: time: 2008-08-21 18:13:00,\n",
       " 17 -> 91 ::::: weight = 1.0 ::::: time: 2008-08-21 20:12:00,\n",
       " 1533 -> 91 ::::: weight = 1.0 ::::: time: 2008-08-21 20:32:00,\n",
       " 91 -> 1782 ::::: weight = 1.0 ::::: time: 2008-08-22 02:44:00,\n",
       " 1219 -> 91 ::::: weight = 1.0 ::::: time: 2008-08-22 23:26:00,\n",
       " 1975282 -> 91 ::::: weight = 1.0 ::::: time: 2008-08-22 23:32:00,\n",
       " 811 -> 91 ::::: weight = 1.0 ::::: time: 2008-08-22 23:54:00,\n",
       " 91 -> 31505 ::::: weight = 1.0 ::::: time: 2008-08-23 00:15:00,\n",
       " 91 -> 1463 ::::: weight = 1.0 ::::: time: 2008-08-23 04:40:00,\n",
       " 91 -> 2374 ::::: weight = 1.0 ::::: time: 2008-08-23 04:50:00,\n",
       " 91 -> 1580 ::::: weight = 1.0 ::::: time: 2008-08-23 04:57:00,\n",
       " 91 -> 572 ::::: weight = 1.0 ::::: time: 2008-08-23 05:14:00,\n",
       " 91 -> 1580 ::::: weight = 1.0 ::::: time: 2008-08-23 05:21:00,\n",
       " 91 -> 1580 ::::: weight = 1.0 ::::: time: 2008-08-23 05:37:00,\n",
       " 91 -> 163 ::::: weight = 1.0 ::::: time: 2008-08-23 18:02:00]"
      ]
     },
     "execution_count": 36,
     "metadata": {},
     "output_type": "execute_result"
    }
   ],
   "source": [
    "g.nodes[91]"
   ]
  },
  {
   "cell_type": "code",
   "execution_count": 32,
   "id": "3422aead",
   "metadata": {},
   "outputs": [
    {
     "data": {
      "application/vnd.jupyter.widget-view+json": {
       "model_id": "94b64d5f6b6846b881a8317dafd796ac",
       "version_major": 2,
       "version_minor": 0
      },
      "text/plain": [
       "HBox(children=(FloatProgress(value=0.0, max=5.0), HTML(value='')))"
      ]
     },
     "metadata": {},
     "output_type": "display_data"
    },
    {
     "name": "stdout",
     "output_type": "stream",
     "text": [
      "\n"
     ]
    },
    {
     "data": {
      "image/png": "[encoded data removed]",
      "text/plain": [
       "<Figure size 504x504 with 1 Axes>"
      ]
     },
     "metadata": {},
     "output_type": "display_data"
    }
   ],
   "source": [
    "g_2 = GRAPH()\n",
    "for i in f[0]:\n",
    "    g_2.add_edge_object(i)\n",
    "\n",
    "g_2.print_graph()"
   ]
  },
  {
   "cell_type": "markdown",
   "id": "f1c17730",
   "metadata": {},
   "source": [
    "## prova"
   ]
  },
  {
   "cell_type": "code",
   "execution_count": 265,
   "id": "a1f9f5d5",
   "metadata": {},
   "outputs": [
    {
     "data": {
      "application/vnd.jupyter.widget-view+json": {
       "model_id": "ca2a5b06b6804f778110727fc1d63cac",
       "version_major": 2,
       "version_minor": 0
      },
      "text/plain": [
       "HBox(children=(FloatProgress(value=0.0, max=7.0), HTML(value='')))"
      ]
     },
     "metadata": {},
     "output_type": "display_data"
    },
    {
     "name": "stdout",
     "output_type": "stream",
     "text": [
      "\n"
     ]
    },
    {
     "data": {
      "image/png": "[encoded data removed]",
      "text/plain": [
       "<Figure size 504x504 with 1 Axes>"
      ]
     },
     "metadata": {},
     "output_type": "display_data"
    }
   ],
   "source": [
    "t2 = GRAPH()\n",
    "t2.add_edge(from_n=1,to_n=3, time=\"438\", w=2)\n",
    "t2.add_edge(from_n=3,to_n=2, time=\"438\", w=4)\n",
    "t2.add_edge(from_n=2,to_n=8, time=\"438\", w=5)\n",
    "t2.add_edge(from_n=8,to_n=5, time=\"438\", w=3)\n",
    "t2.add_edge(from_n=5,to_n=4, time=\"438\", w=6)\n",
    "t2.add_node(6)\n",
    "t2.print_graph()"
   ]
  },
  {
   "cell_type": "code",
   "execution_count": 13,
   "id": "a8958b94",
   "metadata": {},
   "outputs": [],
   "source": [
    "t2 = GRAPH()\n",
    "t2.add_edge(from_n=1,to_n=3, time=\"438\", w=2)\n",
    "t2.add_edge(from_n=3,to_n=2, time=\"438\", w=4)\n",
    "t2.add_edge(from_n=2,to_n=8, time=\"438\", w=10)\n",
    "t2.add_edge(from_n=8,to_n=5, time=\"438\", w=3)\n",
    "t2.add_edge(from_n=5,to_n=4, time=\"438\", w=6)\n",
    "t2.add_edge(from_n=2,to_n=1, time=\"438\", w=1)\n",
    "t2.add_edge(from_n=1,to_n=8, time=\"438\", w=0.5)\n",
    "t2.add_node(6)\n",
    "#t2.print_graph()"
   ]
  },
  {
   "cell_type": "code",
   "execution_count": 271,
   "id": "81176cb1",
   "metadata": {},
   "outputs": [
    {
     "data": {
      "application/vnd.jupyter.widget-view+json": {
       "model_id": "470f7286cf0f4c3c8901da3e56be9200",
       "version_major": 2,
       "version_minor": 0
      },
      "text/plain": [
       "HBox(children=(FloatProgress(value=0.0, max=6.0), HTML(value='')))"
      ]
     },
     "metadata": {},
     "output_type": "display_data"
    },
    {
     "name": "stdout",
     "output_type": "stream",
     "text": [
      "\n"
     ]
    },
    {
     "data": {
      "image/png": "[encoded data removed]",
      "text/plain": [
       "<Figure size 504x504 with 1 Axes>"
      ]
     },
     "metadata": {},
     "output_type": "display_data"
    }
   ],
   "source": [
    "t2 = GRAPH()\n",
    "t2.add_edge(from_n=1,to_n=3, time=\"438\", w=2)\n",
    "t2.add_edge(from_n=1,to_n=2, time=\"438\", w=4)\n",
    "t2.add_edge(from_n=3,to_n=4, time=\"438\", w=1)\n",
    "t2.add_edge(from_n=4,to_n=2, time=\"438\", w=6)\n",
    "t2.add_edge(from_n=2,to_n=5, time=\"438\", w=1)\n",
    "t2.add_edge(from_n=4,to_n=5, time=\"438\", w=5)\n",
    "t2.add_node(6)\n",
    "t2.print_graph()"
   ]
  },
  {
   "cell_type": "code",
   "execution_count": 272,
   "id": "eb353118",
   "metadata": {},
   "outputs": [
    {
     "data": {
      "application/vnd.jupyter.widget-view+json": {
       "model_id": "8c807db715e843d885e40a1a2a13877e",
       "version_major": 2,
       "version_minor": 0
      },
      "text/plain": [
       "HBox(children=(FloatProgress(value=0.0, max=6.0), HTML(value='')))"
      ]
     },
     "metadata": {},
     "output_type": "display_data"
    },
    {
     "name": "stdout",
     "output_type": "stream",
     "text": [
      "\n"
     ]
    },
    {
     "data": {
      "application/vnd.jupyter.widget-view+json": {
       "model_id": "ac5612e33dc24061b6397e2015b669af",
       "version_major": 2,
       "version_minor": 0
      },
      "text/plain": [
       "HBox(children=(FloatProgress(value=0.0, max=6.0), HTML(value='')))"
      ]
     },
     "metadata": {},
     "output_type": "display_data"
    },
    {
     "name": "stdout",
     "output_type": "stream",
     "text": [
      "\n",
      "Not possible\n",
      "[1 -> 2 ::::: weight = 4 ::::: time: 438]\n",
      "4\n"
     ]
    }
   ],
   "source": [
    "    p = [1,2,6]\n",
    "    final_path = []\n",
    "    for i in range(0, len(p)-1):\n",
    "        new_g, dist = dijkstra(p[i], t2)\n",
    "\n",
    "        if(new_g.is_linked_from(p[i], p[i+1])):\n",
    "            final_path.append(new_g.get_edge(p[i], p[i+1]))\n",
    "        else:\n",
    "            temp = []\n",
    "            try:\n",
    "                prec = [el for el in new_g.nodes[p[i+1]] if el.from_n != p[i+1]][0]\n",
    "            except IndexError:\n",
    "                print(\"Not possible\")\n",
    "                break\n",
    "\n",
    "            temp.append(prec)\n",
    "\n",
    "            while(not prec.from_n == p[i]):\n",
    "\n",
    "\n",
    "\n",
    "                punt = [el for el in new_g.nodes[prec.from_n] if el.from_n != prec.from_n][0]\n",
    "\n",
    "                temp.append(punt)\n",
    "\n",
    "                prec = punt\n",
    "\n",
    "            temp.reverse()\n",
    "            final_path.extend(temp)\n",
    "            \n",
    "    \n",
    "    lunghezza = sum([edge.w for edge in final_path])\n",
    "\n",
    "    print(final_path)\n",
    "    print(lunghezza)"
   ]
  },
  {
   "cell_type": "code",
   "execution_count": null,
   "id": "1276f28b",
   "metadata": {},
   "outputs": [],
   "source": []
  }
 ],
 "metadata": {
  "kernelspec": {
   "display_name": "Python 3 (ipykernel)",
   "language": "python",
   "name": "python3"
  },
  "language_info": {
   "codemirror_mode": {
    "name": "ipython",
    "version": 3
   },
   "file_extension": ".py",
   "mimetype": "text/x-python",
   "name": "python",
   "nbconvert_exporter": "python",
   "pygments_lexer": "ipython3",
   "version": "3.8.12"
  }
 },
 "nbformat": 4,
 "nbformat_minor": 5
}
