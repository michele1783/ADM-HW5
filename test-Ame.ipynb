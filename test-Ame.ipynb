{
 "cells": [
  {
   "cell_type": "code",
   "execution_count": null,
   "id": "76bdae3b-08c4-4b27-96f5-2cd8b22a4bd1",
   "metadata": {},
   "outputs": [],
   "source": [
    "import pandas as pd\n",
    "import numpy as np\n",
    "from datetime import *\n",
    "import networkx as nt\n",
    "from collections import *"
   ]
  },
  {
   "cell_type": "code",
   "execution_count": null,
   "id": "2cdda351-4f17-41f1-ab5c-a311797dbddc",
   "metadata": {},
   "outputs": [],
   "source": [
    "def dateparse(time_as_a_unix_timestamp):\n",
    "    return pd.to_datetime(time_as_a_unix_timestamp, unit=\"s\").strftime(\"%Y-%m-%d %H:%M\")"
   ]
  },
  {
   "cell_type": "code",
   "execution_count": null,
   "id": "9cf36320-023a-46fb-aa3d-6b98ead3146b",
   "metadata": {},
   "outputs": [],
   "source": [
    "class display(object):\n",
    "    \"\"\"Display HTML representation of multiple objects\"\"\"\n",
    "    template = \"\"\"<div style=\"float: left; padding: 10px;\">\n",
    "    <p style='font-family:\"Courier New\", Courier, monospace'>{0}</p>{1}\n",
    "    </div>\"\"\"\n",
    "    def __init__(self, *args):\n",
    "        self.args = args\n",
    "        \n",
    "    def _repr_html_(self):\n",
    "        return '\\n'.join(self.template.format(a, eval(a)._repr_html_())\n",
    "                         for a in self.args)\n",
    "    \n",
    "    def __repr__(self):\n",
    "        return '\\n\\n'.join(a + '\\n' + repr(eval(a))\n",
    "                           for a in self.args)"
   ]
  },
  {
   "cell_type": "code",
   "execution_count": null,
   "id": "5fd20cb1-26ab-48a7-9552-b50e21167957",
   "metadata": {},
   "outputs": [],
   "source": [
    "a2q = pd.read_csv(\"sx-stackoverflow-a2q.txt\", sep=\" \" ,header=None, names=[\"user_a\", \"user_b\", \"time\"], parse_dates=[\"time\"], date_parser=dateparse)\n",
    "c2a = pd.read_csv(\"sx-stackoverflow-c2a.txt\", sep=\" \" ,header=None, names=[\"user_a\", \"user_b\", \"time\"], parse_dates=[\"time\"], date_parser=dateparse)\n",
    "c2q = pd.read_csv(\"sx-stackoverflow-c2q.txt\", sep=\" \" ,header=None, names=[\"user_a\", \"user_b\", \"time\"], parse_dates=[\"time\"], date_parser=dateparse)"
   ]
  },
  {
   "cell_type": "code",
   "execution_count": null,
   "id": "5a93b33a-c32f-4b1b-9ef3-b7f2136ca6cf",
   "metadata": {},
   "outputs": [],
   "source": [
    "display(\"a2q\", \"c2a\", \"c2q\")"
   ]
  },
  {
   "cell_type": "code",
   "execution_count": null,
   "id": "1e7b04c2-e50b-44f3-85cd-9b8ac8a180c6",
   "metadata": {},
   "outputs": [],
   "source": [
    "totDataframe = pd.concat([a2q, c2a, c2q])\n",
    "totDataframe"
   ]
  },
  {
   "cell_type": "code",
   "execution_count": null,
   "id": "042da6bb-18ea-4dd1-a8b9-706ec7163196",
   "metadata": {},
   "outputs": [],
   "source": [
    "class EDGE:\n",
    "    \n",
    "    def __init__(self, from_n, to_n, w, time):\n",
    "        self.from_n = from_n\n",
    "        self.to_n = to_n\n",
    "        self.w = w\n",
    "        self.time = time\n",
    "        \n",
    "    def __repr__(self):\n",
    "        return f\"{self.from_n} -> {self.to_n} ::::: weight = {self.w} ::::: time: {self.time}\""
   ]
  },
  {
   "cell_type": "code",
   "execution_count": null,
   "id": "93fcc74f-a4e7-4694-a6d1-7b8985b7dfbe",
   "metadata": {},
   "outputs": [],
   "source": [
    "class GRAPH:\n",
    "    \n",
    "    def __init__(self, nodes = [], edges = []):\n",
    "        self.nodes = defaultdict(list, {k:[] for k in nodes})\n",
    "        \n",
    "        if(len(edges)>0):\n",
    "            for edge in edges:\n",
    "                self.nodes[edge.from_n] = edge\n",
    "                self.nodes[edge.to_n] = edge\n",
    "        \n",
    "        self.num_nodes = len(nodes)\n",
    "        self.num_edges = len(edges)\n",
    "        \n",
    "    def add_edge(self, from_n, to_n, w, time):\n",
    "        e = EDGE(from_n, to_n, w, time)\n",
    "        \n",
    "        self.nodes[from_n] = e\n",
    "        self.nodes[to_n] = e\n",
    "\n",
    "    def __repr__(self):\n",
    "        return f\"{self.nodes}\""
   ]
  }
 ],
 "metadata": {
  "kernelspec": {
   "display_name": "Python 3",
   "language": "python",
   "name": "python3"
  },
  "language_info": {
   "codemirror_mode": {
    "name": "ipython",
    "version": 3
   },
   "file_extension": ".py",
   "mimetype": "text/x-python",
   "name": "python",
   "nbconvert_exporter": "python",
   "pygments_lexer": "ipython3",
   "version": "3.8.8"
  }
 },
 "nbformat": 4,
 "nbformat_minor": 5
}
