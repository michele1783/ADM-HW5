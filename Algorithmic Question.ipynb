{
 "cells": [
  {
   "cell_type": "markdown",
   "metadata": {},
   "source": [
    "## Algorithmic Question"
   ]
  },
  {
   "cell_type": "markdown",
   "metadata": {},
   "source": [
    "We represent the kids as a list of numbers *n* and the couples of kids that often fight are represented as list of tuples *k*.  \n",
    "\n",
    "In the algorithm that we have implemented there are two cycle in k and one cycle in n but they are not nested, so its running time is in the order of $O$(n + 2k). So we can conclude that is linear in n and in k."
   ]
  },
  {
   "cell_type": "code",
   "execution_count": 12,
   "metadata": {},
   "outputs": [],
   "source": [
    "def dormitory(n, k): \n",
    "    #input:\n",
    "    #n: list of n kids\n",
    "    #k: list of k tuples\n",
    "    \n",
    "    #output:\n",
    "    #dorm_1: list of kids that sleep in first dormitory\n",
    "    #dorm_2: list of kids that sleep in second dormitory\n",
    "    \n",
    "    dorm_1 = [] #list of kids in first dormitory\n",
    "    dorm_2 = [] #list of kids in second dormitory\n",
    "    visited = [] #list of kids already settled\n",
    "    \n",
    "    for i in k: \n",
    "        \n",
    "        if i[0] > i[1]: #check if the pairs in k are ordered\n",
    "            i = list(i) #if not I order them\n",
    "            t = i[0]\n",
    "            i[0] = i[1]\n",
    "            i[1] = t\n",
    "            i = tuple(i) # now I have a sorted tuple \n",
    "        \n",
    "        #if first kid is not already settled\n",
    "        if visited.count(i[0]) == 0: \n",
    "            \n",
    "            if dorm_1.count(i[1]) == 0: #if the second kid of the couple is not in dormitory 1\n",
    "                \n",
    "                dorm_1.append(i[0]) #I add first kid to first dormitory\n",
    "\n",
    "            else:\n",
    "                dorm_2.append(i[0]) #I add first kid to first dormitory\n",
    "                \n",
    "            visited.append(i[0]) #I flag this kid as visited\n",
    "            \n",
    "         #if second kid is not already settled\n",
    "        if visited.count(i[1]) == 0: \n",
    "            \n",
    "            if dorm_2.count(i[0]) == 0: #if the first kid of the couple is not in dormitory 2\n",
    "                \n",
    "                dorm_2.append(i[1]) #I add second kid to second dormitory\n",
    "                \n",
    "            else:\n",
    "                \n",
    "                dorm_1.append(i[1]) #I add second kid to first dormitory\n",
    "                \n",
    "            visited.append(i[1]) #I flag this kid as visited \n",
    "\n",
    "            \n",
    "    for i in n: \n",
    "        \n",
    "        if (dorm_1.count(i) == 0) & (dorm_2.count(i) == 0): #add all the kids that are not in k tuples\n",
    "            dorm_1.append(i)\n",
    "    c = 0 \n",
    "    \n",
    "    for i in k: #check if a couple is in the same dormitory\n",
    "        \n",
    "        if ((dorm_1.count(i[0]) != 0) & (dorm_1.count(i[1]) != 0)) \\\n",
    "        | ((dorm_2.count(i[0]) != 0) & (dorm_2.count(i[1]) != 0)):\n",
    "            \n",
    "            c += 1\n",
    "            \n",
    "    if c != 0: #there are not possible combination\n",
    "        \n",
    "        print(\"no combination\")\n",
    "        \n",
    "    else:\n",
    "        \n",
    "        print(\"In first dormitory there are the followeing kids: \" + str(dorm_1))\n",
    "        print(\"In second dormitory there are the followeing kids: \" + str(dorm_2))"
   ]
  },
  {
   "cell_type": "code",
   "execution_count": 13,
   "metadata": {},
   "outputs": [
    {
     "name": "stdout",
     "output_type": "stream",
     "text": [
      "no combination\n"
     ]
    }
   ],
   "source": [
    "k = [(1,3),(4,1),(3,4)]\n",
    "n = [1,2,3,4,5,6]\n",
    "dormitory(n,k)\n",
    "#3 and 4 must be in the same dormitory "
   ]
  },
  {
   "cell_type": "code",
   "execution_count": 14,
   "metadata": {},
   "outputs": [
    {
     "name": "stdout",
     "output_type": "stream",
     "text": [
      "In first dormitory there are the followeing kids: [1, 2, 5, 6]\n",
      "In second dormitory there are the followeing kids: [3, 4]\n"
     ]
    }
   ],
   "source": [
    "k = [(1,3),(4,1),(2,4)]\n",
    "n = [1,2,3,4,5,6]\n",
    "dormitory(n,k)"
   ]
  },
  {
   "cell_type": "code",
   "execution_count": 15,
   "metadata": {},
   "outputs": [
    {
     "name": "stdout",
     "output_type": "stream",
     "text": [
      "In first dormitory there are the followeing kids: [1, 2, 6]\n",
      "In second dormitory there are the followeing kids: [3, 4, 5]\n"
     ]
    }
   ],
   "source": [
    "k = [(1,3),(4,1),(3,2),(2,5)]\n",
    "n = [1,2,3,4,5,6]\n",
    "dormitory(n,k)"
   ]
  },
  {
   "cell_type": "code",
   "execution_count": 16,
   "metadata": {},
   "outputs": [
    {
     "name": "stdout",
     "output_type": "stream",
     "text": [
      "In first dormitory there are the followeing kids: [1, 2]\n",
      "In second dormitory there are the followeing kids: [3, 4, 5, 6]\n"
     ]
    }
   ],
   "source": [
    "k = [(1,3),(4,1),(3,2),(2,5),(1,6)]\n",
    "n = [1,2,3,4,5,6]\n",
    "dormitory(n,k)"
   ]
  },
  {
   "cell_type": "code",
   "execution_count": 17,
   "metadata": {},
   "outputs": [
    {
     "name": "stdout",
     "output_type": "stream",
     "text": [
      "In first dormitory there are the followeing kids: [1, 2, 7, 8]\n",
      "In second dormitory there are the followeing kids: [3, 4, 5, 6, 10, 9]\n"
     ]
    }
   ],
   "source": [
    "k = [(1,3),(4,1),(3,2),(2,5),(2,6),(10,7),(8,9)]\n",
    "n = [1,2,3,4,5,6,7,8,9,10]\n",
    "dormitory(n,k)"
   ]
  },
  {
   "cell_type": "code",
   "execution_count": 18,
   "metadata": {},
   "outputs": [
    {
     "name": "stdout",
     "output_type": "stream",
     "text": [
      "no combination\n"
     ]
    }
   ],
   "source": [
    "k = [(1,3),(4,1),(3,2),(2,5),(1,2)]\n",
    "n = [1,2,3,4,5,6,7,8,9,10]\n",
    "#2 cannot sleep with 1, but also with 3\n",
    "dormitory(n,k)"
   ]
  },
  {
   "cell_type": "code",
   "execution_count": 19,
   "metadata": {},
   "outputs": [
    {
     "name": "stdout",
     "output_type": "stream",
     "text": [
      "In first dormitory there are the followeing kids: [2, 1, 3, 6, 4, 8, 9]\n",
      "In second dormitory there are the followeing kids: [5, 7, 10]\n"
     ]
    }
   ],
   "source": [
    "n = [1, 2, 3, 4, 5, 6, 7, 8, 9, 10]\n",
    "k = [(5, 2), (7, 1), (7, 3), (6, 10)]\n",
    "dormitory(n,k)"
   ]
  }
 ],
 "metadata": {
  "kernelspec": {
   "display_name": "Python 3",
   "language": "python",
   "name": "python3"
  },
  "language_info": {
   "codemirror_mode": {
    "name": "ipython",
    "version": 3
   },
   "file_extension": ".py",
   "mimetype": "text/x-python",
   "name": "python",
   "nbconvert_exporter": "python",
   "pygments_lexer": "ipython3",
   "version": "3.8.3"
  }
 },
 "nbformat": 4,
 "nbformat_minor": 4
}
