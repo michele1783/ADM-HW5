{
 "cells": [
  {
   "cell_type": "markdown",
   "metadata": {},
   "source": [
    "## Algorithmic Question"
   ]
  },
  {
   "cell_type": "markdown",
   "metadata": {},
   "source": [
    "This algorithm is linear in n and in k because there are two cycle in k and one cycle in n so the total number of steps will be at most:\n",
    "\n",
    "costant * 2 * k + constant * n + constant "
   ]
  },
  {
   "cell_type": "code",
   "execution_count": 59,
   "metadata": {},
   "outputs": [],
   "source": [
    "def dormitory(n, k): \n",
    "    #input:\n",
    "    #n: list of n kids\n",
    "    #k: list of k tuples\n",
    "    \n",
    "    dorm_1 = [] #list of kids in first dormitory\n",
    "    dorm_2 = [] #list of kids in second dormitory\n",
    "    visited = [] #list of kids already settled\n",
    "    \n",
    "    for i in k: \n",
    "        \n",
    "        if i[0] > i[1]: #check if the pairs in k are ordered\n",
    "            i = list(i) #if not I order them\n",
    "            t = i[0]\n",
    "            i[0] = i[1]\n",
    "            i[1] = t\n",
    "            i =tuple(i)\n",
    "\n",
    "        if visited.count(i[0]) == 0: #if kid is not already settled\n",
    "            visited.append(i[0]) #adding this kid to kids already settled\n",
    "            dorm_1.append(i[0]) #I put him in first dormitory \n",
    "        if visited.count(i[1]) == 0: #if kid is not already settled\n",
    "            dorm_2.append(i[1]) #adding this kid to kids already settled\n",
    "            visited.append(i[1]) #I put him in second dormitory \n",
    "            \n",
    "    for i in n: \n",
    "        \n",
    "        if (dorm_1.count(i) == 0) & (dorm_2.count(i) == 0): #add all the kids that are not in k tuples\n",
    "            dorm_1.append(i)\n",
    "    c = 0 \n",
    "    \n",
    "    for i in k: #check if a couple is in the same dormitory\n",
    "        \n",
    "        if ((dorm_1.count(i[0]) != 0) & (dorm_1.count(i[1]) != 0)) \\\n",
    "        | ((dorm_2.count(i[0]) != 0) & (dorm_2.count(i[1]) != 0)):\n",
    "            \n",
    "            c += 1\n",
    "            \n",
    "    if c != 0: #there are not possible combination\n",
    "        \n",
    "        print(\"no combination\")\n",
    "        \n",
    "    else:\n",
    "        \n",
    "        print(dorm_1)\n",
    "        print(dorm_2)"
   ]
  },
  {
   "cell_type": "code",
   "execution_count": 64,
   "metadata": {},
   "outputs": [
    {
     "name": "stdout",
     "output_type": "stream",
     "text": [
      "no combination\n"
     ]
    }
   ],
   "source": [
    "k = [(1,3),(4,1),(3,4)]\n",
    "n = [1,2,3,4,5,6]\n",
    "dormitory(n,k)\n",
    "#3 and 4 must be in the same dormitory "
   ]
  },
  {
   "cell_type": "code",
   "execution_count": 65,
   "metadata": {},
   "outputs": [
    {
     "name": "stdout",
     "output_type": "stream",
     "text": [
      "[1, 2, 5, 6]\n",
      "[3, 4]\n"
     ]
    }
   ],
   "source": [
    "k = [(1,3),(4,1),(2,4)]\n",
    "n = [1,2,3,4,5,6]\n",
    "dormitory(n,k)"
   ]
  },
  {
   "cell_type": "code",
   "execution_count": 67,
   "metadata": {},
   "outputs": [
    {
     "name": "stdout",
     "output_type": "stream",
     "text": [
      "[1, 2, 6]\n",
      "[3, 4, 5]\n"
     ]
    }
   ],
   "source": [
    "k = [(1,3),(4,1),(3,2),(2,5)]\n",
    "n = [1,2,3,4,5,6]\n",
    "dormitory(n,k)"
   ]
  },
  {
   "cell_type": "code",
   "execution_count": 68,
   "metadata": {},
   "outputs": [
    {
     "name": "stdout",
     "output_type": "stream",
     "text": [
      "[1, 2]\n",
      "[3, 4, 5, 6]\n"
     ]
    }
   ],
   "source": [
    "k = [(1,3),(4,1),(3,2),(2,5),(1,6)]\n",
    "n = [1,2,3,4,5,6]\n",
    "dormitory(n,k)"
   ]
  },
  {
   "cell_type": "code",
   "execution_count": 71,
   "metadata": {},
   "outputs": [
    {
     "name": "stdout",
     "output_type": "stream",
     "text": [
      "[1, 2]\n",
      "[3, 4, 5, 6]\n"
     ]
    }
   ],
   "source": [
    "k = [(1,3),(4,1),(3,2),(2,5),(2,6)]\n",
    "n = [1,2,3,4,5,6]\n",
    "dormitory(n,k)"
   ]
  },
  {
   "cell_type": "code",
   "execution_count": 72,
   "metadata": {},
   "outputs": [
    {
     "name": "stdout",
     "output_type": "stream",
     "text": [
      "no combination\n"
     ]
    }
   ],
   "source": [
    "k = [(1,3),(4,1),(3,2),(2,5),(1,2)]\n",
    "n = [1,2,3,4,5,6]\n",
    "dormitory(n,k)"
   ]
  },
  {
   "cell_type": "code",
   "execution_count": null,
   "metadata": {},
   "outputs": [],
   "source": []
  }
 ],
 "metadata": {
  "kernelspec": {
   "display_name": "Python 3",
   "language": "python",
   "name": "python3"
  },
  "language_info": {
   "codemirror_mode": {
    "name": "ipython",
    "version": 3
   },
   "file_extension": ".py",
   "mimetype": "text/x-python",
   "name": "python",
   "nbconvert_exporter": "python",
   "pygments_lexer": "ipython3",
   "version": "3.8.3"
  }
 },
 "nbformat": 4,
 "nbformat_minor": 4
}
