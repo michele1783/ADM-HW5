{
 "cells": [
  {
   "cell_type": "markdown",
   "metadata": {},
   "source": [
    "# Homework 5 - Exploring StackOverflow!"
   ]
  },
  {
   "cell_type": "markdown",
   "metadata": {},
   "source": [
    "We import the libraries"
   ]
  },
  {
   "cell_type": "code",
   "execution_count": 1,
   "metadata": {},
   "outputs": [
    {
     "name": "stdout",
     "output_type": "stream",
     "text": [
      "Starting to read the csv files...\n",
      "        a2q read\n",
      "        c2q read\n",
      "        c2a read\n",
      "Starting to create the graphs...\n",
      "        a2q graph created\n",
      "        c2q graph created\n",
      "        c2a graph created\n",
      "        totDataframe graph created\n"
     ]
    }
   ],
   "source": [
    "from app_function import *\n",
    "from test_data import *"
   ]
  },
  {
   "cell_type": "markdown",
   "metadata": {},
   "source": [
    "## 1. Data"
   ]
  },
  {
   "cell_type": "markdown",
   "metadata": {},
   "source": [
    "\n",
    "```python\n",
    "#Answers to questions\n",
    "a2q = pd.read_csv(\"data/sx-stackoverflow-a2q.txt\", sep=\" \" ,header=None, names=[\"user_a\", \"user_b\", \"time\"], parse_dates=[\"time\"], date_parser=dateparse)\n",
    "\n",
    "#Comments to answers\n",
    "c2a = pd.read_csv(\"data/sx-stackoverflow-c2a.txt\", sep=\" \" ,header=None, names=[\"user_a\", \"user_b\", \"time\"], parse_dates=[\"time\"], date_parser=dateparse)\n",
    "\n",
    "#Comments to questions\n",
    "c2q = pd.read_csv(\"data/sx-stackoverflow-c2q.txt\", sep=\" \" ,header=None, names=[\"user_a\", \"user_b\", \"time\"], parse_dates=[\"time\"], date_parser=dateparse)\n",
    "\n",
    "\n",
    "```\n",
    "\n",
    "```python\n",
    "a2q.to_csv(\"data/a2q.csv\", index=False)\n",
    "c2q.to_csv(\"data/c2q.csv\", index=False)\n",
    "c2a.to_csv(\"data/c2a.csv\", index=False)\n",
    "```"
   ]
  },
  {
   "cell_type": "code",
   "execution_count": 2,
   "metadata": {},
   "outputs": [],
   "source": [
    "def app(data1, data2, data3, dataTOT):\n",
    "    end = 0\n",
    "    while (end == 0):\n",
    "\n",
    "        #choose what functionality\n",
    "        user = int(input(\"Welcome user, what functionality do you want: \"))\n",
    "\n",
    "        if (user == 1):\n",
    "\n",
    "            #choose what file\n",
    "            scelta = input(\"What file do you want to analyze?: \")\n",
    "            if scelta == \"a2q\":\n",
    "\n",
    "                number_nodes_1, number_edges_1, directed_1, mean_1, density_1, sparse_1, degree_1, table_1 = functionality_1(data1)\n",
    "                print(tabulate(table_1, headers='firstrow', tablefmt='fancy_grid'))\n",
    "                print(\"We want to visualize how many users have a certain degree\")\n",
    "                fun_1.fig(degree_1)\n",
    "                print(\"We want to go deeper in the density distribution\")\n",
    "                fun_1.fig_hist(degree_1)\n",
    "                print(\"We want to visualize for each user how many degree it has\")\n",
    "                fun_1.fig_plot(degree_1)\n",
    "\n",
    "            elif scelta == \"c2a\":\n",
    "\n",
    "                number_nodes_2, number_edges_2, directed_2, mean_2, density_2, sparse_2, degree_2, table_2 = functionality_1(data2)\n",
    "                print(tabulate(table_2, headers='firstrow', tablefmt='fancy_grid'))\n",
    "                print(\"We want to visualize how many users have a certain degree\")\n",
    "                fig(degree_2)\n",
    "                print(\"We want to go deeper in the density distribution\")\n",
    "                fig_hist(degree_2)\n",
    "                print(\"We want to visualize for each user how many degree it has\")\n",
    "                fig_plot(degree_2)\n",
    "\n",
    "\n",
    "            else:\n",
    "\n",
    "                number_nodes_3, number_edges_3, directed_3, mean_3, density_3, sparse_3, degree_3, table_3 = functionality_1(data3)\n",
    "                print(tabulate(table_3, headers='firstrow', tablefmt='fancy_grid'))\n",
    "                print(\"We want to visualize how many users have a certain degree\")\n",
    "                fig(degree_3)\n",
    "                print(\"We want to go deeper in the density distribution\")\n",
    "                fig_hist(degree_3)\n",
    "                print(\"We want to visualize for each user how many degree it has\")\n",
    "                fig_plot(degree_3)\n",
    "\n",
    "            end = 1\n",
    "\n",
    "\n",
    "\n",
    "        if (user == 2):\n",
    "            print(\"Functionality 2 - Find the best users!\")\n",
    "            \n",
    "            functionality_2_visual()\n",
    "            \n",
    "            print(\"End of functionality 2\")\n",
    "            \n",
    "            end = 1\n",
    "\n",
    "        if (user == 3):\n",
    "            print(\"Functionality 3 - Shortest Ordered Route\")\n",
    "            \n",
    "            out_g, _, lenght = func_3()\n",
    "            \n",
    "            out_g.print_graph(pos=\"planar\")\n",
    "            \n",
    "            print(\"result of func_3\")\n",
    "            end = 1\n",
    "            \n",
    "        "
   ]
  },
  {
   "cell_type": "code",
   "execution_count": 3,
   "metadata": {},
   "outputs": [
    {
     "ename": "KeyboardInterrupt",
     "evalue": "Interrupted by user",
     "output_type": "error",
     "traceback": [
      "\u001b[0;31m---------------------------------------------------------------------------\u001b[0m",
      "\u001b[0;31mKeyboardInterrupt\u001b[0m                         Traceback (most recent call last)",
      "\u001b[0;32m/tmp/ipykernel_6250/236607844.py\u001b[0m in \u001b[0;36m<module>\u001b[0;34m\u001b[0m\n\u001b[0;32m----> 1\u001b[0;31m \u001b[0mfunz_1\u001b[0m\u001b[0;34m(\u001b[0m\u001b[0;34m)\u001b[0m\u001b[0;34m\u001b[0m\u001b[0;34m\u001b[0m\u001b[0m\n\u001b[0m",
      "\u001b[0;32m~/Documenti/GitHub_projects/ADM-HW5/functionality_1.py\u001b[0m in \u001b[0;36mfunz_1\u001b[0;34m()\u001b[0m\n\u001b[1;32m     15\u001b[0m \u001b[0;34m\u001b[0m\u001b[0m\n\u001b[1;32m     16\u001b[0m \u001b[0;32mdef\u001b[0m \u001b[0mfunz_1\u001b[0m\u001b[0;34m(\u001b[0m\u001b[0;34m)\u001b[0m\u001b[0;34m:\u001b[0m\u001b[0;34m\u001b[0m\u001b[0;34m\u001b[0m\u001b[0m\n\u001b[0;32m---> 17\u001b[0;31m     \u001b[0mscelta\u001b[0m \u001b[0;34m=\u001b[0m \u001b[0minput\u001b[0m\u001b[0;34m(\u001b[0m\u001b[0;34m\"What file do you want to analyze?: \"\u001b[0m\u001b[0;34m)\u001b[0m\u001b[0;34m\u001b[0m\u001b[0;34m\u001b[0m\u001b[0m\n\u001b[0m\u001b[1;32m     18\u001b[0m \u001b[0;34m\u001b[0m\u001b[0m\n\u001b[1;32m     19\u001b[0m     \u001b[0;32mif\u001b[0m \u001b[0mscelta\u001b[0m \u001b[0;34m==\u001b[0m \u001b[0;34m\"a2q\"\u001b[0m\u001b[0;34m:\u001b[0m\u001b[0;34m\u001b[0m\u001b[0;34m\u001b[0m\u001b[0m\n",
      "\u001b[0;32m~/Programmi/anaconda3/lib/python3.8/site-packages/ipykernel/kernelbase.py\u001b[0m in \u001b[0;36mraw_input\u001b[0;34m(self, prompt)\u001b[0m\n\u001b[1;32m   1004\u001b[0m                 \u001b[0;34m\"raw_input was called, but this frontend does not support input requests.\"\u001b[0m\u001b[0;34m\u001b[0m\u001b[0;34m\u001b[0m\u001b[0m\n\u001b[1;32m   1005\u001b[0m             )\n\u001b[0;32m-> 1006\u001b[0;31m         return self._input_request(\n\u001b[0m\u001b[1;32m   1007\u001b[0m             \u001b[0mstr\u001b[0m\u001b[0;34m(\u001b[0m\u001b[0mprompt\u001b[0m\u001b[0;34m)\u001b[0m\u001b[0;34m,\u001b[0m\u001b[0;34m\u001b[0m\u001b[0;34m\u001b[0m\u001b[0m\n\u001b[1;32m   1008\u001b[0m             \u001b[0mself\u001b[0m\u001b[0;34m.\u001b[0m\u001b[0m_parent_ident\u001b[0m\u001b[0;34m[\u001b[0m\u001b[0;34m\"shell\"\u001b[0m\u001b[0;34m]\u001b[0m\u001b[0;34m,\u001b[0m\u001b[0;34m\u001b[0m\u001b[0;34m\u001b[0m\u001b[0m\n",
      "\u001b[0;32m~/Programmi/anaconda3/lib/python3.8/site-packages/ipykernel/kernelbase.py\u001b[0m in \u001b[0;36m_input_request\u001b[0;34m(self, prompt, ident, parent, password)\u001b[0m\n\u001b[1;32m   1049\u001b[0m             \u001b[0;32mexcept\u001b[0m \u001b[0mKeyboardInterrupt\u001b[0m\u001b[0;34m:\u001b[0m\u001b[0;34m\u001b[0m\u001b[0;34m\u001b[0m\u001b[0m\n\u001b[1;32m   1050\u001b[0m                 \u001b[0;31m# re-raise KeyboardInterrupt, to truncate traceback\u001b[0m\u001b[0;34m\u001b[0m\u001b[0;34m\u001b[0m\u001b[0;34m\u001b[0m\u001b[0m\n\u001b[0;32m-> 1051\u001b[0;31m                 \u001b[0;32mraise\u001b[0m \u001b[0mKeyboardInterrupt\u001b[0m\u001b[0;34m(\u001b[0m\u001b[0;34m\"Interrupted by user\"\u001b[0m\u001b[0;34m)\u001b[0m \u001b[0;32mfrom\u001b[0m \u001b[0;32mNone\u001b[0m\u001b[0;34m\u001b[0m\u001b[0;34m\u001b[0m\u001b[0m\n\u001b[0m\u001b[1;32m   1052\u001b[0m             \u001b[0;32mexcept\u001b[0m \u001b[0mException\u001b[0m\u001b[0;34m:\u001b[0m\u001b[0;34m\u001b[0m\u001b[0;34m\u001b[0m\u001b[0m\n\u001b[1;32m   1053\u001b[0m                 \u001b[0mself\u001b[0m\u001b[0;34m.\u001b[0m\u001b[0mlog\u001b[0m\u001b[0;34m.\u001b[0m\u001b[0mwarning\u001b[0m\u001b[0;34m(\u001b[0m\u001b[0;34m\"Invalid Message:\"\u001b[0m\u001b[0;34m,\u001b[0m \u001b[0mexc_info\u001b[0m\u001b[0;34m=\u001b[0m\u001b[0;32mTrue\u001b[0m\u001b[0;34m)\u001b[0m\u001b[0;34m\u001b[0m\u001b[0;34m\u001b[0m\u001b[0m\n",
      "\u001b[0;31mKeyboardInterrupt\u001b[0m: Interrupted by user"
     ]
    }
   ],
   "source": [
    "funz_1()"
   ]
  },
  {
   "cell_type": "code",
   "execution_count": null,
   "metadata": {},
   "outputs": [],
   "source": []
  },
  {
   "cell_type": "markdown",
   "metadata": {},
   "source": [
    "# 2. Implementation of the backend"
   ]
  },
  {
   "cell_type": "markdown",
   "metadata": {},
   "source": [
    "spiegazione menù"
   ]
  },
  {
   "cell_type": "markdown",
   "metadata": {},
   "source": [
    "## 2.1 Functionality 1"
   ]
  },
  {
   "cell_type": "markdown",
   "metadata": {},
   "source": [
    "intro"
   ]
  },
  {
   "cell_type": "code",
   "execution_count": 4,
   "metadata": {},
   "outputs": [
    {
     "name": "stdin",
     "output_type": "stream",
     "text": [
      "Insert list of user:  1 67\n",
      "Insert the starting user:  13\n",
      "Insert the final user:  83\n"
     ]
    },
    {
     "data": {
      "application/vnd.jupyter.widget-view+json": {
       "model_id": "78e5df258b404e6d9fca98519b46e4a8",
       "version_major": 2,
       "version_minor": 0
      },
      "text/plain": [
       "  0%|          | 0/3 [00:00<?, ?it/s]"
      ]
     },
     "metadata": {},
     "output_type": "display_data"
    }
   ],
   "source": [
    "t, _, l = func_3()"
   ]
  },
  {
   "cell_type": "code",
   "execution_count": 5,
   "metadata": {},
   "outputs": [
    {
     "data": {
      "image/png": "[encoded data removed]",
      "text/plain": [
       "<Figure size 504x504 with 1 Axes>"
      ]
     },
     "metadata": {},
     "output_type": "display_data"
    },
    {
     "data": {
      "text/plain": [
       "<networkx.classes.digraph.DiGraph at 0x7faedb745730>"
      ]
     },
     "execution_count": 5,
     "metadata": {},
     "output_type": "execute_result"
    }
   ],
   "source": [
    "t.print_graph(pos=\"planar\")"
   ]
  },
  {
   "cell_type": "markdown",
   "metadata": {},
   "source": [
    "## 2.2 Functionality 2"
   ]
  },
  {
   "cell_type": "markdown",
   "metadata": {},
   "source": [
    "This functionality take as input an user and an interval of time and return the choosen metric of the relative graph. The possible metrics are:\n",
    "\n",
    "| Metric                | Explanation                                                                                                                                                                                                                                                                                                                                                                                                                                                                                       |\n",
    "|:---------------------:|:------------------------------------------------------------------------------------------------------------------------------------------------------------------------------------------------------------------------------------------------------------------------------------------------------------------------------------------------------------------------------------------------------------------------------------------------------------------------------------------------- |\n",
    "| Betweeness Centrality | This metric is a measure of centrality in a graph based on shortest paths. For every pair of vertices in a connected graph, there exists at least one shortest path between the vertices such that the sum of the weights of the edges (for weighted graphs) is minimized. The betweenness centrality for each vertex is the number of these shortest paths that pass through the vertex. An high value rappresent an user that in the graph have more probability to answered or made a question |\n",
    "| Page Rank             | This metric is a way of measuring the importance of website pages. In our case, the metric point the importance of an user in the community.                                                                                                                                                                                                                                                                                                                                                      |\n",
    "| Closeness Centrality  | This metric is a measure of centrality in a network, calculated as the reciprocal of the sum of the length of the shortest paths between the node and all other nodes in the graph. Thus, the more central a node is, the closer it is to all other nodes. So more central an user is, more the user answered or made a question.                                                                                                                                                                 |\n",
    "| Degree Centrality     | This metric is defined as the number of links incident upon a node. Thus, the more central a node is, more the user answered or made a question or comment.                                                                                                                                                                                                                                                                                                                                       |\n",
    "\n"
   ]
  },
  {
   "cell_type": "markdown",
   "metadata": {},
   "source": [
    "The function draw also plot that reppresent the variation of the metrix in the subintervals of time."
   ]
  },
  {
   "cell_type": "code",
   "execution_count": null,
   "metadata": {},
   "outputs": [],
   "source": [
    "functionality_2(data)"
   ]
  },
  {
   "cell_type": "markdown",
   "metadata": {},
   "source": [
    "## 2.3 Functionality 3"
   ]
  },
  {
   "cell_type": "markdown",
   "metadata": {},
   "source": [
    "intro"
   ]
  },
  {
   "cell_type": "code",
   "execution_count": null,
   "metadata": {},
   "outputs": [],
   "source": [
    "functionality_3(data)"
   ]
  },
  {
   "cell_type": "markdown",
   "metadata": {},
   "source": [
    "## 2.4 Functionality 4"
   ]
  },
  {
   "cell_type": "markdown",
   "metadata": {},
   "source": [
    "intro"
   ]
  },
  {
   "cell_type": "code",
   "execution_count": null,
   "metadata": {},
   "outputs": [],
   "source": [
    "functionality_4(data)"
   ]
  },
  {
   "cell_type": "code",
   "execution_count": null,
   "metadata": {},
   "outputs": [],
   "source": []
  }
 ],
 "metadata": {
  "kernelspec": {
   "display_name": "Python 3 (ipykernel)",
   "language": "python",
   "name": "python3"
  },
  "language_info": {
   "codemirror_mode": {
    "name": "ipython",
    "version": 3
   },
   "file_extension": ".py",
   "mimetype": "text/x-python",
   "name": "python",
   "nbconvert_exporter": "python",
   "pygments_lexer": "ipython3",
   "version": "3.8.12"
  }
 },
 "nbformat": 4,
 "nbformat_minor": 4
}
