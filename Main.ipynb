{
 "cells": [
  {
   "cell_type": "markdown",
   "metadata": {},
   "source": [
    "# Homework 5 - Exploring StackOverflow!"
   ]
  },
  {
   "cell_type": "markdown",
   "metadata": {},
   "source": [
    "We import the libraries"
   ]
  },
  {
   "cell_type": "code",
   "execution_count": 1,
   "metadata": {},
   "outputs": [
    {
     "name": "stdout",
     "output_type": "stream",
     "text": [
      "Starting to read the csv files...\n",
      "        a2q read\n",
      "        c2q read\n",
      "        c2a read\n",
      "Starting to create the graphs...\n",
      "        a2q graph created\n",
      "        c2q graph created\n",
      "        c2a graph created\n",
      "        totDataframe graph created\n"
     ]
    }
   ],
   "source": [
    "from app_function import *"
   ]
  },
  {
   "cell_type": "markdown",
   "metadata": {},
   "source": [
    "## 1. Data"
   ]
  },
  {
   "cell_type": "markdown",
   "metadata": {},
   "source": [
    "\n",
    "```python\n",
    "#Answers to questions\n",
    "a2q = pd.read_csv(\"data/sx-stackoverflow-a2q.txt\", sep=\" \" ,header=None, names=[\"user_a\", \"user_b\", \"time\"], parse_dates=[\"time\"], date_parser=dateparse)\n",
    "\n",
    "#Comments to answers\n",
    "c2a = pd.read_csv(\"data/sx-stackoverflow-c2a.txt\", sep=\" \" ,header=None, names=[\"user_a\", \"user_b\", \"time\"], parse_dates=[\"time\"], date_parser=dateparse)\n",
    "\n",
    "#Comments to questions\n",
    "c2q = pd.read_csv(\"data/sx-stackoverflow-c2q.txt\", sep=\" \" ,header=None, names=[\"user_a\", \"user_b\", \"time\"], parse_dates=[\"time\"], date_parser=dateparse)\n",
    "\n",
    "\n",
    "```\n",
    "\n",
    "```python\n",
    "a2q.to_csv(\"data/a2q.csv\", index=False)\n",
    "c2q.to_csv(\"data/c2q.csv\", index=False)\n",
    "c2a.to_csv(\"data/c2a.csv\", index=False)\n",
    "```"
   ]
  },
  {
   "cell_type": "markdown",
   "metadata": {},
   "source": [
    "Importiamo i dati necessari"
   ]
  },
  {
   "cell_type": "code",
   "execution_count": 2,
   "metadata": {},
   "outputs": [],
   "source": [
    "from test_data import *"
   ]
  },
  {
   "cell_type": "code",
   "execution_count": 3,
   "metadata": {},
   "outputs": [],
   "source": [
    "def app(data1, data2, data3, dataTOT):\n",
    "    end = 0\n",
    "    while (end == 0):\n",
    "\n",
    "        #choose what functionality\n",
    "        user = int(input(\"Welcome user, what functionality do you want: \"))\n",
    "\n",
    "        if (user == 1):\n",
    "\n",
    "            #choose what file\n",
    "            scelta = input(\"What file do you want to analyze?: \")\n",
    "            if scelta == \"a2q\":\n",
    "\n",
    "                number_nodes_1, number_edges_1, directed_1, mean_1, density_1, sparse_1, degree_1, table_1 = functionality_1(data1)\n",
    "                print(tabulate(table_1, headers='firstrow', tablefmt='fancy_grid'))\n",
    "                print(\"We want to visualize how many users have a certain degree\")\n",
    "                fun_1.fig(degree_1)\n",
    "                print(\"We want to go deeper in the density distribution\")\n",
    "                fun_1.fig_hist(degree_1)\n",
    "                print(\"We want to visualize for each user how many degree it has\")\n",
    "                fun_1.fig_plot(degree_1)\n",
    "\n",
    "            elif scelta == \"c2a\":\n",
    "\n",
    "                number_nodes_2, number_edges_2, directed_2, mean_2, density_2, sparse_2, degree_2, table_2 = functionality_1(data2)\n",
    "                print(tabulate(table_2, headers='firstrow', tablefmt='fancy_grid'))\n",
    "                print(\"We want to visualize how many users have a certain degree\")\n",
    "                fig(degree_2)\n",
    "                print(\"We want to go deeper in the density distribution\")\n",
    "                fig_hist(degree_2)\n",
    "                print(\"We want to visualize for each user how many degree it has\")\n",
    "                fig_plot(degree_2)\n",
    "\n",
    "\n",
    "            else:\n",
    "\n",
    "                number_nodes_3, number_edges_3, directed_3, mean_3, density_3, sparse_3, degree_3, table_3 = functionality_1(data3)\n",
    "                print(tabulate(table_3, headers='firstrow', tablefmt='fancy_grid'))\n",
    "                print(\"We want to visualize how many users have a certain degree\")\n",
    "                fig(degree_3)\n",
    "                print(\"We want to go deeper in the density distribution\")\n",
    "                fig_hist(degree_3)\n",
    "                print(\"We want to visualize for each user how many degree it has\")\n",
    "                fig_plot(degree_3)\n",
    "\n",
    "            end = 1\n",
    "\n",
    "\n",
    "\n",
    "        if (user == 2):\n",
    "            print(\"Functionality 2 - Find the best users!\")\n",
    "            \n",
    "            functionality_2_visual()\n",
    "            \n",
    "            print(\"End of functionality 2\")\n",
    "            \n",
    "            end = 1\n",
    "\n",
    "        if (user == 3):\n",
    "            print(\"Functionality 3 - Shortest Ordered Route\")\n",
    "            \n",
    "            out_g, _, lenght = func_3()\n",
    "            \n",
    "            out_g.print_graph(pos=\"planar\")\n",
    "            \n",
    "            print(\"result of func_3\")\n",
    "            end = 1\n",
    "            \n",
    "        "
   ]
  },
  {
   "cell_type": "code",
   "execution_count": null,
   "metadata": {},
   "outputs": [],
   "source": []
  },
  {
   "cell_type": "code",
   "execution_count": 8,
   "metadata": {},
   "outputs": [],
   "source": []
  },
  {
   "cell_type": "markdown",
   "metadata": {},
   "source": [
    "# 2. Implementation of the backend"
   ]
  },
  {
   "cell_type": "markdown",
   "metadata": {},
   "source": [
    "spiegazione menù"
   ]
  },
  {
   "cell_type": "markdown",
   "metadata": {},
   "source": [
    "## 2.1 Functionality 1"
   ]
  },
  {
   "cell_type": "markdown",
   "metadata": {},
   "source": [
    "intro"
   ]
  },
  {
   "cell_type": "code",
   "execution_count": 9,
   "metadata": {},
   "outputs": [
    {
     "name": "stdin",
     "output_type": "stream",
     "text": [
      "Insert list of user:  1 67\n",
      "Insert the starting user:  13\n",
      "Insert the final user:  83\n"
     ]
    },
    {
     "ename": "NameError",
     "evalue": "name 'totDataframe_2y_g' is not defined",
     "output_type": "error",
     "traceback": [
      "\u001b[0;31m---------------------------------------------------------------------------\u001b[0m",
      "\u001b[0;31mNameError\u001b[0m                                 Traceback (most recent call last)",
      "\u001b[0;32m/tmp/ipykernel_4789/423106233.py\u001b[0m in \u001b[0;36m<module>\u001b[0;34m\u001b[0m\n\u001b[0;32m----> 1\u001b[0;31m \u001b[0mt\u001b[0m\u001b[0;34m,\u001b[0m \u001b[0m_\u001b[0m\u001b[0;34m,\u001b[0m \u001b[0ml\u001b[0m \u001b[0;34m=\u001b[0m \u001b[0mfunc_3\u001b[0m\u001b[0;34m(\u001b[0m\u001b[0;34m)\u001b[0m\u001b[0;34m\u001b[0m\u001b[0;34m\u001b[0m\u001b[0m\n\u001b[0m",
      "\u001b[0;32m~/Documenti/GitHub_projects/ADM-HW5/functionality_3.py\u001b[0m in \u001b[0;36mfunc_3\u001b[0;34m()\u001b[0m\n\u001b[1;32m    111\u001b[0m     \u001b[0;31m#lunghezza is the length of the final path\u001b[0m\u001b[0;34m\u001b[0m\u001b[0;34m\u001b[0m\u001b[0;34m\u001b[0m\u001b[0m\n\u001b[1;32m    112\u001b[0m     \u001b[0;31m#final path is a list of edges of the route\u001b[0m\u001b[0;34m\u001b[0m\u001b[0;34m\u001b[0m\u001b[0;34m\u001b[0m\u001b[0m\n\u001b[0;32m--> 113\u001b[0;31m     \u001b[0;32mreturn\u001b[0m \u001b[0mshortest_ordered_route\u001b[0m\u001b[0;34m(\u001b[0m\u001b[0mp\u001b[0m\u001b[0;34m,\u001b[0m \u001b[0mp_start\u001b[0m\u001b[0;34m,\u001b[0m \u001b[0mp_end\u001b[0m\u001b[0;34m,\u001b[0m \u001b[0mtotDataframe_2y_g\u001b[0m\u001b[0;34m)\u001b[0m\u001b[0;34m\u001b[0m\u001b[0;34m\u001b[0m\u001b[0m\n\u001b[0m",
      "\u001b[0;31mNameError\u001b[0m: name 'totDataframe_2y_g' is not defined"
     ]
    }
   ],
   "source": [
    "t, _, l = func_3()"
   ]
  },
  {
   "cell_type": "markdown",
   "metadata": {},
   "source": [
    "## 2.2 Functionality 2"
   ]
  },
  {
   "cell_type": "markdown",
   "metadata": {},
   "source": [
    "This functionality take as input an user and an interval of time and return the choosen metric of the relative graph. The possible metrics are:\n",
    "\n",
    "| Metric | "
   ]
  },
  {
   "cell_type": "code",
   "execution_count": null,
   "metadata": {},
   "outputs": [],
   "source": [
    "functionality_2(data)"
   ]
  },
  {
   "cell_type": "markdown",
   "metadata": {},
   "source": [
    "## 2.3 Functionality 3"
   ]
  },
  {
   "cell_type": "markdown",
   "metadata": {},
   "source": [
    "intro"
   ]
  },
  {
   "cell_type": "code",
   "execution_count": null,
   "metadata": {},
   "outputs": [],
   "source": [
    "functionality_3(data)"
   ]
  },
  {
   "cell_type": "markdown",
   "metadata": {},
   "source": [
    "## 2.4 Functionality 4"
   ]
  },
  {
   "cell_type": "markdown",
   "metadata": {},
   "source": [
    "intro"
   ]
  },
  {
   "cell_type": "code",
   "execution_count": null,
   "metadata": {},
   "outputs": [],
   "source": [
    "functionality_4(data)"
   ]
  },
  {
   "cell_type": "code",
   "execution_count": null,
   "metadata": {},
   "outputs": [],
   "source": []
  }
 ],
 "metadata": {
  "kernelspec": {
   "display_name": "Python 3 (ipykernel)",
   "language": "python",
   "name": "python3"
  },
  "language_info": {
   "codemirror_mode": {
    "name": "ipython",
    "version": 3
   },
   "file_extension": ".py",
   "mimetype": "text/x-python",
   "name": "python",
   "nbconvert_exporter": "python",
   "pygments_lexer": "ipython3",
   "version": "3.8.12"
  }
 },
 "nbformat": 4,
 "nbformat_minor": 4
}
