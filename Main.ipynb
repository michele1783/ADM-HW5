{
 "cells": [
  {
   "cell_type": "markdown",
   "metadata": {},
   "source": [
    "# Homework 5 - Exploring StackOverflow!"
   ]
  },
  {
   "cell_type": "markdown",
   "metadata": {},
   "source": [
    "We import the libraries"
   ]
  },
  {
   "cell_type": "code",
   "execution_count": 1,
   "metadata": {},
   "outputs": [
    {
     "ename": "ModuleNotFoundError",
     "evalue": "No module named 'app_function'",
     "output_type": "error",
     "traceback": [
      "\u001b[0;31m---------------------------------------------------------------------------\u001b[0m",
      "\u001b[0;31mModuleNotFoundError\u001b[0m                       Traceback (most recent call last)",
      "\u001b[0;32m<ipython-input-1-ebc929748dd4>\u001b[0m in \u001b[0;36m<module>\u001b[0;34m\u001b[0m\n\u001b[0;32m----> 1\u001b[0;31m \u001b[0;32mfrom\u001b[0m \u001b[0mapp_function\u001b[0m \u001b[0;32mimport\u001b[0m \u001b[0;34m*\u001b[0m\u001b[0;34m\u001b[0m\u001b[0;34m\u001b[0m\u001b[0m\n\u001b[0m\u001b[1;32m      2\u001b[0m \u001b[0;32mfrom\u001b[0m \u001b[0mtest_data\u001b[0m \u001b[0;32mimport\u001b[0m \u001b[0;34m*\u001b[0m\u001b[0;34m\u001b[0m\u001b[0;34m\u001b[0m\u001b[0m\n\u001b[1;32m      3\u001b[0m \u001b[0;32mfrom\u001b[0m \u001b[0malgoquest\u001b[0m \u001b[0;32mimport\u001b[0m \u001b[0mdormitory\u001b[0m\u001b[0;34m\u001b[0m\u001b[0;34m\u001b[0m\u001b[0m\n",
      "\u001b[0;31mModuleNotFoundError\u001b[0m: No module named 'app_function'"
     ]
    }
   ],
   "source": [
    "from app_function import *\n",
    "from test_data import *\n"
   ]
  },
  {
   "cell_type": "code",
   "execution_count": 1,
   "metadata": {},
   "outputs": [],
   "source": [
    "from algoquest import dormitory "
   ]
  },
  {
   "cell_type": "markdown",
   "metadata": {},
   "source": [
    "We have imported the three file and read them through the function *pd.read_csv*. We have used the the function **dataparse** to pass from an unix timestamp to a date. \n"
   ]
  },
  {
   "cell_type": "markdown",
   "metadata": {},
   "source": [
    "We have decided to filter the dataset through an interval of time of one month, August 2008, because in our opinion it is good tradeoff between deal with a smaller amount of data but sufficiently large interval to obtain significant result. We have also made some trials with larger interval of time, like one or two years, but the meaning of our results did not change, it increased just the running time. We have chosen this particular month because the integer values associated to users are smaller and easier to read and write. "
   ]
  },
  {
   "cell_type": "markdown",
   "metadata": {},
   "source": [
    "We have also checked how many users reply or comment to theirselves to decide how we can deal with that. But in our interval of time the number of loop is really limited so we have thought that the few that are present are due to people that maybe to clarify their comments or answers have written to theirselves"
   ]
  },
  {
   "cell_type": "markdown",
   "metadata": {},
   "source": [
    "## rivedere i pesi!"
   ]
  },
  {
   "cell_type": "markdown",
   "metadata": {},
   "source": [
    "To build the merged graph firstly we have concatenated the three filtered dataframe building *totDataframe*. Through the function **make_graph** we have associated to the dataframe the graphs in which users are node and and answers/comments are weighted edges. So now a user *u* is linked to another user *v* if he has commented one of his questions, answers or if he has replied to one of his question. But these three kind of edges have different weight that we have decided to build these weights in the following way:\n",
    "\n",
    "-  we have assigned a score of 1 to \"Answers to questions\"\n",
    "-  we have assigned a score of 0.7 to \"Comments to questions\"\n",
    "-  we have assigned a score of 0.4 to \"Comments to answers\"\n",
    "\n",
    "The reasons are that we have thought that the answers to questions are the more relevant in the merged graph because they are possible solutions of user's question. Then a bit less important are comments to questions, but they could be relevant to clarify the question or specify something. Comments to answer are the least relevant, but we have not wanted to penalize them too much because in some situations they could be useful."
   ]
  },
  {
   "cell_type": "markdown",
   "metadata": {},
   "source": [
    "## 1. Data"
   ]
  },
  {
   "cell_type": "markdown",
   "metadata": {},
   "source": [
    "\n",
    "```python\n",
    "#Answers to questions\n",
    "a2q = pd.read_csv(\"data/sx-stackoverflow-a2q.txt\", sep=\" \" ,header=None, names=[\"user_a\", \"user_b\", \"time\"], parse_dates=[\"time\"], date_parser=dateparse)\n",
    "\n",
    "#Comments to answers\n",
    "c2a = pd.read_csv(\"data/sx-stackoverflow-c2a.txt\", sep=\" \" ,header=None, names=[\"user_a\", \"user_b\", \"time\"], parse_dates=[\"time\"], date_parser=dateparse)\n",
    "\n",
    "#Comments to questions\n",
    "c2q = pd.read_csv(\"data/sx-stackoverflow-c2q.txt\", sep=\" \" ,header=None, names=[\"user_a\", \"user_b\", \"time\"], parse_dates=[\"time\"], date_parser=dateparse)\n",
    "\n",
    "\n",
    "```\n",
    "\n",
    "```python\n",
    "a2q.to_csv(\"data/a2q.csv\", index=False)\n",
    "c2q.to_csv(\"data/c2q.csv\", index=False)\n",
    "c2a.to_csv(\"data/c2a.csv\", index=False)\n",
    "```"
   ]
  },
  {
   "cell_type": "code",
   "execution_count": 2,
   "metadata": {},
   "outputs": [],
   "source": [
    "def app(data1, data2, data3, dataTOT):\n",
    "    end = 0\n",
    "    while (end == 0):\n",
    "\n",
    "        #choose what functionality\n",
    "        user = int(input(\"Welcome user, what functionality do you want: \"))\n",
    "\n",
    "        if (user == 1):\n",
    "\n",
    "            #choose what file\n",
    "            scelta = input(\"What file do you want to analyze?: \")\n",
    "            if scelta == \"a2q\":\n",
    "\n",
    "                number_nodes_1, number_edges_1, directed_1, mean_1, density_1, sparse_1, degree_1, table_1 = functionality_1(data1)\n",
    "                print(tabulate(table_1, headers='firstrow', tablefmt='fancy_grid'))\n",
    "                print(\"We want to visualize how many users have a certain degree\")\n",
    "                fun_1.fig(degree_1)\n",
    "                print(\"We want to go deeper in the density distribution\")\n",
    "                fun_1.fig_hist(degree_1)\n",
    "                print(\"We want to visualize for each user how many degree it has\")\n",
    "                fun_1.fig_plot(degree_1)\n",
    "\n",
    "            elif scelta == \"c2a\":\n",
    "\n",
    "                number_nodes_2, number_edges_2, directed_2, mean_2, density_2, sparse_2, degree_2, table_2 = functionality_1(data2)\n",
    "                print(tabulate(table_2, headers='firstrow', tablefmt='fancy_grid'))\n",
    "                print(\"We want to visualize how many users have a certain degree\")\n",
    "                fig(degree_2)\n",
    "                print(\"We want to go deeper in the density distribution\")\n",
    "                fig_hist(degree_2)\n",
    "                print(\"We want to visualize for each user how many degree it has\")\n",
    "                fig_plot(degree_2)\n",
    "\n",
    "\n",
    "            else:\n",
    "\n",
    "                number_nodes_3, number_edges_3, directed_3, mean_3, density_3, sparse_3, degree_3, table_3 = functionality_1(data3)\n",
    "                print(tabulate(table_3, headers='firstrow', tablefmt='fancy_grid'))\n",
    "                print(\"We want to visualize how many users have a certain degree\")\n",
    "                fig(degree_3)\n",
    "                print(\"We want to go deeper in the density distribution\")\n",
    "                fig_hist(degree_3)\n",
    "                print(\"We want to visualize for each user how many degree it has\")\n",
    "                fig_plot(degree_3)\n",
    "\n",
    "            end = 1\n",
    "\n",
    "\n",
    "\n",
    "        if (user == 2):\n",
    "            print(\"Functionality 2 - Find the best users!\")\n",
    "            \n",
    "            functionality_2_visual()\n",
    "            \n",
    "            print(\"End of functionality 2\")\n",
    "            \n",
    "            end = 1\n",
    "\n",
    "        if (user == 3):\n",
    "            print(\"Functionality 3 - Shortest Ordered Route\")\n",
    "            \n",
    "            out_g, _, lenght = func_3()\n",
    "            \n",
    "            out_g.print_graph(pos=\"planar\")\n",
    "            \n",
    "            print(\"result of func_3\")\n",
    "            end = 1\n",
    "            \n",
    "        "
   ]
  },
  {
   "cell_type": "code",
   "execution_count": null,
   "metadata": {},
   "outputs": [],
   "source": []
  },
  {
   "cell_type": "markdown",
   "metadata": {},
   "source": [
    "# 2. Implementation of the backend"
   ]
  },
  {
   "cell_type": "markdown",
   "metadata": {},
   "source": [
    "We have built an unique system with different functionalities: we have created a **menu** where the users that interact with our system can decide what functionality and what kind of information inside that functionality they need, for example in functionality 1 users can decide one of the three graph to visualize the overall features or in functionality 2 what centrality metric they need. "
   ]
  },
  {
   "cell_type": "markdown",
   "metadata": {},
   "source": [
    "## 2.1 Functionality 1"
   ]
  },
  {
   "cell_type": "markdown",
   "metadata": {},
   "source": [
    "In functionality 1 we have generated a table with all information requested: in the first row there is the **head** of the chosen dataframe, then user discovers if the graph is **directed** or not (in an undirected graph the number of starting nodes is the same of the ending nodes). All these graphs are directed. Then the **number of users** (that is the number of nodes), **number of answer/comments** (number of edges) according to the kind of file. The **average number of links per user** is the ratio between n.of edges and n.of nodes. Since the graph is directed we have computed the **degree density** as $D = \\frac{|E|}{|V| \\cdot (|V| - 1)}$. A graph is **sparse** if caridnality of **E** is much less than cardinality of *$V^2$*. All these graph are sparse. "
   ]
  },
  {
   "cell_type": "markdown",
   "metadata": {},
   "source": [
    "Moreover we have plotted the **density distribution** of the graph provided as input: it is an histogram where the bins are the degree while on the y-axis we have the number of users. So through this plot we can know for a specific degree how many user has that number of edges. We have not made difference between in and out degree because we have thought that for this kind of application is more important to see how a single user interact with others. \n",
    "\n",
    "To visualize better this **histogram** we have splitted in three different subplots since the graph is sparse so a lot of users are condensed in the first bins and with a unique plot is more difficult see the other values. These subplots were very useful when we have done trials with larger interval of time so we have more users. \n",
    "\n",
    "Finally we have drawn also a **plot** in which we can see for each user his degree. Once again this plot confirms that graph is sparse, but there are few users that interact a lot. "
   ]
  },
  {
   "cell_type": "code",
   "execution_count": 3,
   "metadata": {},
   "outputs": [
    {
     "name": "stdin",
     "output_type": "stream",
     "text": [
      "What file do you want to analyze?:  a2q\n"
     ]
    },
    {
     "name": "stdout",
     "output_type": "stream",
     "text": [
      "╒══════════════════════════════╤════════════════════════════════════════════════╕\n",
      "│ Info requested               │ Answers                                        │\n",
      "╞══════════════════════════════╪════════════════════════════════════════════════╡\n",
      "│ File                         │ user_a  user_b                time  weights    │\n",
      "│                              │ 0       9       8 2008-08-01 05:00:00      0.4 │\n",
      "│                              │ 1       1       1 2008-08-01 06:00:00      0.4 │\n",
      "│                              │ 2      13       1 2008-08-01 15:00:00      0.4 │\n",
      "│                              │ 3      17       1 2008-08-01 19:00:00      0.4 │\n",
      "│                              │ 4      48       2 2008-08-01 19:00:00      0.4 │\n",
      "├──────────────────────────────┼────────────────────────────────────────────────┤\n",
      "│ Directed or Undirected?      │ directed                                       │\n",
      "├──────────────────────────────┼────────────────────────────────────────────────┤\n",
      "│ N. users                     │ 2150                                           │\n",
      "├──────────────────────────────┼────────────────────────────────────────────────┤\n",
      "│ Number of answers/comments   │ 15397                                          │\n",
      "├──────────────────────────────┼────────────────────────────────────────────────┤\n",
      "│ Average n. of links per user │ 7.1614                                         │\n",
      "├──────────────────────────────┼────────────────────────────────────────────────┤\n",
      "│ Density degree               │ 0.0033                                         │\n",
      "├──────────────────────────────┼────────────────────────────────────────────────┤\n",
      "│ Sparse or Dense?             │ sparse                                         │\n",
      "╘══════════════════════════════╧════════════════════════════════════════════════╛\n",
      "We want to visualize how many users have a certain degree\n"
     ]
    },
    {
     "data": {
      "image/png": "[encoded data removed]",
      "text/plain": [
       "<Figure size 1440x720 with 1 Axes>"
      ]
     },
     "metadata": {
      "needs_background": "light"
     },
     "output_type": "display_data"
    },
    {
     "name": "stdout",
     "output_type": "stream",
     "text": [
      "We want to go deeper in the density distribution\n",
      "We want to visualize for each user how many degree it has\n"
     ]
    },
    {
     "ename": "TypeError",
     "evalue": "the dtypes of parameters x (object) and width (float64) are incompatible",
     "output_type": "error",
     "traceback": [
      "\u001b[0;31m---------------------------------------------------------------------------\u001b[0m",
      "\u001b[0;31mTypeError\u001b[0m                                 Traceback (most recent call last)",
      "\u001b[0;32m~/Programmi/anaconda3/lib/python3.8/site-packages/matplotlib/axes/_axes.py\u001b[0m in \u001b[0;36mbar\u001b[0;34m(self, x, height, width, bottom, align, **kwargs)\u001b[0m\n\u001b[1;32m   2372\u001b[0m                 \u001b[0;32mtry\u001b[0m\u001b[0;34m:\u001b[0m\u001b[0;34m\u001b[0m\u001b[0;34m\u001b[0m\u001b[0m\n\u001b[0;32m-> 2373\u001b[0;31m                     \u001b[0mleft\u001b[0m \u001b[0;34m=\u001b[0m \u001b[0mx\u001b[0m \u001b[0;34m-\u001b[0m \u001b[0mwidth\u001b[0m \u001b[0;34m/\u001b[0m \u001b[0;36m2\u001b[0m\u001b[0;34m\u001b[0m\u001b[0;34m\u001b[0m\u001b[0m\n\u001b[0m\u001b[1;32m   2374\u001b[0m                 \u001b[0;32mexcept\u001b[0m \u001b[0mTypeError\u001b[0m \u001b[0;32mas\u001b[0m \u001b[0me\u001b[0m\u001b[0;34m:\u001b[0m\u001b[0;34m\u001b[0m\u001b[0;34m\u001b[0m\u001b[0m\n",
      "\u001b[0;31mTypeError\u001b[0m: unsupported operand type(s) for -: 'NODE' and 'float'",
      "\nThe above exception was the direct cause of the following exception:\n",
      "\u001b[0;31mTypeError\u001b[0m                                 Traceback (most recent call last)",
      "\u001b[0;32m/tmp/ipykernel_6664/236607844.py\u001b[0m in \u001b[0;36m<module>\u001b[0;34m\u001b[0m\n\u001b[0;32m----> 1\u001b[0;31m \u001b[0mfunz_1\u001b[0m\u001b[0;34m(\u001b[0m\u001b[0;34m)\u001b[0m\u001b[0;34m\u001b[0m\u001b[0;34m\u001b[0m\u001b[0m\n\u001b[0m",
      "\u001b[0;32m~/Documenti/GitHub_projects/ADM-HW5/functionality_1.py\u001b[0m in \u001b[0;36mfunz_1\u001b[0;34m()\u001b[0m\n\u001b[1;32m     26\u001b[0m         \u001b[0mfig_hist\u001b[0m\u001b[0;34m(\u001b[0m\u001b[0mdegree_1\u001b[0m\u001b[0;34m)\u001b[0m\u001b[0;34m\u001b[0m\u001b[0;34m\u001b[0m\u001b[0m\n\u001b[1;32m     27\u001b[0m         \u001b[0mprint\u001b[0m\u001b[0;34m(\u001b[0m\u001b[0;34m\"We want to visualize for each user how many degree it has\"\u001b[0m\u001b[0;34m)\u001b[0m\u001b[0;34m\u001b[0m\u001b[0;34m\u001b[0m\u001b[0m\n\u001b[0;32m---> 28\u001b[0;31m         \u001b[0mfig_plot\u001b[0m\u001b[0;34m(\u001b[0m\u001b[0mdegree_1\u001b[0m\u001b[0;34m,\u001b[0m \u001b[0ma2q_2y_g\u001b[0m\u001b[0;34m.\u001b[0m\u001b[0mnodes\u001b[0m\u001b[0;34m.\u001b[0m\u001b[0mkeys\u001b[0m\u001b[0;34m(\u001b[0m\u001b[0;34m)\u001b[0m\u001b[0;34m)\u001b[0m\u001b[0;34m\u001b[0m\u001b[0;34m\u001b[0m\u001b[0m\n\u001b[0m\u001b[1;32m     29\u001b[0m \u001b[0;34m\u001b[0m\u001b[0m\n\u001b[1;32m     30\u001b[0m     \u001b[0;32mif\u001b[0m \u001b[0mscelta\u001b[0m \u001b[0;34m==\u001b[0m \u001b[0;34m\"c2a\"\u001b[0m\u001b[0;34m:\u001b[0m\u001b[0;34m\u001b[0m\u001b[0;34m\u001b[0m\u001b[0m\n",
      "\u001b[0;32m~/Documenti/GitHub_projects/ADM-HW5/functionality_1.py\u001b[0m in \u001b[0;36mfig_plot\u001b[0;34m(degree_1, nodes)\u001b[0m\n\u001b[1;32m    185\u001b[0m \u001b[0;34m\u001b[0m\u001b[0m\n\u001b[1;32m    186\u001b[0m     \u001b[0;31m#plot\u001b[0m\u001b[0;34m\u001b[0m\u001b[0;34m\u001b[0m\u001b[0;34m\u001b[0m\u001b[0m\n\u001b[0;32m--> 187\u001b[0;31m     \u001b[0mplt\u001b[0m\u001b[0;34m.\u001b[0m\u001b[0mbar\u001b[0m\u001b[0;34m(\u001b[0m\u001b[0mnodes\u001b[0m\u001b[0;34m,\u001b[0m \u001b[0mdegree_1\u001b[0m\u001b[0;34m,\u001b[0m \u001b[0mcolor\u001b[0m \u001b[0;34m=\u001b[0m \u001b[0;34m\"darkblue\"\u001b[0m\u001b[0;34m)\u001b[0m\u001b[0;34m\u001b[0m\u001b[0;34m\u001b[0m\u001b[0m\n\u001b[0m\u001b[1;32m    188\u001b[0m     \u001b[0mplt\u001b[0m\u001b[0;34m.\u001b[0m\u001b[0mtitle\u001b[0m\u001b[0;34m(\u001b[0m\u001b[0;34m\"Degree Distribution\"\u001b[0m\u001b[0;34m,\u001b[0m \u001b[0mfontsize\u001b[0m\u001b[0;34m=\u001b[0m\u001b[0;36m20\u001b[0m\u001b[0;34m)\u001b[0m\u001b[0;34m\u001b[0m\u001b[0;34m\u001b[0m\u001b[0m\n\u001b[1;32m    189\u001b[0m     \u001b[0mplt\u001b[0m\u001b[0;34m.\u001b[0m\u001b[0mxlabel\u001b[0m\u001b[0;34m(\u001b[0m\u001b[0;34m\"Users\"\u001b[0m\u001b[0;34m,\u001b[0m \u001b[0mfontsize\u001b[0m\u001b[0;34m=\u001b[0m\u001b[0;36m15\u001b[0m\u001b[0;34m)\u001b[0m\u001b[0;34m\u001b[0m\u001b[0;34m\u001b[0m\u001b[0m\n",
      "\u001b[0;32m~/Programmi/anaconda3/lib/python3.8/site-packages/matplotlib/pyplot.py\u001b[0m in \u001b[0;36mbar\u001b[0;34m(x, height, width, bottom, align, data, **kwargs)\u001b[0m\n\u001b[1;32m   2385\u001b[0m         \u001b[0mx\u001b[0m\u001b[0;34m,\u001b[0m \u001b[0mheight\u001b[0m\u001b[0;34m,\u001b[0m \u001b[0mwidth\u001b[0m\u001b[0;34m=\u001b[0m\u001b[0;36m0.8\u001b[0m\u001b[0;34m,\u001b[0m \u001b[0mbottom\u001b[0m\u001b[0;34m=\u001b[0m\u001b[0;32mNone\u001b[0m\u001b[0;34m,\u001b[0m \u001b[0;34m*\u001b[0m\u001b[0;34m,\u001b[0m \u001b[0malign\u001b[0m\u001b[0;34m=\u001b[0m\u001b[0;34m'center'\u001b[0m\u001b[0;34m,\u001b[0m\u001b[0;34m\u001b[0m\u001b[0;34m\u001b[0m\u001b[0m\n\u001b[1;32m   2386\u001b[0m         data=None, **kwargs):\n\u001b[0;32m-> 2387\u001b[0;31m     return gca().bar(\n\u001b[0m\u001b[1;32m   2388\u001b[0m         \u001b[0mx\u001b[0m\u001b[0;34m,\u001b[0m \u001b[0mheight\u001b[0m\u001b[0;34m,\u001b[0m \u001b[0mwidth\u001b[0m\u001b[0;34m=\u001b[0m\u001b[0mwidth\u001b[0m\u001b[0;34m,\u001b[0m \u001b[0mbottom\u001b[0m\u001b[0;34m=\u001b[0m\u001b[0mbottom\u001b[0m\u001b[0;34m,\u001b[0m \u001b[0malign\u001b[0m\u001b[0;34m=\u001b[0m\u001b[0malign\u001b[0m\u001b[0;34m,\u001b[0m\u001b[0;34m\u001b[0m\u001b[0;34m\u001b[0m\u001b[0m\n\u001b[1;32m   2389\u001b[0m         **({\"data\": data} if data is not None else {}), **kwargs)\n",
      "\u001b[0;32m~/Programmi/anaconda3/lib/python3.8/site-packages/matplotlib/__init__.py\u001b[0m in \u001b[0;36minner\u001b[0;34m(ax, data, *args, **kwargs)\u001b[0m\n\u001b[1;32m   1410\u001b[0m     \u001b[0;32mdef\u001b[0m \u001b[0minner\u001b[0m\u001b[0;34m(\u001b[0m\u001b[0max\u001b[0m\u001b[0;34m,\u001b[0m \u001b[0;34m*\u001b[0m\u001b[0margs\u001b[0m\u001b[0;34m,\u001b[0m \u001b[0mdata\u001b[0m\u001b[0;34m=\u001b[0m\u001b[0;32mNone\u001b[0m\u001b[0;34m,\u001b[0m \u001b[0;34m**\u001b[0m\u001b[0mkwargs\u001b[0m\u001b[0;34m)\u001b[0m\u001b[0;34m:\u001b[0m\u001b[0;34m\u001b[0m\u001b[0;34m\u001b[0m\u001b[0m\n\u001b[1;32m   1411\u001b[0m         \u001b[0;32mif\u001b[0m \u001b[0mdata\u001b[0m \u001b[0;32mis\u001b[0m \u001b[0;32mNone\u001b[0m\u001b[0;34m:\u001b[0m\u001b[0;34m\u001b[0m\u001b[0;34m\u001b[0m\u001b[0m\n\u001b[0;32m-> 1412\u001b[0;31m             \u001b[0;32mreturn\u001b[0m \u001b[0mfunc\u001b[0m\u001b[0;34m(\u001b[0m\u001b[0max\u001b[0m\u001b[0;34m,\u001b[0m \u001b[0;34m*\u001b[0m\u001b[0mmap\u001b[0m\u001b[0;34m(\u001b[0m\u001b[0msanitize_sequence\u001b[0m\u001b[0;34m,\u001b[0m \u001b[0margs\u001b[0m\u001b[0;34m)\u001b[0m\u001b[0;34m,\u001b[0m \u001b[0;34m**\u001b[0m\u001b[0mkwargs\u001b[0m\u001b[0;34m)\u001b[0m\u001b[0;34m\u001b[0m\u001b[0;34m\u001b[0m\u001b[0m\n\u001b[0m\u001b[1;32m   1413\u001b[0m \u001b[0;34m\u001b[0m\u001b[0m\n\u001b[1;32m   1414\u001b[0m         \u001b[0mbound\u001b[0m \u001b[0;34m=\u001b[0m \u001b[0mnew_sig\u001b[0m\u001b[0;34m.\u001b[0m\u001b[0mbind\u001b[0m\u001b[0;34m(\u001b[0m\u001b[0max\u001b[0m\u001b[0;34m,\u001b[0m \u001b[0;34m*\u001b[0m\u001b[0margs\u001b[0m\u001b[0;34m,\u001b[0m \u001b[0;34m**\u001b[0m\u001b[0mkwargs\u001b[0m\u001b[0;34m)\u001b[0m\u001b[0;34m\u001b[0m\u001b[0;34m\u001b[0m\u001b[0m\n",
      "\u001b[0;32m~/Programmi/anaconda3/lib/python3.8/site-packages/matplotlib/axes/_axes.py\u001b[0m in \u001b[0;36mbar\u001b[0;34m(self, x, height, width, bottom, align, **kwargs)\u001b[0m\n\u001b[1;32m   2373\u001b[0m                     \u001b[0mleft\u001b[0m \u001b[0;34m=\u001b[0m \u001b[0mx\u001b[0m \u001b[0;34m-\u001b[0m \u001b[0mwidth\u001b[0m \u001b[0;34m/\u001b[0m \u001b[0;36m2\u001b[0m\u001b[0;34m\u001b[0m\u001b[0;34m\u001b[0m\u001b[0m\n\u001b[1;32m   2374\u001b[0m                 \u001b[0;32mexcept\u001b[0m \u001b[0mTypeError\u001b[0m \u001b[0;32mas\u001b[0m \u001b[0me\u001b[0m\u001b[0;34m:\u001b[0m\u001b[0;34m\u001b[0m\u001b[0;34m\u001b[0m\u001b[0m\n\u001b[0;32m-> 2375\u001b[0;31m                     raise TypeError(f'the dtypes of parameters x ({x.dtype}) '\n\u001b[0m\u001b[1;32m   2376\u001b[0m                                     \u001b[0;34mf'and width ({width.dtype}) '\u001b[0m\u001b[0;34m\u001b[0m\u001b[0;34m\u001b[0m\u001b[0m\n\u001b[1;32m   2377\u001b[0m                                     f'are incompatible') from e\n",
      "\u001b[0;31mTypeError\u001b[0m: the dtypes of parameters x (object) and width (float64) are incompatible"
     ]
    },
    {
     "data": {
      "image/png": "[encoded data removed]",
      "text/plain": [
       "<Figure size 1440x720 with 4 Axes>"
      ]
     },
     "metadata": {
      "needs_background": "light"
     },
     "output_type": "display_data"
    },
    {
     "data": {
      "image/png": "[encoded data removed]",
      "text/plain": [
       "<Figure size 1440x720 with 1 Axes>"
      ]
     },
     "metadata": {
      "needs_background": "light"
     },
     "output_type": "display_data"
    }
   ],
   "source": [
    "funz_1()"
   ]
  },
  {
   "cell_type": "markdown",
   "metadata": {},
   "source": [
    "intro"
   ]
  },
  {
   "cell_type": "code",
   "execution_count": null,
   "metadata": {},
   "outputs": [],
   "source": [
    "t, _, l = func_3()"
   ]
  },
  {
   "cell_type": "code",
   "execution_count": null,
   "metadata": {},
   "outputs": [],
   "source": [
    "t.print_graph(pos=\"planar\")"
   ]
  },
  {
   "cell_type": "markdown",
   "metadata": {},
   "source": [
    "## 2.2 Functionality 2"
   ]
  },
  {
   "cell_type": "markdown",
   "metadata": {},
   "source": [
    "This functionality take as input an user and an interval of time and return the choosen metric of the relative graph. The possible metrics are:\n",
    "\n",
    "| Metric                | Explanation                                                                                                                                                                                                                                                                                                                                                                                                                                                                                       |\n",
    "|:---------------------:|:------------------------------------------------------------------------------------------------------------------------------------------------------------------------------------------------------------------------------------------------------------------------------------------------------------------------------------------------------------------------------------------------------------------------------------------------------------------------------------------------- |\n",
    "| Betweeness Centrality | This metric is a measure of centrality in a graph based on shortest paths. For every pair of vertices in a connected graph, there exists at least one shortest path between the vertices such that the sum of the weights of the edges (for weighted graphs) is minimized. The betweenness centrality for each vertex is the number of these shortest paths that pass through the vertex. An high value rappresent an user that in the graph have more probability to answered or made a question |\n",
    "| Page Rank             | This metric is a way of measuring the importance of website pages. In our case, the metric point the importance of an user in the community.                                                                                                                                                                                                                                                                                                                                                      |\n",
    "| Closeness Centrality  | This metric is a measure of centrality in a network, calculated as the reciprocal of the sum of the length of the shortest paths between the node and all other nodes in the graph. Thus, the more central a node is, the closer it is to all other nodes. So more central an user is, more the user answered or made a question.                                                                                                                                                                 |\n",
    "| Degree Centrality     | This metric is defined as the number of links incident upon a node. Thus, the more central a node is, more the user answered or made a question or comment.                                                                                                                                                                                                                                                                                                                                       |\n",
    "\n"
   ]
  },
  {
   "cell_type": "markdown",
   "metadata": {},
   "source": [
    "The function draw also plot that reppresent the variation of the metrix in the subintervals of time."
   ]
  },
  {
   "cell_type": "code",
   "execution_count": null,
   "metadata": {},
   "outputs": [],
   "source": [
    "functionality_2(data)"
   ]
  },
  {
   "cell_type": "markdown",
   "metadata": {},
   "source": [
    "## 2.3 Functionality 3"
   ]
  },
  {
   "cell_type": "markdown",
   "metadata": {},
   "source": [
    "The goal of this functionality is to return the shortest walk that goes from user a starting user p_1 to a final user p_n, and visits in order the nodes in a list of p users. \n",
    "\n",
    "So the user that has to interact with this functionality has to decide from what user starts and where to end his path. Moreover he has to insert write a list of p users, (integer numbers separated by spaces), that he wants to visit in order. In output he will receive a draw of the path that he has decided and the length of the shortest path. \n",
    "\n",
    "To make possible this functionality the main idea has been to apply the **Dijkstra's algorithm**, that we have implemented by scratch, to each vertex of the path, indeed we have to visit the users in order so each time we are able to find the next user. It is possible that a user in the path is disconnected or that is a leaf in the graph, in other words from him no edges start. In these cases the output of this functionality is \"*Not Possible*\".\n",
    "\n",
    "We have made different trials to check if our functions work properly."
   ]
  },
  {
   "cell_type": "code",
   "execution_count": null,
   "metadata": {},
   "outputs": [],
   "source": [
    "functionality_3(data)"
   ]
  },
  {
   "cell_type": "markdown",
   "metadata": {},
   "source": [
    "## 2.4 Functionality 4"
   ]
  },
  {
   "cell_type": "markdown",
   "metadata": {},
   "source": [
    "intro"
   ]
  },
  {
   "cell_type": "code",
   "execution_count": null,
   "metadata": {},
   "outputs": [],
   "source": [
    "functionality_4(data)"
   ]
  },
  {
   "cell_type": "markdown",
   "metadata": {},
   "source": [
    "## Algorithmic Question"
   ]
  },
  {
   "cell_type": "markdown",
   "metadata": {},
   "source": [
    "We represent the kids as a list of numbers *n* and the couples of kids that often fight are represented as list of tuples *k*.  \n",
    "\n",
    "The main idea to solve this problem is check the list of tuples: two element in the same tuple cannot be in the same dormitory. Moreover there are kids that often fight with more than one kids, so we have taken in consideration also this event checking if in the dormitory there could be already ill-tempered kids for the new kid to settle. \n",
    "\n",
    "In the algorithm that we have implemented there are two cycle in k and one cycle in n but they are not nested, its running time is in the order of $O$(n + 2k). So we can conclude that is linear in n and in k.\n",
    "\n",
    "We have made different trials to check to our solution. "
   ]
  },
  {
   "cell_type": "code",
   "execution_count": 2,
   "metadata": {},
   "outputs": [
    {
     "name": "stdout",
     "output_type": "stream",
     "text": [
      "no combination\n"
     ]
    }
   ],
   "source": [
    "k = [(1,3),(4,1),(3,4)]\n",
    "n = [1,2,3,4,5,6]\n",
    "dormitory(n,k)\n",
    "#3 and 4 must be in the same dormitory \n"
   ]
  },
  {
   "cell_type": "code",
   "execution_count": 3,
   "metadata": {},
   "outputs": [
    {
     "name": "stdout",
     "output_type": "stream",
     "text": [
      "In first dormitory there are the following kids: [1, 2, 5, 6]\n",
      "In second dormitory there are the following kids: [3, 4]\n"
     ]
    }
   ],
   "source": [
    "k = [(1,3),(4,1),(2,4)]\n",
    "n = [1,2,3,4,5,6]\n",
    "dormitory(n,k)"
   ]
  },
  {
   "cell_type": "code",
   "execution_count": 4,
   "metadata": {},
   "outputs": [
    {
     "name": "stdout",
     "output_type": "stream",
     "text": [
      "In first dormitory there are the following kids: [1, 2, 6]\n",
      "In second dormitory there are the following kids: [3, 4, 5]\n"
     ]
    }
   ],
   "source": [
    "k = [(1,3),(4,1),(3,2),(2,5)]\n",
    "n = [1,2,3,4,5,6]\n",
    "dormitory(n,k)"
   ]
  },
  {
   "cell_type": "code",
   "execution_count": 5,
   "metadata": {},
   "outputs": [
    {
     "name": "stdout",
     "output_type": "stream",
     "text": [
      "In first dormitory there are the following kids: [1, 2]\n",
      "In second dormitory there are the following kids: [3, 4, 5, 6]\n"
     ]
    }
   ],
   "source": [
    "k = [(1,3),(4,1),(3,2),(2,5),(1,6)]\n",
    "n = [1,2,3,4,5,6]\n",
    "dormitory(n,k)"
   ]
  },
  {
   "cell_type": "code",
   "execution_count": 6,
   "metadata": {},
   "outputs": [
    {
     "name": "stdout",
     "output_type": "stream",
     "text": [
      "In first dormitory there are the following kids: [1, 2, 7, 8]\n",
      "In second dormitory there are the following kids: [3, 4, 5, 6, 10, 9]\n"
     ]
    }
   ],
   "source": [
    "k = [(1,3),(4,1),(3,2),(2,5),(2,6),(10,7),(8,9)]\n",
    "n = [1,2,3,4,5,6,7,8,9,10]\n",
    "dormitory(n,k)"
   ]
  },
  {
   "cell_type": "code",
   "execution_count": 7,
   "metadata": {},
   "outputs": [
    {
     "name": "stdout",
     "output_type": "stream",
     "text": [
      "no combination\n"
     ]
    }
   ],
   "source": [
    "k = [(1,3),(4,1),(3,2),(2,5),(1,2)]\n",
    "n = [1,2,3,4,5,6,7,8,9,10]\n",
    "#2 cannot sleep with 1, but also with 3\n",
    "dormitory(n,k)"
   ]
  },
  {
   "cell_type": "code",
   "execution_count": 8,
   "metadata": {},
   "outputs": [
    {
     "name": "stdout",
     "output_type": "stream",
     "text": [
      "In first dormitory there are the following kids: [2, 1, 3, 6, 4, 8, 9]\n",
      "In second dormitory there are the following kids: [5, 7, 10]\n"
     ]
    }
   ],
   "source": [
    "n = [1, 2, 3, 4, 5, 6, 7, 8, 9, 10]\n",
    "k = [(5, 2), (7, 1), (7, 3), (6, 10)]\n",
    "dormitory(n,k)"
   ]
  },
  {
   "cell_type": "code",
   "execution_count": 9,
   "metadata": {},
   "outputs": [
    {
     "name": "stdout",
     "output_type": "stream",
     "text": [
      "In first dormitory there are the following kids: [2, 3, 1, 4, 6, 8, 9, 10]\n",
      "In second dormitory there are the following kids: [5, 7]\n"
     ]
    }
   ],
   "source": [
    "n = [1, 2, 3, 4, 5, 6, 7, 8, 9, 10]\n",
    "k = [(5, 2), (2, 5), (7, 3), (7, 2)]\n",
    "dormitory(n,k)"
   ]
  },
  {
   "cell_type": "code",
   "execution_count": null,
   "metadata": {},
   "outputs": [],
   "source": []
  }
 ],
 "metadata": {
  "kernelspec": {
   "display_name": "Python 3",
   "language": "python",
   "name": "python3"
  },
  "language_info": {
   "codemirror_mode": {
    "name": "ipython",
    "version": 3
   },
   "file_extension": ".py",
   "mimetype": "text/x-python",
   "name": "python",
   "nbconvert_exporter": "python",
   "pygments_lexer": "ipython3",
   "version": "3.8.3"
  }
 },
 "nbformat": 4,
 "nbformat_minor": 4
}
