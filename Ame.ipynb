{
 "cells": [
  {
   "cell_type": "raw",
   "id": "7d7ce306-1924-49fc-af74-77698bce9752",
   "metadata": {},
   "source": [
    "p = [1,3,5]\n",
    "final_path = []\n",
    "for i in range(0, len(p)-1):\n",
    "    new_g, dist = dijkstra(p[i], t2)\n",
    "\n",
    "    if(new_g.is_linked_from(p[i], p[i+1])):\n",
    "        final_path.append(new_g.get_edge(p[i], p[i+1]))\n",
    "    else:\n",
    "        temp = []\n",
    "        try:\n",
    "            prec = [el for el in new_g.nodes[p[i+1]] if el.from_n != p[i+1]][0]\n",
    "        except IndexError:\n",
    "            print(\"Not possible\")\n",
    "            break\n",
    "\n",
    "        temp.append(prec)\n",
    "\n",
    "        while(not prec.from_n == p[i]):\n",
    "\n",
    "\n",
    "\n",
    "            punt = [el for el in new_g.nodes[prec.from_n] if el.from_n != prec.from_n][0]\n",
    "\n",
    "            temp.append(punt)\n",
    "\n",
    "            prec = punt\n",
    "\n",
    "        temp.reverse()\n",
    "        final_path.extend(temp)\n",
    "final_path    \n",
    "\n",
    "sum([edge.w for edge in final_path])"
   ]
  },
  {
   "cell_type": "code",
   "execution_count": 1,
   "id": "e25a9805",
   "metadata": {},
   "outputs": [
    {
     "data": {
      "application/vnd.jupyter.widget-view+json": {
       "model_id": "fa98d67f420b4896a97b2ae650b4b283",
       "version_major": 2,
       "version_minor": 0
      },
      "text/plain": [
       "  0%|          | 0/1000 [00:00<?, ?it/s]"
      ]
     },
     "metadata": {},
     "output_type": "display_data"
    }
   ],
   "source": [
    "from graphs_functions import *\n",
    "from functionality_2 import *\n",
    "from general_functions import *\n",
    "from test_data import *"
   ]
  },
  {
   "cell_type": "markdown",
   "id": "4804d112",
   "metadata": {},
   "source": [
    "## 1. Data"
   ]
  },
  {
   "cell_type": "markdown",
   "id": "7667d131-2680-449e-a22b-29a92388a82a",
   "metadata": {},
   "source": [
    "\n",
    "```python\n",
    "#Answers to questions\n",
    "a2q = pd.read_csv(\"data/sx-stackoverflow-a2q.txt\", sep=\" \" ,header=None, names=[\"user_a\", \"user_b\", \"time\"], parse_dates=[\"time\"], date_parser=dateparse)\n",
    "\n",
    "#Comments to answers\n",
    "c2a = pd.read_csv(\"data/sx-stackoverflow-c2a.txt\", sep=\" \" ,header=None, names=[\"user_a\", \"user_b\", \"time\"], parse_dates=[\"time\"], date_parser=dateparse)\n",
    "\n",
    "#Comments to questions\n",
    "c2q = pd.read_csv(\"data/sx-stackoverflow-c2q.txt\", sep=\" \" ,header=None, names=[\"user_a\", \"user_b\", \"time\"], parse_dates=[\"time\"], date_parser=dateparse)\n",
    "\n",
    "\n",
    "```\n",
    "\n",
    "```python\n",
    "a2q.to_csv(\"data/a2q.csv\", index=False)\n",
    "c2q.to_csv(\"data/c2q.csv\", index=False)\n",
    "c2a.to_csv(\"data/c2a.csv\", index=False)\n",
    "```"
   ]
  },
  {
   "cell_type": "code",
   "execution_count": null,
   "id": "d91ee1cc-ad99-47b8-b6c3-33aa54116fa8",
   "metadata": {},
   "outputs": [],
   "source": []
  },
  {
   "cell_type": "code",
   "execution_count": 15,
   "id": "be2b59af-f464-4079-8edd-5214289aea27",
   "metadata": {},
   "outputs": [],
   "source": [
    "test = GRAPH()\n",
    "\n",
    "n1 = NODE(1)\n",
    "n2 = NODE(2)\n",
    "n3 = NODE(3)\n",
    "n4 = NODE(4)\n",
    "n5 = NODE(5)\n",
    "n6 = NODE(6)\n",
    "\n",
    "test.add_edge(from_n=n1,to_n=n2, time=\"438\", w=57)\n",
    "test.add_edge(from_n=n1,to_n=n3, time=\"438\", w=12)\n",
    "test.add_edge(from_n=n3,to_n=n2, time=\"438\", w=2)\n",
    "test.add_edge(from_n=n2,to_n=n4, time=\"438\", w=24)\n",
    "test.add_edge(from_n=n2,to_n=n6, time=\"438\", w=45)\n",
    "test.add_edge(from_n=n3,to_n=n5, time=\"438\", w=6)\n",
    "test.add_edge(from_n=n5,to_n=n4, time=\"438\", w=31)"
   ]
  },
  {
   "cell_type": "markdown",
   "id": "8bae65a5",
   "metadata": {},
   "source": [
    "## Functionality 2 - Find the best users!"
   ]
  },
  {
   "cell_type": "code",
   "execution_count": 3,
   "id": "df96a6ea-961a-4b82-9df2-32234d8b4bef",
   "metadata": {},
   "outputs": [],
   "source": [
    "#g_a2q = read_object(\"data/g_a2q.pkl\")"
   ]
  },
  {
   "cell_type": "code",
   "execution_count": 4,
   "id": "fc69db81-0498-4941-8052-4f757e668e6d",
   "metadata": {},
   "outputs": [],
   "source": [
    "def PageRank_one_iter(graph, d):\n",
    "    \n",
    "    for node in graph.nodes:\n",
    "\n",
    "        update_pagerank(node, graph, d, len(graph))\n",
    "        \n",
    "        \n",
    "\n",
    "def update_pagerank(node, g, d, n):\n",
    "    in_neighbors = [edge.from_n for edge in g.nodes[node] if edge.from_n != node.value]\n",
    "    pagerank_sum = sum((node.pageRank / degreeCentrality(node,g)[0]) for node in in_neighbors)\n",
    "    random_walk = d / n\n",
    "    node.pageRank = random_walk + (1-d) * pagerank_sum"
   ]
  },
  {
   "cell_type": "code",
   "execution_count": 17,
   "id": "e9e58064-e583-4fd8-8824-06798344c1ef",
   "metadata": {},
   "outputs": [],
   "source": [
    "PageRank_one_iter(test, 0.85)"
   ]
  },
  {
   "cell_type": "code",
   "execution_count": 18,
   "id": "618aa77a-38d3-46cc-8066-243d7f8c5dc8",
   "metadata": {},
   "outputs": [
    {
     "data": {
      "text/plain": [
       "[0.2916666666666667,\n",
       " 0.38854166666666673,\n",
       " 0.3135416666666667,\n",
       " 0.32080729166666666,\n",
       " 0.17080729166666667,\n",
       " 0.31518229166666667]"
      ]
     },
     "execution_count": 18,
     "metadata": {},
     "output_type": "execute_result"
    }
   ],
   "source": [
    "[el.pageRank for el in test.nodes]"
   ]
  },
  {
   "cell_type": "code",
   "execution_count": 21,
   "id": "ed03e299-1e4f-41f7-821d-6ba8eb5dc691",
   "metadata": {},
   "outputs": [
    {
     "data": {
      "application/vnd.jupyter.widget-view+json": {
       "model_id": "edaf44848e9b423e8e97a26616301ea7",
       "version_major": 2,
       "version_minor": 0
      },
      "text/plain": [
       "  0%|          | 0/100000 [00:00<?, ?it/s]"
      ]
     },
     "metadata": {},
     "output_type": "display_data"
    },
    {
     "data": {
      "text/plain": [
       "[0.16666666666666674,\n",
       " 18.37500000000005,\n",
       " 1.7500000000000027,\n",
       " 24.688541666666698,\n",
       " 8.736458333333356,\n",
       " 16.791666666666675]"
      ]
     },
     "execution_count": 21,
     "metadata": {},
     "output_type": "execute_result"
    }
   ],
   "source": [
    "for _ in tqdm(range(0, 100000)):\n",
    "    PageRank_one_iter(test, 0.05)\n",
    "\n",
    "[el.pageRank for el in test.nodes]"
   ]
  },
  {
   "cell_type": "code",
   "execution_count": 22,
   "id": "edcb8cc0-039a-4b9d-933b-a79efacefd95",
   "metadata": {},
   "outputs": [
    {
     "data": {
      "text/plain": [
       "[(0.16666666666666674, 1),\n",
       " (18.37500000000005, 2),\n",
       " (1.7500000000000027, 3),\n",
       " (24.688541666666698, 4),\n",
       " (8.736458333333356, 6),\n",
       " (16.791666666666675, 5)]"
      ]
     },
     "execution_count": 22,
     "metadata": {},
     "output_type": "execute_result"
    }
   ],
   "source": [
    "[(el.pageRank, el.value) for el in test.nodes]"
   ]
  },
  {
   "cell_type": "code",
   "execution_count": 8,
   "id": "32074cac-95aa-4fd3-b446-e07caa5c36c4",
   "metadata": {},
   "outputs": [
    {
     "data": {
      "application/vnd.jupyter.widget-view+json": {
       "model_id": "3b22ff3e53e34673bce398d2892d969d",
       "version_major": 2,
       "version_minor": 0
      },
      "text/plain": [
       "  0%|          | 0/6 [00:00<?, ?it/s]"
      ]
     },
     "metadata": {},
     "output_type": "display_data"
    },
    {
     "data": {
      "image/png": "[encoded data removed]",
      "text/plain": [
       "<Figure size 504x504 with 1 Axes>"
      ]
     },
     "metadata": {},
     "output_type": "display_data"
    },
    {
     "data": {
      "text/plain": [
       "<networkx.classes.digraph.DiGraph at 0x7f1b9bdf5400>"
      ]
     },
     "execution_count": 8,
     "metadata": {},
     "output_type": "execute_result"
    }
   ],
   "source": [
    "t.print_graph(pos=\"planar\")"
   ]
  },
  {
   "cell_type": "code",
   "execution_count": 16,
   "id": "8082f543-49c9-43fa-b338-8e69d44a9ad7",
   "metadata": {},
   "outputs": [
    {
     "data": {
      "text/plain": [
       "6"
      ]
     },
     "execution_count": 16,
     "metadata": {},
     "output_type": "execute_result"
    }
   ],
   "source": []
  }
 ],
 "metadata": {
  "kernelspec": {
   "display_name": "Python 3 (ipykernel)",
   "language": "python",
   "name": "python3"
  },
  "language_info": {
   "codemirror_mode": {
    "name": "ipython",
    "version": 3
   },
   "file_extension": ".py",
   "mimetype": "text/x-python",
   "name": "python",
   "nbconvert_exporter": "python",
   "pygments_lexer": "ipython3",
   "version": "3.8.12"
  }
 },
 "nbformat": 4,
 "nbformat_minor": 5
}
