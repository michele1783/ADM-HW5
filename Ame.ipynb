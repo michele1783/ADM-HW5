{
 "cells": [
  {
   "cell_type": "code",
   "execution_count": null,
   "id": "e25a9805",
   "metadata": {},
   "outputs": [],
   "source": [
    "from graphs_functions import *\n",
    "from functionality_2 import *\n",
    "from general_functions import *\n",
    "from test_data import *"
   ]
  },
  {
   "cell_type": "markdown",
   "id": "4804d112",
   "metadata": {},
   "source": [
    "## 1. Data"
   ]
  },
  {
   "cell_type": "markdown",
   "id": "7667d131-2680-449e-a22b-29a92388a82a",
   "metadata": {},
   "source": [
    "\n",
    "```python\n",
    "#Answers to questions\n",
    "a2q = pd.read_csv(\"data/sx-stackoverflow-a2q.txt\", sep=\" \" ,header=None, names=[\"user_a\", \"user_b\", \"time\"], parse_dates=[\"time\"], date_parser=dateparse)\n",
    "\n",
    "#Comments to answers\n",
    "c2a = pd.read_csv(\"data/sx-stackoverflow-c2a.txt\", sep=\" \" ,header=None, names=[\"user_a\", \"user_b\", \"time\"], parse_dates=[\"time\"], date_parser=dateparse)\n",
    "\n",
    "#Comments to questions\n",
    "c2q = pd.read_csv(\"data/sx-stackoverflow-c2q.txt\", sep=\" \" ,header=None, names=[\"user_a\", \"user_b\", \"time\"], parse_dates=[\"time\"], date_parser=dateparse)\n",
    "\n",
    "\n",
    "```\n",
    "\n",
    "```python\n",
    "a2q.to_csv(\"data/a2q.csv\", index=False)\n",
    "c2q.to_csv(\"data/c2q.csv\", index=False)\n",
    "c2a.to_csv(\"data/c2a.csv\", index=False)\n",
    "```"
   ]
  },
  {
   "cell_type": "markdown",
   "id": "8bae65a5",
   "metadata": {},
   "source": [
    "## Functionality 2 - Find the best users!"
   ]
  },
  {
   "cell_type": "raw",
   "id": "2138a282-781f-4fbb-a9f6-18001aa40854",
   "metadata": {},
   "source": [
    "A user/node\n",
    "An interval of time\n",
    "One of the following metrics: Betweeness 1, PageRank, ClosenessCentrality 3, DegreeCentrality"
   ]
  },
  {
   "cell_type": "code",
   "execution_count": null,
   "id": "3e62a937-dde6-470c-8a31-d4e6a7381559",
   "metadata": {},
   "outputs": [],
   "source": [
    "def functionality_2()"
   ]
  }
 ],
 "metadata": {
  "kernelspec": {
   "display_name": "Python 3 (ipykernel)",
   "language": "python",
   "name": "python3"
  },
  "language_info": {
   "codemirror_mode": {
    "name": "ipython",
    "version": 3
   },
   "file_extension": ".py",
   "mimetype": "text/x-python",
   "name": "python",
   "nbconvert_exporter": "python",
   "pygments_lexer": "ipython3",
   "version": "3.8.12"
  }
 },
 "nbformat": 4,
 "nbformat_minor": 5
}
