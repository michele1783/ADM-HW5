{
 "cells": [
  {
   "cell_type": "code",
   "execution_count": 1,
   "id": "44cc0cb6",
   "metadata": {},
   "outputs": [
    {
     "name": "stdout",
     "output_type": "stream",
     "text": [
      "Starting to read the csv files...\n",
      "        a2q read\n",
      "        c2q read\n",
      "        c2a read\n",
      "Starting to create the graphs...\n",
      "        a2q graph created\n",
      "        c2q graph created\n",
      "        c2a graph created\n",
      "        totDataframe graph created\n"
     ]
    },
    {
     "data": {
      "application/vnd.jupyter.widget-view+json": {
       "model_id": "4ce0151b40c54337a6fc407904fe505f",
       "version_major": 2,
       "version_minor": 0
      },
      "text/plain": [
       "  0%|          | 0/2 [00:00<?, ?it/s]"
      ]
     },
     "metadata": {},
     "output_type": "display_data"
    },
    {
     "data": {
      "application/vnd.jupyter.widget-view+json": {
       "model_id": "e0de19c393424b26b1dc40531e5cb3b7",
       "version_major": 2,
       "version_minor": 0
      },
      "text/plain": [
       "  0%|          | 0/2 [00:00<?, ?it/s]"
      ]
     },
     "metadata": {},
     "output_type": "display_data"
    },
    {
     "data": {
      "application/vnd.jupyter.widget-view+json": {
       "model_id": "3b27a4f6713047b38d8adfea9b275408",
       "version_major": 2,
       "version_minor": 0
      },
      "text/plain": [
       "  0%|          | 0/1 [00:00<?, ?it/s]"
      ]
     },
     "metadata": {},
     "output_type": "display_data"
    },
    {
     "data": {
      "application/vnd.jupyter.widget-view+json": {
       "model_id": "36df79cc28ae429bb309429114a09507",
       "version_major": 2,
       "version_minor": 0
      },
      "text/plain": [
       "  0%|          | 0/2 [00:00<?, ?it/s]"
      ]
     },
     "metadata": {},
     "output_type": "display_data"
    },
    {
     "data": {
      "application/vnd.jupyter.widget-view+json": {
       "model_id": "e92b579984354875bce7f26d59fdf405",
       "version_major": 2,
       "version_minor": 0
      },
      "text/plain": [
       "  0%|          | 0/1 [00:00<?, ?it/s]"
      ]
     },
     "metadata": {},
     "output_type": "display_data"
    },
    {
     "data": {
      "application/vnd.jupyter.widget-view+json": {
       "model_id": "644d0b7e5c604827a11a120355186683",
       "version_major": 2,
       "version_minor": 0
      },
      "text/plain": [
       "  0%|          | 0/1 [00:00<?, ?it/s]"
      ]
     },
     "metadata": {},
     "output_type": "display_data"
    },
    {
     "data": {
      "application/vnd.jupyter.widget-view+json": {
       "model_id": "3a876452a50a4e3d9ec8089cb0ab3da9",
       "version_major": 2,
       "version_minor": 0
      },
      "text/plain": [
       "  0%|          | 0/4 [00:00<?, ?it/s]"
      ]
     },
     "metadata": {},
     "output_type": "display_data"
    },
    {
     "name": "stdout",
     "output_type": "stream",
     "text": [
      "19\n",
      "Min Cut Value =  19\n"
     ]
    }
   ],
   "source": [
    "from copy import deepcopy\n",
    "import pydot, os\n",
    "from tqdm import tqdm\n",
    "from test_data import *\n",
    "\n",
    "class FordFulkersonAlgorithm:\n",
    "    def __init__(self,s,d,g):\n",
    "        self.src = []\n",
    "        self.src.append(s)\n",
    "        self.src.append(0)\n",
    "        self.src.append(0)\n",
    "        self.dest = d\n",
    "        self.augPaths = []\n",
    "        self.augPathsGraph = []\n",
    "        self.graph = g\n",
    "        self.createGraph()\n",
    "\n",
    "\n",
    "    def createGraph(self, graph = None,augPath=None,flag=0):\n",
    "        self.G = pydot.Dot(graph_name=\"ford\", graph_type=\"digraph\",rankdir=\"LR\",nodesep=0.5, pad=.1)\n",
    "        if graph == None and augPath == None:\n",
    "            for k in self.graph:\n",
    "                node = pydot.Node(k,fontname=\"Bold\",style=\"filled\", fillcolor=\"green\")\n",
    "                self.G.add_node(node)\n",
    "            for k, j in  self.graph.items():\n",
    "                for e in range (1,len(j)):\n",
    "                    st = str(j[e][2])+'/' + str(j[e][1])\n",
    "                    edge = pydot.Edge(k, j[e][0],label=st,fontname=\"Bold\",arrowhead='vee')\n",
    "                    self.G.add_edge(edge)\n",
    "            self.augPathsGraph.append(self.G)\n",
    "        elif augPath == None:\n",
    "            G = pydot.Dot(graph_name=\"ford\", graph_type=\"digraph\",rankdir=\"LR\",nodesep=.5, pad=.1)\n",
    "            for k in graph:\n",
    "                node = pydot.Node(k,fontname=\"Bold\",style=\"filled\", fillcolor=\"green\")\n",
    "                G.add_node(node)\n",
    "            for k, j in  graph.items():\n",
    "                for e in range (1,len(j)):\n",
    "                    st = str(j[e][2])+'/' + str(j[e][1])\n",
    "                    edge = pydot.Edge(k, j[e][0],label=st,fontname=\"Bold\",arrowhead='vee')\n",
    "                    G.add_edge(edge)\n",
    "#             im = Image(G.create_png())\n",
    "#             display(im)\n",
    "            if flag != 0:\n",
    "                self.augPathsGraph.append(G)\n",
    "        else:\n",
    "            G = pydot.Dot(graph_name=\"ford\", graph_type=\"digraph\",rankdir=\"LR\",nodesep=.5, pad=.1)\n",
    "            for k in graph:\n",
    "                node = pydot.Node(k,fontname=\"Bold\",style=\"filled\", fillcolor=\"green\")\n",
    "                G.add_node(node)\n",
    "            temp = []\n",
    "            for k, j in  graph.items():\n",
    "                for e in range (1,len(j)):\n",
    "                    st = str(j[e][2])+'/' + str(j[e][1])\n",
    "                    edge = pydot.Edge(k, j[e][0],label=st,fontname=\"Bold\",arrowhead='vee')\n",
    "                    G.add_edge(edge)\n",
    "            for  i in range(len(augPath)-1):\n",
    "                value = self.graph[augPath[i][0]]\n",
    "                for j in range(1,len(value)):\n",
    "                    if value[j][0] == augPath[i+1][0]:\n",
    "                        temp.append(str(value[j][2])+'/'+str(value[j][1]))\n",
    "            for i in range(len(augPath)-1):\n",
    "                G.del_edge(augPath[i][0],augPath[i+1][0])\n",
    "                edge = pydot.Edge(augPath[i][0],augPath[i+1][0],label=temp[i],\\\n",
    "                                  fontname=\"Bold\",arrowhead='vee',color='red')\n",
    "                G.add_edge(edge)\n",
    "            self.augPathsGraph.append(G)\n",
    "\n",
    "    def showGraph(self, graph=None):\n",
    "        if graph == None:\n",
    "            im = Image(self.G.create_png())\n",
    "            display(im)\n",
    "        else:\n",
    "            self.createGraph(graph)\n",
    "\n",
    "    def checkPath(self,path, graph3,mini):\n",
    "        i = 0\n",
    "        src = path[i][0]\n",
    "        dest = path[-1][0]\n",
    "        while src != dest:\n",
    "            for n in range(1, len(graph3[src])):\n",
    "                if graph3[src][n][0] == path[i+1][0]:\n",
    "                    if graph3[src][n][2]+mini > graph3[src][n][1] or \\\n",
    "                    graph3[src][n][2] == graph3[src][n][1] : #n = node\n",
    "                        return False\n",
    "                    break\n",
    "            i+=1\n",
    "            src = path[i][0]\n",
    "        return True\n",
    "\n",
    "    def updateWeigth(self,s , d, mi):\n",
    "        for i in range(1, len(self.graph[s])):\n",
    "            if self.graph[s][i][0] == d:\n",
    "                self.graph[s][i][2] += mi\n",
    "                return 0\n",
    "\n",
    "    def augumentedPaths(self, src, dest, graph, path=[]):\n",
    "        graph[src[0]][0] = True\n",
    "        path.append(src)\n",
    "        src = src[0]\n",
    "        if src == dest:\n",
    "            temp = deepcopy(path)\n",
    "            self.augPaths.append(temp)\n",
    "        else:\n",
    "            for i in tqdm(range(1, len(graph[src]))):\n",
    "                try:\n",
    "                    if graph[graph[src][i][0]][0] == False:\n",
    "                        self.augumentedPaths(graph[src][i], dest, graph , path)\n",
    "                except:\n",
    "                    self.augumentedPaths(graph[src][i], dest, graph , path)\n",
    "        path.pop()\n",
    "        graph[src][0] = False\n",
    "\n",
    "    def maximumFlow(self):\n",
    "        self.augumentedPaths(self.src, self.dest, self.graph)\n",
    "        maxFlow = 0\n",
    "        for p in tqdm(self.augPaths):\n",
    "            mini = []\n",
    "            for j in range(1, len(p)):\n",
    "                mini.append(p[j][1])\n",
    "            mini = min(mini)\n",
    "            if self.checkPath(p, self.graph, mini):\n",
    "                maxFlow += mini\n",
    "                for j in range(len(p)-1):\n",
    "                    self.updateWeigth(p[j][0] , p[j+1][0],mini)\n",
    "                self.createGraph(self.graph, p)\n",
    "        self.createGraph(self.graph,None,1)\n",
    "        print(maxFlow)\n",
    "        return maxFlow\n",
    "\n",
    "\n",
    "if __name__ == '__main__':\n",
    "    graph = {\n",
    "    'A': [False,['B',10,0],['C',10,0]],\n",
    "    'B': [False,['D',4,0],['E',8,0]],\n",
    "    'C': [False,['F',9,0]],\n",
    "    'D': [False,['F',10,0]],\n",
    "    'E': [False,['D', 6,0],['F',10,0]],\n",
    "    'F': [False]\n",
    "}\n",
    "    src = 'A'\n",
    "    dest = 'F'\n",
    "    obj = FordFulkersonAlgorithm(src, dest, graph)\n",
    "    print( \"Min Cut Value = \", obj.maximumFlow())"
   ]
  },
  {
   "cell_type": "code",
   "execution_count": 2,
   "id": "472ebc21",
   "metadata": {},
   "outputs": [
    {
     "data": {
      "application/vnd.jupyter.widget-view+json": {
       "model_id": "748353cab1de4cafbe9d8a9e31d1c07e",
       "version_major": 2,
       "version_minor": 0
      },
      "text/plain": [
       "  0%|          | 0/88586 [00:00<?, ?it/s]"
      ]
     },
     "metadata": {},
     "output_type": "display_data"
    }
   ],
   "source": [
    "timeinterval1 = [\"2009-12-20\",\"2009-12-25\"]\n",
    "timeinterval2 = [\"2009-12-15\",\"2009-12-21\"]\n",
    "user1 = 225\n",
    "user2 = 129325\n",
    "data1 = totDataframe[totDataframe.time.between(timeinterval1[0],timeinterval1[1])]\n",
    "data2 = totDataframe[totDataframe.time.between(timeinterval2[0],timeinterval2[1])]\n",
    "data = pd.concat([data1,data2])\n",
    "usera = list(data['user_a'])\n",
    "userb = list(data['user_b'])\n",
    "weight = list(data['weights'])\n",
    "g4 = {}\n",
    "store = []\n",
    "for i in tqdm(range(len(data))):\n",
    "    if usera[i] in store:\n",
    "        g4[usera[i]].append([userb[i],weight[i],0])\n",
    "    else:\n",
    "        store.append(usera[i])\n",
    "        g4[usera[i]] = [False,[userb[i],weight[i],0]]\n",
    "        "
   ]
  },
  {
   "cell_type": "code",
   "execution_count": 3,
   "id": "2995196b",
   "metadata": {},
   "outputs": [],
   "source": [
    "src = 225\n",
    "dest = 129325\n",
    "obj = FordFulkersonAlgorithm(src, dest, g4)\n"
   ]
  },
  {
   "cell_type": "code",
   "execution_count": null,
   "id": "83a255d4-e4e9-4a21-8a4c-df205ef3bf38",
   "metadata": {},
   "outputs": [],
   "source": [
    "print( \"Min Cut Value = \", obj.maximumFlow())"
   ]
  }
 ],
 "metadata": {
  "kernelspec": {
   "display_name": "Python 3 (ipykernel)",
   "language": "python",
   "name": "python3"
  },
  "language_info": {
   "codemirror_mode": {
    "name": "ipython",
    "version": 3
   },
   "file_extension": ".py",
   "mimetype": "text/x-python",
   "name": "python",
   "nbconvert_exporter": "python",
   "pygments_lexer": "ipython3",
   "version": "3.8.12"
  }
 },
 "nbformat": 4,
 "nbformat_minor": 5
}
